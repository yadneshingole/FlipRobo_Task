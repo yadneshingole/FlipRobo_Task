{
 "cells": [
  {
   "cell_type": "markdown",
   "metadata": {},
   "source": [
    "### Q1: Write a python program to scrape data for “Data Analyst” Job position in “Bangalore” location. You have to scrape the job-title, job-location, company_name,experience_required. You have to scrape first 10 jobs data.\n"
   ]
  },
  {
   "cell_type": "code",
   "execution_count": 35,
   "metadata": {},
   "outputs": [],
   "source": [
    "# First we will import all the required libraries\n",
    "import selenium\n",
    "import pandas as pd\n",
    "from selenium import webdriver\n",
    "import time\n",
    "from selenium.common.exceptions import NoSuchElementException"
   ]
  },
  {
   "cell_type": "code",
   "execution_count": 4,
   "metadata": {},
   "outputs": [],
   "source": [
    "#Connecting to the web driver\n",
    "driver=webdriver.Chrome('chromedriver.exe')"
   ]
  },
  {
   "cell_type": "code",
   "execution_count": 5,
   "metadata": {},
   "outputs": [],
   "source": [
    "url='https://www.naukri.com/'\n",
    "driver.get(url)"
   ]
  },
  {
   "cell_type": "code",
   "execution_count": 6,
   "metadata": {},
   "outputs": [
    {
     "data": {
      "text/plain": [
       "<selenium.webdriver.remote.webelement.WebElement (session=\"f963a4ea327c5259758090518f360f18\", element=\"92b27c58-eb4c-4284-b2ad-c23aa2338eff\")>"
      ]
     },
     "execution_count": 6,
     "metadata": {},
     "output_type": "execute_result"
    }
   ],
   "source": [
    "# Finding web element for search box\n",
    "search_job=driver.find_element_by_xpath(\"//input[@class='sugInp']\")\n",
    "search_job"
   ]
  },
  {
   "cell_type": "code",
   "execution_count": 7,
   "metadata": {},
   "outputs": [],
   "source": [
    "# Writing data on web element location\n",
    "search_job.send_keys('Data Analyst')"
   ]
  },
  {
   "cell_type": "code",
   "execution_count": 9,
   "metadata": {},
   "outputs": [
    {
     "data": {
      "text/plain": [
       "<selenium.webdriver.remote.webelement.WebElement (session=\"f963a4ea327c5259758090518f360f18\", element=\"f5845260-d93b-4ce6-9bed-b046758fc9a4\")>"
      ]
     },
     "execution_count": 9,
     "metadata": {},
     "output_type": "execute_result"
    }
   ],
   "source": [
    "# Finding web element for location search box\n",
    "search_location=driver.find_element_by_id(\"qsb-location-sugg\")\n",
    "search_location"
   ]
  },
  {
   "cell_type": "code",
   "execution_count": 10,
   "metadata": {},
   "outputs": [],
   "source": [
    "# Writing data on search location element\n",
    "search_location.send_keys('Banglore')"
   ]
  },
  {
   "cell_type": "code",
   "execution_count": 11,
   "metadata": {},
   "outputs": [
    {
     "data": {
      "text/plain": [
       "<selenium.webdriver.remote.webelement.WebElement (session=\"f963a4ea327c5259758090518f360f18\", element=\"f4cb06d1-1c9d-4029-aa2a-0a1bab110486\")>"
      ]
     },
     "execution_count": 11,
     "metadata": {},
     "output_type": "execute_result"
    }
   ],
   "source": [
    "# Finding web element for search button\n",
    "search_btn=driver.find_element_by_xpath(\"//button[@class='btn']\")\n",
    "search_btn"
   ]
  },
  {
   "cell_type": "code",
   "execution_count": 12,
   "metadata": {},
   "outputs": [],
   "source": [
    "# Clicking on button\n",
    "search_btn.click()"
   ]
  },
  {
   "cell_type": "code",
   "execution_count": 69,
   "metadata": {},
   "outputs": [],
   "source": [
    "# We have to scrap job_title,job_location,company_name and experience required.\n",
    "job_titles=[]\n",
    "company_names=[]\n",
    "location_list=[]\n",
    "experience_list=[]\n"
   ]
  },
  {
   "cell_type": "code",
   "execution_count": 74,
   "metadata": {},
   "outputs": [
    {
     "data": {
      "text/plain": [
       "['Business Data Analyst',\n",
       " 'Business Data Analyst',\n",
       " 'Data Analyst/Business Analyst-Gurgaon/Bangalore/Mumbai (only Females)',\n",
       " 'Business Data Analyst II',\n",
       " 'Data Analyst',\n",
       " 'Data Analyst',\n",
       " 'Systems and Data Analyst, Safety and Provisioning',\n",
       " 'Data Analyst',\n",
       " 'Data Analyst',\n",
       " 'Data Analyst',\n",
       " 'Senior Data Analyst - SQL/Tableau/Redshift',\n",
       " 'Lead Data Analyst',\n",
       " 'Data Analyst',\n",
       " 'Data Analyst _ 2-5 Years _ Bangalore',\n",
       " 'Data Analyst',\n",
       " 'Data Analyst',\n",
       " 'Lead Data Analyst',\n",
       " 'Data Analyst , Product',\n",
       " 'Data Annotator | Data Entry | Work From Home | Data analyst | Data QC',\n",
       " 'Business Analyst - Big Data']"
      ]
     },
     "execution_count": 74,
     "metadata": {},
     "output_type": "execute_result"
    }
   ],
   "source": [
    "# Scrapping first job titles\n",
    "job_title=driver.find_elements_by_xpath(\"//a[@class='title fw500 ellipsis']\")\n",
    "job_title\n",
    "for i in job_title:\n",
    "    job_titles.append(i.text)\n",
    "job_titles"
   ]
  },
  {
   "cell_type": "code",
   "execution_count": 75,
   "metadata": {},
   "outputs": [
    {
     "data": {
      "text/plain": [
       "['Trigent Software',\n",
       " 'Trigent Software',\n",
       " 'India Medtronic Pvt. Ltd,.',\n",
       " 'Infobahn Softworld Inc.',\n",
       " 'WEIWO Communication Pvt. Ltd.',\n",
       " 'GCC SERVICES INDIA PRIVATE LIMITED',\n",
       " 'AECOM India Private Limited',\n",
       " 'Allegis Services India Pvt. Ltd.',\n",
       " 'Allegis Services India Pvt. Ltd.',\n",
       " 'Enzen Global Solutions Pvt. Ltd',\n",
       " 'Pronto Consulting Services',\n",
       " 'Bidgely Technologies Private Limited',\n",
       " 'Infobahn Softworld Inc.',\n",
       " 'Teamware Solutions ( A division of Quantum Leap Co nsulting Private LTD).',\n",
       " 'vLogix Technologies Pvt. Ltd.,',\n",
       " 'Rubixe (A brand under Think Ahead Innovations Pvt Ltd)',\n",
       " 'MediaMath',\n",
       " 'MediaMath',\n",
       " 'saarthi.ai',\n",
       " 'Brillio']"
      ]
     },
     "execution_count": 75,
     "metadata": {},
     "output_type": "execute_result"
    }
   ],
   "source": [
    "#Scrapping company_name\n",
    "company_name=driver.find_elements_by_xpath(\"//a[@class='subTitle ellipsis fleft']\")\n",
    "company_name\n",
    "for i in company_name:\n",
    "    company_names.append(i.text)\n",
    "company_names"
   ]
  },
  {
   "cell_type": "code",
   "execution_count": 76,
   "metadata": {},
   "outputs": [
    {
     "data": {
      "text/plain": [
       "[<selenium.webdriver.remote.webelement.WebElement (session=\"f963a4ea327c5259758090518f360f18\", element=\"6f9924fa-0fe6-440e-b0fc-76e3d611edac\")>,\n",
       " <selenium.webdriver.remote.webelement.WebElement (session=\"f963a4ea327c5259758090518f360f18\", element=\"02999522-5c80-42b5-99a0-1bbf8a0433c6\")>,\n",
       " <selenium.webdriver.remote.webelement.WebElement (session=\"f963a4ea327c5259758090518f360f18\", element=\"3cba0134-e8d4-482c-bbd5-692c0b561bd1\")>,\n",
       " <selenium.webdriver.remote.webelement.WebElement (session=\"f963a4ea327c5259758090518f360f18\", element=\"777f7def-1a75-4588-a79b-fb3f12b0938c\")>,\n",
       " <selenium.webdriver.remote.webelement.WebElement (session=\"f963a4ea327c5259758090518f360f18\", element=\"445a9f1d-62d4-44b5-9426-9d9621ec905c\")>,\n",
       " <selenium.webdriver.remote.webelement.WebElement (session=\"f963a4ea327c5259758090518f360f18\", element=\"56e62d41-3f35-4e0f-944d-eeb7f3706e7e\")>,\n",
       " <selenium.webdriver.remote.webelement.WebElement (session=\"f963a4ea327c5259758090518f360f18\", element=\"0e253f43-cd7c-45be-9575-02ee1ebc35c9\")>,\n",
       " <selenium.webdriver.remote.webelement.WebElement (session=\"f963a4ea327c5259758090518f360f18\", element=\"34872a62-204f-4686-ae7f-ee48b23b2b06\")>,\n",
       " <selenium.webdriver.remote.webelement.WebElement (session=\"f963a4ea327c5259758090518f360f18\", element=\"e40d856e-edd1-4bdb-ad7b-be37cd5a4a13\")>,\n",
       " <selenium.webdriver.remote.webelement.WebElement (session=\"f963a4ea327c5259758090518f360f18\", element=\"88c4fd1e-5be3-473c-bcff-90e38573e7c2\")>,\n",
       " <selenium.webdriver.remote.webelement.WebElement (session=\"f963a4ea327c5259758090518f360f18\", element=\"e21c6ceb-5fb1-4618-a46c-85292c25dd30\")>,\n",
       " <selenium.webdriver.remote.webelement.WebElement (session=\"f963a4ea327c5259758090518f360f18\", element=\"73730224-129e-4c81-b3b2-dbcc74bafbf1\")>,\n",
       " <selenium.webdriver.remote.webelement.WebElement (session=\"f963a4ea327c5259758090518f360f18\", element=\"fe2e3242-e1cf-4c60-8bf8-75e25a843a37\")>,\n",
       " <selenium.webdriver.remote.webelement.WebElement (session=\"f963a4ea327c5259758090518f360f18\", element=\"0f490210-1353-4123-8da1-ac3ef3e151b0\")>,\n",
       " <selenium.webdriver.remote.webelement.WebElement (session=\"f963a4ea327c5259758090518f360f18\", element=\"aaf9ac86-e5d1-47d3-a2e7-ba1149fb84b5\")>,\n",
       " <selenium.webdriver.remote.webelement.WebElement (session=\"f963a4ea327c5259758090518f360f18\", element=\"5370a605-8114-4680-8b22-b7461758d4e1\")>,\n",
       " <selenium.webdriver.remote.webelement.WebElement (session=\"f963a4ea327c5259758090518f360f18\", element=\"c968a1bc-edb4-47e9-9ceb-b3ff82ce608d\")>,\n",
       " <selenium.webdriver.remote.webelement.WebElement (session=\"f963a4ea327c5259758090518f360f18\", element=\"298535a0-35a4-4a8f-a4bb-95026fc9e576\")>,\n",
       " <selenium.webdriver.remote.webelement.WebElement (session=\"f963a4ea327c5259758090518f360f18\", element=\"4861c018-6538-43e6-8ccd-60d304dc9a55\")>,\n",
       " <selenium.webdriver.remote.webelement.WebElement (session=\"f963a4ea327c5259758090518f360f18\", element=\"08098c5a-17e4-48b5-981f-c36f6c489fd4\")>]"
      ]
     },
     "execution_count": 76,
     "metadata": {},
     "output_type": "execute_result"
    }
   ],
   "source": [
    "#Scrapping job location\n",
    "job_location=driver.find_elements_by_xpath(\"//li[@class='fleft grey-text br2 placeHolderLi location']//span[1]\")\n",
    "job_location"
   ]
  },
  {
   "cell_type": "code",
   "execution_count": 77,
   "metadata": {
    "scrolled": false
   },
   "outputs": [
    {
     "data": {
      "text/plain": [
       "['Bangalore/Bengaluru',\n",
       " 'Bangalore/Bengaluru',\n",
       " 'Gurgaon/Gurugram, Bangalore/Bengaluru, Mumbai (All Areas)',\n",
       " 'Bangalore/Bengaluru',\n",
       " 'Bangalore/Bengaluru(Ulsoor)',\n",
       " 'Bangalore/Bengaluru',\n",
       " 'Bangalore/Bengaluru',\n",
       " 'Bangalore/Bengaluru',\n",
       " 'Bangalore/Bengaluru',\n",
       " 'Bangalore/Bengaluru',\n",
       " 'Noida, Mumbai, Indore, Hyderabad/Secunderabad, Pune, Chennai, Bangalore/Bengaluru',\n",
       " 'United States (USA), Bangalore/Bengaluru',\n",
       " 'Bangalore/Bengaluru',\n",
       " 'Bangalore/Bengaluru',\n",
       " 'Chennai, Bangalore/Bengaluru',\n",
       " 'Bangalore/Bengaluru',\n",
       " 'Bangalore/Bengaluru',\n",
       " 'Bangalore/Bengaluru',\n",
       " 'Bangalore/Bengaluru',\n",
       " 'Bangalore/Bengaluru']"
      ]
     },
     "execution_count": 77,
     "metadata": {},
     "output_type": "execute_result"
    }
   ],
   "source": [
    "location_list=[]\n",
    "for i in job_location:\n",
    "    location_list.append(i.text)\n",
    "location_list"
   ]
  },
  {
   "cell_type": "code",
   "execution_count": 78,
   "metadata": {},
   "outputs": [
    {
     "data": {
      "text/plain": [
       "[<selenium.webdriver.remote.webelement.WebElement (session=\"f963a4ea327c5259758090518f360f18\", element=\"433d1ac6-85c6-404a-a806-ce7b6c6df84a\")>,\n",
       " <selenium.webdriver.remote.webelement.WebElement (session=\"f963a4ea327c5259758090518f360f18\", element=\"6537d04a-a62c-45a9-bba8-091c616249b4\")>,\n",
       " <selenium.webdriver.remote.webelement.WebElement (session=\"f963a4ea327c5259758090518f360f18\", element=\"670e07ec-f4a9-437a-9cbb-2c770c69c43d\")>,\n",
       " <selenium.webdriver.remote.webelement.WebElement (session=\"f963a4ea327c5259758090518f360f18\", element=\"2a0b59c7-3936-4fce-a399-0c8bff226d56\")>,\n",
       " <selenium.webdriver.remote.webelement.WebElement (session=\"f963a4ea327c5259758090518f360f18\", element=\"154bc1cb-3597-447d-9650-7ef854132286\")>,\n",
       " <selenium.webdriver.remote.webelement.WebElement (session=\"f963a4ea327c5259758090518f360f18\", element=\"fd6f91b8-fb07-4220-b016-14b06f3680f9\")>,\n",
       " <selenium.webdriver.remote.webelement.WebElement (session=\"f963a4ea327c5259758090518f360f18\", element=\"f479588f-6f7c-41a0-bf9a-bb809f9c9178\")>,\n",
       " <selenium.webdriver.remote.webelement.WebElement (session=\"f963a4ea327c5259758090518f360f18\", element=\"a5445f31-3c9e-4ad5-b6e1-005e3cb3af56\")>,\n",
       " <selenium.webdriver.remote.webelement.WebElement (session=\"f963a4ea327c5259758090518f360f18\", element=\"03addf07-f496-4c24-b10f-258369171fda\")>,\n",
       " <selenium.webdriver.remote.webelement.WebElement (session=\"f963a4ea327c5259758090518f360f18\", element=\"9ebb0422-5e18-41f4-a14e-f262d49d8923\")>,\n",
       " <selenium.webdriver.remote.webelement.WebElement (session=\"f963a4ea327c5259758090518f360f18\", element=\"684bc792-37ae-4776-ad6b-080f1553afcf\")>,\n",
       " <selenium.webdriver.remote.webelement.WebElement (session=\"f963a4ea327c5259758090518f360f18\", element=\"eb597df4-7932-43d9-99f9-2e576ab2dde5\")>,\n",
       " <selenium.webdriver.remote.webelement.WebElement (session=\"f963a4ea327c5259758090518f360f18\", element=\"eddda4db-a3a7-4004-99d8-a50293f54e44\")>,\n",
       " <selenium.webdriver.remote.webelement.WebElement (session=\"f963a4ea327c5259758090518f360f18\", element=\"9c738a63-e20e-4c7c-9494-cae4ceb6dfa4\")>,\n",
       " <selenium.webdriver.remote.webelement.WebElement (session=\"f963a4ea327c5259758090518f360f18\", element=\"5fde0dcc-3e58-4a60-939b-b964abd7b058\")>,\n",
       " <selenium.webdriver.remote.webelement.WebElement (session=\"f963a4ea327c5259758090518f360f18\", element=\"d5546ba1-af6c-46f6-9253-0ecc21f49232\")>,\n",
       " <selenium.webdriver.remote.webelement.WebElement (session=\"f963a4ea327c5259758090518f360f18\", element=\"71458efd-a27c-40d2-bdac-ce514c875ca7\")>,\n",
       " <selenium.webdriver.remote.webelement.WebElement (session=\"f963a4ea327c5259758090518f360f18\", element=\"c0d8a82c-314b-43b6-b350-0bee1863cd2c\")>,\n",
       " <selenium.webdriver.remote.webelement.WebElement (session=\"f963a4ea327c5259758090518f360f18\", element=\"416a3d67-f615-4776-b1c2-440d13ee8a84\")>,\n",
       " <selenium.webdriver.remote.webelement.WebElement (session=\"f963a4ea327c5259758090518f360f18\", element=\"ba297329-f217-44ce-bb64-6d7ea0d75030\")>]"
      ]
     },
     "execution_count": 78,
     "metadata": {},
     "output_type": "execute_result"
    }
   ],
   "source": [
    "experience_tag=driver.find_elements_by_xpath(\"//li[@class='fleft grey-text br2 placeHolderLi experience']//span\")\n",
    "experience_tag"
   ]
  },
  {
   "cell_type": "code",
   "execution_count": 79,
   "metadata": {},
   "outputs": [
    {
     "data": {
      "text/plain": [
       "['3-5 Yrs',\n",
       " '3-5 Yrs',\n",
       " '1-4 Yrs',\n",
       " '5-8 Yrs',\n",
       " '4-8 Yrs',\n",
       " '5-9 Yrs',\n",
       " '3-5 Yrs',\n",
       " '2-5 Yrs',\n",
       " '3-5 Yrs',\n",
       " '6-8 Yrs',\n",
       " '6-10 Yrs',\n",
       " '5-10 Yrs',\n",
       " '3-9 Yrs',\n",
       " '2-5 Yrs',\n",
       " '8-12 Yrs',\n",
       " '2-6 Yrs',\n",
       " '8-13 Yrs',\n",
       " '4-9 Yrs',\n",
       " '0-2 Yrs',\n",
       " '2-5 Yrs']"
      ]
     },
     "execution_count": 79,
     "metadata": {},
     "output_type": "execute_result"
    }
   ],
   "source": [
    "experience_list.clear()\n",
    "for i in experience_tag:\n",
    "    experience_list.append(i.text)\n",
    "experience_list"
   ]
  },
  {
   "cell_type": "code",
   "execution_count": 80,
   "metadata": {},
   "outputs": [
    {
     "name": "stdout",
     "output_type": "stream",
     "text": [
      "20 20 20 20\n"
     ]
    }
   ],
   "source": [
    "#checking length of all list to form dataframe\n",
    "print(len(job_titles),len(company_names),len(experience_list),len(location_list))"
   ]
  },
  {
   "cell_type": "code",
   "execution_count": 85,
   "metadata": {},
   "outputs": [
    {
     "data": {
      "text/html": [
       "<div>\n",
       "<style scoped>\n",
       "    .dataframe tbody tr th:only-of-type {\n",
       "        vertical-align: middle;\n",
       "    }\n",
       "\n",
       "    .dataframe tbody tr th {\n",
       "        vertical-align: top;\n",
       "    }\n",
       "\n",
       "    .dataframe thead th {\n",
       "        text-align: right;\n",
       "    }\n",
       "</style>\n",
       "<table border=\"1\" class=\"dataframe\">\n",
       "  <thead>\n",
       "    <tr style=\"text-align: right;\">\n",
       "      <th></th>\n",
       "      <th>Job_title</th>\n",
       "      <th>Company_Name</th>\n",
       "      <th>Job_locaion</th>\n",
       "      <th>Experience</th>\n",
       "    </tr>\n",
       "  </thead>\n",
       "  <tbody>\n",
       "    <tr>\n",
       "      <th>1</th>\n",
       "      <td>Business Data Analyst</td>\n",
       "      <td>Trigent Software</td>\n",
       "      <td>Bangalore/Bengaluru</td>\n",
       "      <td>3-5 Yrs</td>\n",
       "    </tr>\n",
       "    <tr>\n",
       "      <th>2</th>\n",
       "      <td>Business Data Analyst</td>\n",
       "      <td>Trigent Software</td>\n",
       "      <td>Bangalore/Bengaluru</td>\n",
       "      <td>3-5 Yrs</td>\n",
       "    </tr>\n",
       "    <tr>\n",
       "      <th>3</th>\n",
       "      <td>Data Analyst/Business Analyst-Gurgaon/Bangalor...</td>\n",
       "      <td>India Medtronic Pvt. Ltd,.</td>\n",
       "      <td>Gurgaon/Gurugram, Bangalore/Bengaluru, Mumbai ...</td>\n",
       "      <td>1-4 Yrs</td>\n",
       "    </tr>\n",
       "    <tr>\n",
       "      <th>4</th>\n",
       "      <td>Business Data Analyst II</td>\n",
       "      <td>Infobahn Softworld Inc.</td>\n",
       "      <td>Bangalore/Bengaluru</td>\n",
       "      <td>5-8 Yrs</td>\n",
       "    </tr>\n",
       "    <tr>\n",
       "      <th>5</th>\n",
       "      <td>Data Analyst</td>\n",
       "      <td>WEIWO Communication Pvt. Ltd.</td>\n",
       "      <td>Bangalore/Bengaluru(Ulsoor)</td>\n",
       "      <td>4-8 Yrs</td>\n",
       "    </tr>\n",
       "    <tr>\n",
       "      <th>6</th>\n",
       "      <td>Data Analyst</td>\n",
       "      <td>GCC SERVICES INDIA PRIVATE LIMITED</td>\n",
       "      <td>Bangalore/Bengaluru</td>\n",
       "      <td>5-9 Yrs</td>\n",
       "    </tr>\n",
       "    <tr>\n",
       "      <th>7</th>\n",
       "      <td>Systems and Data Analyst, Safety and Provisioning</td>\n",
       "      <td>AECOM India Private Limited</td>\n",
       "      <td>Bangalore/Bengaluru</td>\n",
       "      <td>3-5 Yrs</td>\n",
       "    </tr>\n",
       "    <tr>\n",
       "      <th>8</th>\n",
       "      <td>Data Analyst</td>\n",
       "      <td>Allegis Services India Pvt. Ltd.</td>\n",
       "      <td>Bangalore/Bengaluru</td>\n",
       "      <td>2-5 Yrs</td>\n",
       "    </tr>\n",
       "    <tr>\n",
       "      <th>9</th>\n",
       "      <td>Data Analyst</td>\n",
       "      <td>Allegis Services India Pvt. Ltd.</td>\n",
       "      <td>Bangalore/Bengaluru</td>\n",
       "      <td>3-5 Yrs</td>\n",
       "    </tr>\n",
       "    <tr>\n",
       "      <th>10</th>\n",
       "      <td>Data Analyst</td>\n",
       "      <td>Enzen Global Solutions Pvt. Ltd</td>\n",
       "      <td>Bangalore/Bengaluru</td>\n",
       "      <td>6-8 Yrs</td>\n",
       "    </tr>\n",
       "  </tbody>\n",
       "</table>\n",
       "</div>"
      ],
      "text/plain": [
       "                                            Job_title  \\\n",
       "1                               Business Data Analyst   \n",
       "2                               Business Data Analyst   \n",
       "3   Data Analyst/Business Analyst-Gurgaon/Bangalor...   \n",
       "4                            Business Data Analyst II   \n",
       "5                                        Data Analyst   \n",
       "6                                        Data Analyst   \n",
       "7   Systems and Data Analyst, Safety and Provisioning   \n",
       "8                                        Data Analyst   \n",
       "9                                        Data Analyst   \n",
       "10                                       Data Analyst   \n",
       "\n",
       "                          Company_Name  \\\n",
       "1                     Trigent Software   \n",
       "2                     Trigent Software   \n",
       "3           India Medtronic Pvt. Ltd,.   \n",
       "4              Infobahn Softworld Inc.   \n",
       "5        WEIWO Communication Pvt. Ltd.   \n",
       "6   GCC SERVICES INDIA PRIVATE LIMITED   \n",
       "7          AECOM India Private Limited   \n",
       "8     Allegis Services India Pvt. Ltd.   \n",
       "9     Allegis Services India Pvt. Ltd.   \n",
       "10     Enzen Global Solutions Pvt. Ltd   \n",
       "\n",
       "                                          Job_locaion Experience  \n",
       "1                                 Bangalore/Bengaluru    3-5 Yrs  \n",
       "2                                 Bangalore/Bengaluru    3-5 Yrs  \n",
       "3   Gurgaon/Gurugram, Bangalore/Bengaluru, Mumbai ...    1-4 Yrs  \n",
       "4                                 Bangalore/Bengaluru    5-8 Yrs  \n",
       "5                         Bangalore/Bengaluru(Ulsoor)    4-8 Yrs  \n",
       "6                                 Bangalore/Bengaluru    5-9 Yrs  \n",
       "7                                 Bangalore/Bengaluru    3-5 Yrs  \n",
       "8                                 Bangalore/Bengaluru    2-5 Yrs  \n",
       "9                                 Bangalore/Bengaluru    3-5 Yrs  \n",
       "10                                Bangalore/Bengaluru    6-8 Yrs  "
      ]
     },
     "execution_count": 85,
     "metadata": {},
     "output_type": "execute_result"
    }
   ],
   "source": [
    "# Creating DataFrame to store first 10 results\n",
    "import numpy as np\n",
    "df=pd.DataFrame({})\n",
    "df['Job_title']=job_titles[0:10]\n",
    "df['Company_Name']=company_names[0:10]\n",
    "df['Job_locaion']=location_list[0:10]\n",
    "df['Experience']=experience_list[0:10]\n",
    "df.index=np.arange(1,len(job_titles[0:10])+1)\n",
    "df"
   ]
  },
  {
   "cell_type": "markdown",
   "metadata": {},
   "source": [
    "### Q2: Write a python program to scrape data for “Data Scientist” Job position in “Bangalore” location. You have to scrape the job-title, job-location,company_name, full job-description. You have to scrape first 10 jobs data."
   ]
  },
  {
   "cell_type": "code",
   "execution_count": 428,
   "metadata": {},
   "outputs": [],
   "source": [
    "#Connecting to the web driver\n",
    "driver=webdriver.Chrome('chromedriver.exe')"
   ]
  },
  {
   "cell_type": "code",
   "execution_count": 429,
   "metadata": {},
   "outputs": [],
   "source": [
    "url='https://www.naukri.com/'\n",
    "driver.get(url)"
   ]
  },
  {
   "cell_type": "code",
   "execution_count": 430,
   "metadata": {},
   "outputs": [
    {
     "data": {
      "text/plain": [
       "<selenium.webdriver.remote.webelement.WebElement (session=\"cdf17bad864e19c7bb83dd1f67e0c07f\", element=\"7944cb61-6e7a-42ef-984e-e9f4941376f3\")>"
      ]
     },
     "execution_count": 430,
     "metadata": {},
     "output_type": "execute_result"
    }
   ],
   "source": [
    "# Finding web element for search box\n",
    "search_job=driver.find_element_by_xpath(\"//input[@class='sugInp']\")\n",
    "search_job"
   ]
  },
  {
   "cell_type": "code",
   "execution_count": 431,
   "metadata": {},
   "outputs": [],
   "source": [
    "# Writing data on web element location\n",
    "search_job.send_keys('Data Scientist')"
   ]
  },
  {
   "cell_type": "code",
   "execution_count": 432,
   "metadata": {},
   "outputs": [
    {
     "data": {
      "text/plain": [
       "<selenium.webdriver.remote.webelement.WebElement (session=\"cdf17bad864e19c7bb83dd1f67e0c07f\", element=\"9df592a2-faeb-4c60-baba-278f7a72a9b8\")>"
      ]
     },
     "execution_count": 432,
     "metadata": {},
     "output_type": "execute_result"
    }
   ],
   "source": [
    "# Finding web element for location search box\n",
    "search_location=driver.find_element_by_id(\"qsb-location-sugg\")\n",
    "search_location"
   ]
  },
  {
   "cell_type": "code",
   "execution_count": 433,
   "metadata": {},
   "outputs": [],
   "source": [
    "# Writing data on search location element\n",
    "search_location.send_keys('Banglore')"
   ]
  },
  {
   "cell_type": "code",
   "execution_count": 434,
   "metadata": {},
   "outputs": [
    {
     "data": {
      "text/plain": [
       "<selenium.webdriver.remote.webelement.WebElement (session=\"cdf17bad864e19c7bb83dd1f67e0c07f\", element=\"c2e575c1-cdd4-40a3-9109-eb52887f0ec1\")>"
      ]
     },
     "execution_count": 434,
     "metadata": {},
     "output_type": "execute_result"
    }
   ],
   "source": [
    "search_btn=driver.find_element_by_xpath(\"//button[@class='btn']\")\n",
    "search_btn"
   ]
  },
  {
   "cell_type": "code",
   "execution_count": 435,
   "metadata": {},
   "outputs": [],
   "source": [
    "# Clicking on button\n",
    "search_btn.click()"
   ]
  },
  {
   "cell_type": "code",
   "execution_count": 436,
   "metadata": {},
   "outputs": [
    {
     "data": {
      "text/plain": [
       "['Evalueserve.com Pvt. Ltd',\n",
       " 'IBM India Pvt. Limited',\n",
       " 'Superior Group',\n",
       " 'IBM India Pvt. Limited',\n",
       " 'SMITHS DETECTION SYSTEMS PRIVATE LIMITED',\n",
       " 'Cognizer India Private Limited',\n",
       " 'Zycus Infotech Pvt Ltd',\n",
       " 'TransOrg Solutions Services (P) Ltd.',\n",
       " 'Confidential',\n",
       " 'TalentCo Search Pvt Ltd']"
      ]
     },
     "execution_count": 436,
     "metadata": {},
     "output_type": "execute_result"
    }
   ],
   "source": [
    "#Scrapping company_name\n",
    "company_names=[]\n",
    "company_name=driver.find_elements_by_xpath(\"//a[@class='subTitle ellipsis fleft']\")\n",
    "company_name\n",
    "for i in company_name:\n",
    "    company_names.append(i.text)\n",
    "company_names[0:10]"
   ]
  },
  {
   "cell_type": "code",
   "execution_count": 437,
   "metadata": {},
   "outputs": [
    {
     "data": {
      "text/plain": [
       "['Gurgaon/Gurugram, Bangalore/Bengaluru',\n",
       " 'Bangalore/Bengaluru',\n",
       " 'Bangalore/Bengaluru',\n",
       " 'Bangalore/Bengaluru',\n",
       " 'Bangalore/Bengaluru',\n",
       " 'Bangalore/Bengaluru',\n",
       " 'Bangalore/Bengaluru',\n",
       " 'Bangalore/Bengaluru, Delhi / NCR, Mumbai (All Areas)',\n",
       " 'Bangalore/Bengaluru, Delhi / NCR',\n",
       " 'Mumbai, Bangalore/Bengaluru, Delhi / NCR']"
      ]
     },
     "execution_count": 437,
     "metadata": {},
     "output_type": "execute_result"
    }
   ],
   "source": [
    "#Scrapping job location\n",
    "job_location=driver.find_elements_by_xpath(\"//li[@class='fleft grey-text br2 placeHolderLi location']//span[1]\")\n",
    "job_location\n",
    "location_list=[]\n",
    "for i in job_location:\n",
    "    location_list.append(i.text)\n",
    "location_list[0:10]"
   ]
  },
  {
   "cell_type": "code",
   "execution_count": 438,
   "metadata": {},
   "outputs": [],
   "source": [
    "#Fetching urls\n",
    "urls=[]\n",
    "for i in driver.find_elements_by_xpath(\"//a[@class='title fw500 ellipsis']\"):\n",
    "    urls.append(i.get_attribute(\"href\"))\n"
   ]
  },
  {
   "cell_type": "code",
   "execution_count": 439,
   "metadata": {},
   "outputs": [
    {
     "data": {
      "text/plain": [
       "20"
      ]
     },
     "execution_count": 439,
     "metadata": {},
     "output_type": "execute_result"
    }
   ],
   "source": [
    "len(urls)"
   ]
  },
  {
   "cell_type": "code",
   "execution_count": 440,
   "metadata": {},
   "outputs": [
    {
     "data": {
      "text/plain": [
       "['https://www.naukri.com/job-listings-data-scientist-senior-business-analyst-lead-analyst-evalueserve-com-pvt-ltd-gurgaon-gurugram-bangalore-bengaluru-2-to-7-years-110821005065?src=jobsearchDesk&sid=16287714432882299&xp=1&px=1',\n",
       " 'https://www.naukri.com/job-listings-lead-data-scientist-retail-industry-ibm-india-pvt-limited-bangalore-bengaluru-7-to-10-years-100821908363?src=jobsearchDesk&sid=16287714432882299&xp=2&px=1',\n",
       " 'https://www.naukri.com/job-listings-senior-lead-data-scientist-superior-group-bangalore-bengaluru-6-to-11-years-100821500375?src=jobsearchDesk&sid=16287714432882299&xp=3&px=1',\n",
       " 'https://www.naukri.com/job-listings-data-scientist-advanced-analytics-ibm-india-pvt-limited-bangalore-bengaluru-5-to-10-years-110821906281?src=jobsearchDesk&sid=16287714432882299&xp=4&px=1',\n",
       " 'https://www.naukri.com/job-listings-senior-data-scientist-smiths-detection-systems-private-limited-bangalore-bengaluru-8-to-10-years-260721903257?src=jobsearchDesk&sid=16287714432882299&xp=5&px=1',\n",
       " 'https://www.naukri.com/job-listings-senior-data-scientist-cognizer-india-private-limited-bangalore-bengaluru-5-to-10-years-100821001616?src=jobsearchDesk&sid=16287714432882299&xp=6&px=1',\n",
       " 'https://www.naukri.com/job-listings-lead-data-scientist-zycus-infotech-pvt-ltd-bangalore-bengaluru-14-to-16-years-100821906533?src=jobsearchDesk&sid=16287714432882299&xp=7&px=1',\n",
       " 'https://www.naukri.com/job-listings-lead-data-scientist-transorg-solutions-services-p-ltd-bangalore-bengaluru-delhi-ncr-mumbai-all-areas-4-to-6-years-160721005471?src=jobsearchDesk&sid=16287714432882299&xp=8&px=1',\n",
       " 'https://www.naukri.com/job-listings-senior-data-scientist-tech-lead-data-science-confidential-bangalore-bengaluru-delhi-ncr-6-to-9-years-100821906281?src=jobsearchDesk&sid=16287714432882299&xp=9&px=1',\n",
       " 'https://www.naukri.com/job-listings-senior-data-scientist-kpo-talentco-search-pvt-ltd-mumbai-bangalore-bengaluru-delhi-ncr-6-to-10-years-110821908145?src=jobsearchDesk&sid=16287714432882299&xp=10&px=1',\n",
       " 'https://www.naukri.com/job-listings-data-scientist-travel-centric-technology-bangalore-bengaluru-6-to-11-years-110821500209?src=jobsearchDesk&sid=16287714432882299&xp=11&px=1',\n",
       " 'https://www.naukri.com/job-listings-data-scientist-cignex-datamatics-technologies-limited-bangalore-bengaluru-7-to-12-years-120821005670?src=jobsearchDesk&sid=16287714432882299&xp=12&px=1',\n",
       " 'https://www.naukri.com/job-listings-data-scientist-natural-language-processing-hyderabad-location-clifford-chance-business-services-private-limited-hyderabad-secunderabad-pune-chennai-bangalore-bengaluru-5-to-10-years-120821000435?src=jobsearchDesk&sid=16287714432882299&xp=13&px=1',\n",
       " 'https://www.naukri.com/job-listings-looking-for-data-scientist-for-chennai-location-intelizign-engineering-services-pvt-ltd-hyderabad-secunderabad-chennai-bangalore-bengaluru-3-to-7-years-110821004891?src=jobsearchDesk&sid=16287714432882299&xp=14&px=1',\n",
       " 'https://www.naukri.com/job-listings-data-scientist-elpis-it-solutions-pvt-ltd-bangalore-bengaluru-3-to-8-years-120821005878?src=jobsearchDesk&sid=16287714432882299&xp=15&px=1',\n",
       " 'https://www.naukri.com/job-listings-data-scientist-cognizant-technology-solutions-india-pvt-ltd-chennai-bangalore-bengaluru-10-to-12-years-090821904407?src=jobsearchDesk&sid=16287714432882299&xp=16&px=1',\n",
       " 'https://www.naukri.com/job-listings-data-scientist-artificial-intelligence-ibm-india-pvt-limited-bangalore-bengaluru-4-to-6-years-110821906941?src=jobsearchDesk&sid=16287714432882299&xp=17&px=1',\n",
       " 'https://www.naukri.com/job-listings-data-scientist-advanced-analytics-ibm-india-pvt-limited-bangalore-bengaluru-4-to-8-years-110821906897?src=jobsearchDesk&sid=16287714432882299&xp=18&px=1',\n",
       " 'https://www.naukri.com/job-listings-data-scientist-artificial-intelligence-ibm-india-pvt-limited-bangalore-bengaluru-4-to-8-years-110821906005?src=jobsearchDesk&sid=16287714432882299&xp=19&px=1',\n",
       " 'https://www.naukri.com/job-listings-data-scientist-oracle-india-pvt-ltd-bangalore-bengaluru-6-to-10-years-190521008276?src=jobsearchDesk&sid=16287714432882299&xp=20&px=1']"
      ]
     },
     "execution_count": 440,
     "metadata": {},
     "output_type": "execute_result"
    }
   ],
   "source": [
    "urls"
   ]
  },
  {
   "cell_type": "code",
   "execution_count": 441,
   "metadata": {},
   "outputs": [],
   "source": [
    "job_title=[]\n",
    "job_description=[]"
   ]
  },
  {
   "cell_type": "code",
   "execution_count": 442,
   "metadata": {
    "scrolled": true
   },
   "outputs": [],
   "source": [
    "# Scrapping first job titles\n",
    "for i in urls:\n",
    "    driver.get(i)\n",
    "    time.sleep(0.1)\n",
    "    # Fetching job title\n",
    "    try:\n",
    "        job=driver.find_element_by_xpath(\"//h1[@class='jd-header-title']\")\n",
    "        job_title.append(job.text.replace(\"/n\",\"new line\"))\n",
    "    except:\n",
    "        job_title.append('-')\n",
    "        \n",
    "    # Fetching job description\n",
    "    try:\n",
    "        job_desc=driver.find_element_by_xpath(\"//section[@class='job-desc']\")\n",
    "        job_description.append(job_desc.text.replace(\"/n\",\"new line\"))\n",
    "    except:\n",
    "        job_description.append('-')\n",
    "\n",
    "    "
   ]
  },
  {
   "cell_type": "code",
   "execution_count": 443,
   "metadata": {},
   "outputs": [
    {
     "name": "stdout",
     "output_type": "stream",
     "text": [
      "20\n",
      "20\n"
     ]
    }
   ],
   "source": [
    "print(len(job_title))\n",
    "print(len(job_description))"
   ]
  },
  {
   "cell_type": "code",
   "execution_count": 444,
   "metadata": {},
   "outputs": [
    {
     "data": {
      "text/plain": [
       "['Data Scientist- Senior Business Analyst/Lead Analyst',\n",
       " '-',\n",
       " 'Senior/ Lead Data Scientist',\n",
       " '-',\n",
       " '-',\n",
       " 'Senior Data Scientist',\n",
       " 'Lead Data Scientist',\n",
       " 'Lead Data Scientist',\n",
       " 'Senior Data Scientist / Tech Lead - Data Science',\n",
       " 'Senior Data Scientist - KPO',\n",
       " 'Data Scientist',\n",
       " 'Data Scientist',\n",
       " 'Data Scientist- Natural Language Processing (Hyderabad Location)',\n",
       " 'Looking For Data Scientist For Chennai Location',\n",
       " 'Data Scientist',\n",
       " 'Data Scientist',\n",
       " '-',\n",
       " '-',\n",
       " '-',\n",
       " '-']"
      ]
     },
     "execution_count": 444,
     "metadata": {},
     "output_type": "execute_result"
    }
   ],
   "source": [
    "job_title"
   ]
  },
  {
   "cell_type": "code",
   "execution_count": 445,
   "metadata": {},
   "outputs": [
    {
     "data": {
      "text/plain": [
       "['Job description\\nJob Description\\nUnderstand and design analytical solutions to business problems leveraging data science\\nUnderstand and get requirements from Stakeholders\\nPropose and execute solutions and present deliverables to stakeholders\\nManage and optimize deliverables\\nMentor and train new team members\\nDevelop POCs to enhance the teams capability\\n\\nRequirements\\nUnderstanding of mathematical, statistical, and theoretical foundations of statistics and machine learning (ML) and parametric and non-parametric models\\nKnowledge of advanced data mining techniques, curating, processing, and transforming data to produce datasets\\nUse statistical techniques and ML methods for predictive modeling / classification of problems around clients, distribution, sales, marketing, client profiles, and segmentation\\nProvide relevant and actionable recommendations / insights for businesses\\nUnderstanding of ML lifecycle that includes feature engineering, training, validation, scaling, deployment, scoring, monitoring, and feedback loop\\nExpertise in SAS Visual Analytics, Tableau, and Python\\nExpert in Python / R / SAS\\nExperience with cloud computing infrastructure, such as AWS / Azure / GCP\\nAble to develop, test, and deploy models on cloud / web\\n\\nEducation and Experience\\nBE / B.Tech. / MBA / M.Stat. / M.SC. or equivalent degree in Quant. from a reputed institute\\n2-8 years of relevant experience\\n\\nRoleBusiness Analyst\\nIndustry TypeAnalytics / KPO / Research\\nFunctional AreaAnalytics & Business Intelligence\\nEmployment TypeFull Time, Permanent\\nRole CategoryAnalytics & BI\\nEducation\\nUG :B.Tech/B.E. in Any Specialization\\nKey Skills\\nPredictive ModelingData ScienceRMarketing Mix ModelingData MiningMarketing AnalyticsMachine LearningPythonSales Analytics',\n",
       " '-',\n",
       " 'Job description\\nProvide advanced analytical capabilities to support data science initiatives\\nSolves highly complex problems that do not yet have solutions in the research and span much of the Data Science portfolio\\nInfluences the thought process and methodology for other team members\\nJob Requirements\\nSkill seet required:\\n6+ years of experience in analytics AND 2 years of programming experience (Python, Java, Scala, Rust, etc.)\\n3 years of experience performing predictive analytics at a large scale enterprise\\n3 years of experience in data science or advanced analytics in industry\\nSQL Experience\\nExperience using multiple data systems and sources (such as Hadoop, Spark, Aster, Teradata, etc.)\\nRoleTeam Lead/Technical Lead\\nIndustry TypeRecruitment / Staffing\\nFunctional AreaIT Software - Application Programming, Maintenance\\nEmployment TypeFull Time, Permanent\\nRole CategoryProgramming & Design\\nEducation\\nUG :B.Tech/B.E. in Any Specialization\\nPG :Any Postgraduate\\nKey Skills\\nadvanced analyticsdata scienceAnalyticalSCALALeadTeradataPredictive analyticsLead managementSQLPython',\n",
       " '-',\n",
       " '-',\n",
       " 'Job description\\n\\nRoles and Responsibilities\\nStrong in problem solving, algorithms and data structures\\nProficient in Python\\nHands on experience in technologies and tools related NLP, Deep learning, Machine learning\\nExperience on Conversational AI is a plus\\nAble to train and deploy models. Hands on experience on multi gpu/ tpu training\\nBroad knowledge of machine learning algorithms and principles\\nPerformance profiling and Tuning\\nCommunicate and propose solutions to business challenges\\nFamiliarity with at least one of the cloud computing infrastructure - GCP/AWS\\nKeep abreast with the latest technological advances\\nTeam mentoring and leadership skills\\n\\nDesired Candidate Profile\\n\\nNo. of opening: 01\\nExperience Required : 05 years and above\\nEducational Qualification: B.E/ B.Tech from Top Tier institutes ( IIT, BITS and NITs)\\nExperience with Product company\\nMust be interested to work in a fast pace startup culture\\n\\nPerks and Benefits\\nMedical coverage for Self and Family\\nProvident Fund\\nStock Options\\nLearning Program\\n\\nRoleR&D Executive\\nIndustry TypeIT Services & Consulting\\nFunctional AreaEngineering Design, R&D\\nEmployment TypeFull Time, Permanent\\nRole CategoryR&D\\nEducation\\nUG :B.Tech/B.E. in Computers\\nKey Skills\\nNLPDeep LearningPython\\nAlgorithmsCloud ComputingGCPArtificial IntelligenceData StructuresNatural Language ProcessingMachine LearningAWS\\nSkills highlighted with ‘‘ are preferred keyskills',\n",
       " 'Job description\\nZycus is looking for applicants with a strong background in Analytics and Data mining (Web, Social and Big data), Machine Learning, Pattern Recognition, Natural Language Processing, Computational Linguistics, Statistical Modelling, Inferencing, Information Retrieval, Large Scale Distributed Systems, Cloud Computing, Econometrics, Quantitative Marketing, Applied Game Theory, Mechanism Design, Operations Research, Optimization, Human Computer Interaction and Information Visualization. Applicants with a background in other quantitative areas are also encouraged to apply.\\n\\nWe are looking for someone who can create and implement AI solutions. If you have built a product like IBM WATSON in the past and not just used WATSON to build applications, this could be the perfect role for you.\\n\\nAll successful candidates are expected to dive deep into problem areas of Zycus interest and invent technology solutions to not only advance the current products, but also to generate new product options that can strategically advantage the organization.\\n\\nRoles & Responsibilities:\\nAct as a technical thought leader in collaboration with the analytics leadership team, helping to set the strategy and standards for Machine Learning and advanced analytics\\nWork with senior leaders from all functions to explore opportunities for using advance analytics\\nProvide technical leadership, coaching, and mentoring to talented data scientists and analytics professionals\\nGuide data scientists in the use of advanced statistical, machine learning, and artificial intelligence methodologies\\nGuide the work of other Machine learning team members to provide support and assistance, while also ensuring quality\\n\\nRequirements\\n\\nSkills:\\nExperience in predictive modelling and predictive software development\\nSkilled at Java, C++, Perl/Python (or similar scripting languages)\\nExperience in using R, Matlab, or any other statistical software\\nExperience in mentoring junior team members, and guiding them on machine learning and data modelling applications\\nStrong communication and data presentation skills\\nClassification (svm, decision tree, random forest, neural network)\\nRegression (linear, polynomial, logistic, etc)\\nClassical Optimization(gradient descent, newton raphson, etc)\\nGraph theory (network analytics)\\nHeuristic Optimisation (genetic algorithm, swarm theory)\\nDeep learning (lstm, convolutional nn, recurrent nn)\\n\\nMust Have:\\nTotal experience: 14+ years\\nThe ideal candidate must have proven expertise in Artificial Intelligence (including deep learning algorithms), Machine Learning and/or NLP\\nThe candidate must also have expertise in programming traditional machine learning algorithms, algorithm design & usage\\nProgramming expertise on Python or R\\nPreferred experience with large data sets & distributed computing in Hadoop ecosystem\\nStrong problem-solving skills\\nFluency with databases\\n\\nBenefits\\nFive Reasons Why You Should Join Zycus\\nCloud Product Company: We are a Cloud SaaS Company and our products are created by using the latest technologies like ML and AI. Our UI is in Angular JS and we are developing our mobile apps using React.\\nA Market Leader: Zycus is recognized by Gartner (worlds leading market research analyst) as a Leader in Procurement Software Suites.\\nMove between Roles: We believe that change leads to growth and therefore we allow our employees to shift careers and move to different roles and functions within the organization\\nGet a Global Exposure: You get to work and deal with our global customers.\\nCreate an Impact: Zycus gives you the environment to create an impact on the product and transform your ideas into reality. Even our junior engineers get the opportunity to work on different product features.\\nRoleAnalytics Manager\\nIndustry TypeIT Services & Consulting\\nFunctional AreaAnalytics & Business Intelligence\\nEmployment TypeFull Time, Permanent\\nRole CategoryAnalytics & BI\\nEducation\\nUG :Any Graduate\\nPG :Any Postgraduate\\nKey Skills\\nRAlgorithmsNLPAlgorithm DesignData ScientistArtificial IntelligenceMachine LearningPythonRandom Forest',\n",
       " \"Job description\\nRoles and Responsibilities\\n\\nWell-versed in quantitative analysis, data mining, trend analysis, customer profiling, clustering and predictive modelling.\\nExecuting the data-driven planning process by building models and frameworks that connect business unit drivers to company financials and forecast to take the correct decision as per the business need.\\nShould be able to handle assigned tasks in the capacity of individual contributor.\\nDemonstrate excellent teamwork.\\nCollaborate with other data analysts to provide development coverage, support, and Knowledge sharing and mentoring of junior team members.\\n\\n\\n\\nDesired Candidate Profile\\n\\nBachelor's in Computer Science, Engineering, Statistics, Maths or related quantitative degree preferably from IIT, NIT, DTU and NSIT.\\n4-6 years of relevant experience in data science.\\nProblem solver who is passionate to deep dive into data and generate insights\\nExperience of data pre-processing and data manipulation using R, Python or SQL\\nShould have some experience in statistical techniques like linear regression, logistic regression, clustering etc.\\nFamiliarity with Machine Learning and AI techniques is a plus\\nTrack record of managing data project delivery including ability to meet deadlines, overcome challenges, manage stakeholder expectations, and produce clear deliverables\\nExcellent critical thinker with a strong verbal and written communications skills.\\nAbility and desire to work in a proactive, highly engaging, high-pressure, client service environment.\\nUnderstanding of Cloud Platforms (e.g. Azure / AWS) and ability to use them for developing, training and testing deep learning models\\n\\n\\n\\n\\n\\nRoleAnalytics Manager\\nIndustry TypeAnalytics / KPO / Research\\nFunctional AreaAnalytics & Business Intelligence\\nEmployment TypeFull Time, Permanent\\nRole CategoryAnalytics & BI\\nEducation\\nUG :B.Tech/B.E. in Any Specialization, B.Sc in Any Specialization, BCA in Any Specialization\\nPG :M.Tech in Any Specialization, MCA in Any Specialization, MS/M.Sc(Science) in Any Specialization\\nKey Skills\\nRPythonSQL\\nData ScienceData ManipulationArtificial IntelligenceLinear RegressionMachine LearningStatisticsDeep Learning\\nSkills highlighted with ‘‘ are preferred keyskills\",\n",
       " 'Job description\\nResponsibilities -\\nLead a team of data scientists, machine learning engineers and big data specialists\\nBe the main point of contact for the customers\\nLead data mining and collection procedures\\nEnsure data quality and integrity\\nInterpret and analyze data problems\\nConceive, plan and prioritize data projects\\nBuild analytic systems and predictive models\\nTest performance of data-driven products\\nVisualize data and create reports\\nExperiment with new models and techniques\\nAlign data projects with organizational goals\\nRequirements -\\nVery strong in statistics fundamentals. Not all data is Big Data. The candidate should be able to derive statistical insights from very few data points if required, using traditional statistical methods.\\nEducation no bar, but preferably from a Statistics academic background (eg MSc-Stats, MSc-Econometrics etc), given the first point\\nStrong expertise in Python (any other statistical languages/tools like R, SAS, SPSS etc are just optional, but Python is absolutely essential). If the person is very strong in Python, but has almost nil knowledge in the other statistical tools, he/she will still be considered a good candidate for this role.\\nProven experience as a Data Scientist or similar role, for about 7-8 years\\nSolid understanding of machine learning and AI concepts, especially wrt choice of apt candidate algorithms for a use case, and model evaluation.\\nGood expertise in writing SQL queries (should not be dependent upon anyone else for pulling in data, joining them, data wrangling etc)\\nKnowledge of data management and visualization techniques - more from a Data Science perspective.\\nShould be able to grasp business problems, ask the right questions to better understand the problem breadthwise /depthwise, design apt solutions, and explain that to the business stakeholders.\\nQualification\\nAny Relevant Graudate ( BE/B Tech, MCA Prefer)\\nRoleTeam Lead/Technical Lead\\nIndustry TypeIT Services & Consulting\\nFunctional AreaIT Software - DBA, Datawarehousing\\nEmployment TypeFull Time, Permanent\\nRole CategoryProgramming & Design\\nEducation\\nUG :B.A in Statistics, B.Sc in Statistics, B.Tech/B.E. in Any Specialization\\nPG :MCA in Any Specialization, MS/M.Sc(Science) in Statistics, M.A in Economics, Statistics\\nDoctorate :Doctorate Not Required\\nKey Skills\\nData ScienceData WranglingArtificial IntelligenceBig DataSQL QueriesData MiningMachine LearningStatisticsPython',\n",
       " 'Job description\\n- Ability to understand a problem statement and implement analytical solutions & techniques independently with independently/proactively/thought-leadership.\\n\\n- Work with stakeholders throughout the organization to identify opportunities for leveraging company/client data to drive business solutions.\\n\\n- Fast learner: ability to learn and pick up a new language/tool/ platform quickly.\\n\\n- Conceptualize, design, and deliver high-quality solutions and insightful analysis.\\n\\n- Conduct research and prototyping innovations; data and requirements gathering; solution scoping and architecture; consulting clients and client facing teams on advanced statistical and machine learning problems.\\n\\n- Collaborate and Coordinate with different functional teams(engineering and product development) to implement models and monitor outcomes.\\n\\n- Ability to deliver AIML based solutions around a host of domains and problems, with some of them being: Customer Segmentation & Targeting, Propensity Modeling, Churn Modeling, Lifetime Value Estimation, Forecasting, Recommender Systems, Modeling Response to Incentives, Marketing Mix Optimization, Price Optimization\\n\\nExperience Required:\\n\\n- Expert level proficiency in Python.\\n\\n- Ability to create efficient solutions to complex problems. Strong skills in data-structures and ML algorithms.\\n\\n- Experience of working on end-to-end data science pipeline: problem scoping, data gathering, EDA, modelling, insights, visualizations, monitoring and maintenance.\\n\\n- Problem-solving: Ability to break the problem into small parts and applying relevant techniques to drive required outcomes.\\n\\n- Intermediate to advanced knowledge of machine learning, probability theory, statistics, and algorithms. You will be required to discuss and use various algorithms and approaches on a daily basis.\\n\\n- We use regression, Bayesian methods, tree-based learners, SVM, RF, XGBOOST, time series modeling, dimensionality reduction, SEM, GLM, GLMM, clustering, Deep learning etc. on a regular basis. If you know few of them you are good to go.\\n\\nGood to Have:\\n\\n- Experience in one of the upcoming technologies like deep learning, NLP, image processing, recommender systems\\n\\n- Experience of working in on one or more domains:\\n\\n- CPG: pricing and promotion analytics, marketing analytics, trade promotions, supply chain management\\n\\n- BFSI: cross-sell, up-sell, campaign analytics, treasury analytics, fraud detection\\n\\n- Healthcare: medical adherence, medical risk profiling, EHR data, fraud-waste-abuse\\n\\n- Experience in working with Linux computing environment and use of command line tools like sed/awk\\n\\n- Good grasp on databases including RDBMS, NoSQL, MongoDB etc.\\nRoleData Analyst\\nIndustry TypeAnalytics / KPO / Research\\nFunctional AreaAnalytics & Business Intelligence\\nEmployment TypeFull Time, Permanent\\nRole CategoryAnalytics & BI\\nEducation\\nUG :Any Graduate\\nPG :Any Postgraduate\\nDoctorate :Doctorate Not Required\\nKey Skills\\nData ScienceNLPData ScientistArtificial IntelligenceData ManagementStatistical ModelingMarketing AnalyticsMachine LearningAnalyticsSQL',\n",
       " 'Job description\\nWe are looking for a Data Scientist with 6+ years of experience who will support our product and the rest of the company verticals with insights gained from analysing company data.\\nWork with stakeholders throughout the firm to identify opportunities for leveraging company data to drive business solutions.\\nMine and analyse data from company databases, drive optimisation and improvement of product development, marketing techniques and business strategies.\\nAssess the effectiveness and accuracy of new data sources and data gathering techniques.\\nDevelop custom data models and algorithms to apply to data sets.\\nUse predictive modeling to increase and optimise customer experiences, revenue generation, ad targeting and other business outcomes.\\nCoordinate with different functional teams to implement models and monitor outcomes.\\nDevelop processes and tools to monitor and analyse model performance and data accuracy.\\nJob Requirements:\\nExperience using statistical computer languages (R, Python, SLQ, etc.) to manipulate data and draw insights from large data sets.\\nExperience working with and creating data architectures.\\nKnowledge of a variety of machine learning techniques (clustering, decision tree learning, artificial neural networks, etc.) and their real-world advantages/drawbacks.\\nKnowledge of advanced statistical techniques and concepts (regression, properties of distributions, statistical tests and proper usage, etc.) and experience with applications.\\nCoding knowledge and experience with several languages: C#, .Net, Java, Java Scripts etc.\\nBackground in data warehouse design (e.g. dimensional modeling) and data mining.\\nExperience creating and using advanced machine learning algorithms and statistics: regression, simulation, scenario analysis, modeling, clustering, decision trees, neural networks, etc.\\nJob Related Knowledge Skills:\\nTeam player with excellent interpersonal skills.\\nSelf-motivated and independent learner.\\nAbility to handle multiple projects.\\nAbility to identify or uncover patterns, correlations and trends.\\nProven abilities to take initiative and be innovative.\\nAnalytical mind with a problem-solving aptitude.\\nFamiliar with Agile development processes.\\nAbility to communicate effectively in English, both written and verbal.\\nRoleResearch Scientist\\nIndustry TypeIT Services & Consulting\\nFunctional AreaMedical, Healthcare, R&D, Pharmaceuticals, Biotechnology\\nEmployment TypeFull Time, Permanent\\nRole CategoryR&D\\nEducation\\nUG :Any Graduate\\nPG :Any Postgraduate\\nKey Skills\\nSimulationCodingNeural networksAnalyticalAgile developmentMachine learningPredictive modelingData miningBusiness solutionsPython',\n",
       " 'Job description\\nHi,\\n\\nWe have an urgent requirement for Data Scientist - Advanced Analytics. Interested candidates can share their resume directly on srishti.wadhwa@cignex.com. Details of the requirement are mentioned below\\n\\nRoles and Responsibilities\\nCombines deep data and analytics skills with strong business acumen to solve business problems by understanding, preparing, and analyzing data to predict emerging trends and provide recommendations to optimize business results. Responsibilities include working with business leaders to solve business problems by understanding, preparing, and analyzing data to predict emerging trends and provide recommendations to optimize business results. Skills include mathematical optimization, discrete-event simulation, rules programming and predictive analytics.\\n\\nDesired Candidate Profile\\nExpected to have knowledge and/or experience in the following skills with focus on data science: Data Science, Apache Ambari, MapReduce, Spark, Lambda, Resilient Distributed Dataset, Java, Zookeeper, Knox, Big Data, IBM BigInsights, Apache Hadoop, SQL, RDBMS, Python, Big SQL, BigSheets+E5Big R, Text Analytics, GPFS, HDFS, Platform Symphony, Structured And Unstructured Data, Open Source, R, POSIX, Yarn, Sqoop, Flume, JSON, XML, NoSQL, HBase, Pig, Hive, Oozie, Apache Solr, JSqsh, Data Server Manager, AQL, Data Security, Data Governance, Networking, Neural Net\\n\\n\\n\\n\\nRoleOther\\nIndustry TypeIT Services & Consulting\\nFunctional AreaAnalytics & Business Intelligence\\nEmployment TypeFull Time, Permanent\\nRole CategoryOther\\nEducation\\nUG :Any Graduate\\nKey Skills\\nHivejavaOpen SourceAws LambdaHadoopBig DataData AnalyticsApachePredictive Analytics',\n",
       " 'Job description\\nJob Summary\\n\\nThis role is a key contributor in the Data Science Lab, where the candidate will receive the appropriate level of supervision until becoming fully proficient:\\n\\nImplement and improve existing scientific papers to reach goals defined by senior colleagues\\nNatural Language processing (NLP) is a key part of the role\\nThis role will lead a range of data analytics efforts, including monitoring and improving the performance of our Natural Language Understanding (NLU) models\\nCollaborate with legal technology advisors, business departments, innovation lab, finance team and work in the data science lab\\nCreation of new statistical models, research of new solutions and supporting different stakeholders on machine learning and deep learning efforts.\\nCreation and implementation of any new research projects and evangelisation of the research and the results across the company.\\nCollaboration with research colleagues to develop and maintain software embodying research outputs\\n\\nRoles and Responsibilities\\n\\nActively contributing to business analysis during project definitions\\nDeep diving into data, doing analysis and discovering patterns and root causes to generate insights that drive our products\\nAnalyse and evaluate the quality of data used for model training and testing\\nPresent proposals and results in a clear manner, backed by data, with actionable conclusions to drive business decision to different stakeholders\\nCollaborate with scientists and engineers (internal and external) on data collection and feature design effects\\nHandle competing requests for a range of data customers (e.g. from LTDA and innovation lab)\\nCommunicate results to a diverse audience through a wide range of methods including presentation to senior stakeholder\\nEvangelise the work done in the Data Science Lab in internal and external speech opportunities\\nBuild and maintain Data Science products e.g. web apps for business consumption\\n\\nSkills & Experience\\n\\nWilling to learn new skills, programming languages and development processes\\nPrevious experience with analysing and quantifying data from public and private repositories\\nExperience with descriptive statistics and visualization tools\\n\\n\\n\\n\\nRoleData Analyst\\nIndustry TypeIT Services & Consulting\\nFunctional AreaAnalytics & Business Intelligence\\nEmployment TypeFull Time, Permanent\\nRole CategoryAnalytics & BI\\nEducation\\nUG :Any Graduate\\nKey Skills\\nData ScienceNLPMachine Learning\\nNatural Language ProcessingData AnalyticsDeep LearningResearch Projects\\nSkills highlighted with ‘‘ are preferred keyskills',\n",
       " 'Job description\\n\\nRoles and Responsibilities\\n3+ years of experience working on Data science projects\\n• Working knowledge of python, NumPy, and pandas\\n• Writes clean, concise, tested, and maintainable code.\\n• Experience handling large volumes of data\\n• Nice to have Experienced using AWS EMR configuration and clusters\\n• computer vision-related work is a plus\\nGood in Algorithm, Deep Learning, Data Mining, Data Analytics.Etc\\n\\nDesired Candidate Profile\\n\\nPreferrable Looking for Female Candidates\\n\\nPerks and Benefits\\n\\nMin- 4LPA to 1\\nRoleSystem Analyst\\nIndustry TypeEngineering & Construction\\nFunctional AreaIT Software - Application Programming, Maintenance\\nEmployment TypeFull Time, Permanent\\nRole CategoryProgramming & Design\\nEducation\\nUG :Any Graduate\\nKey Skills\\nData ScienceData MiningEMRAWSDeep LearningNumpyPython',\n",
       " 'Job description\\nRoles and Responsibilities\\nJob Description:\\nDevelop data powered insights deriving from distributed, real time streaming applications, and develop AI systems leveraging on such data powered insights.\\nLooking for candidates with passion and energy to work in a high energy team with entrepreneurial culture: Self starter attitude, quick learning aptitude, passion and willingness to deliver on time with quality.\\n\\nJob Skills Required:\\nExpert data science skills using supervised and unsupervised learning. Deep learning.\\nCompute: Spark/Storm/NiFi/Flink/Redis, or other.\\nVisualization: Banana UI, Kibana, or other,\\nTools: H2O, TensorFlow, Mlib, Scikit, Keras or other.\\nMessaging: Kafka, RabbitMQ, or other.\\n\\nStrong Analytical and Math/Statistics skills.\\n\\nQualification :\\nM.Tech/M.E./M.S. in Computer Science, Engineering or a related field, preferably with a concentration, major or minor in Data Science or Machine Learning. PhD would be added advantage.\\n\\nDesired Candidate Profile\\nDesirable s that would strengthen candidacy:\\n Proven track record from public competitions such as from Kagel, Analytics Vidya, etc. \\n\\nExpertise in one or more high level programming languages such as Java, Scala, Python, Go, Erlang, etc.\\n\\nExpertise in developing scalable applications in a distributed environment.\\n\\nStrong SQL or NoSQL skills with one or more open source DBMS such as MySql, MongoDB, Cassandra.\\n\\nExpertise in containerized environments on private or public clouds - Aws Azure, etc.\\n\\n\\nRoleSoftware Developer\\nIndustry TypeIT Services & Consulting\\nFunctional AreaIT Software - Application Programming, Maintenance\\nEmployment TypeFull Time, Temporary/Contractual\\nRole CategoryProgramming & Design\\nEducation\\nUG :Any Graduate\\nPG :Any Postgraduate\\nDoctorate :Doctorate Not Required\\nKey Skills\\ndeep learningKibanatensorflowdata scienceKafkakerasSparkMachine Learning',\n",
       " 'Job description\\nExp : 5 `to 9 yrs\\nSkill : Data Scientist\\nJD:\\nDelivery Excellence has identified Predictive Analytics as one of the top focus areas. By looking through the vast amount of structured and unstructured data to identify patterns, draw inferences and predict outcomes, we intend to enhance the delivery quality, operations & risk management capability in client engagements leading to enhanced profitability, revenue & client satisfaction.\\nWe are looking for a Data Scientist to join our team to provide the subject matter expertise and technical leadership in this endeavor. He / She will collaborate with the business teams, technical & functional teams, and vendor partners to understand the needs and devise solutions. He / She will evaluate alternate approaches, models & toolkits to define suitable solutions based on the problem statements.\\n\\nRole\\nData Scientist\\nKey Responsibilities\\nDiscover the information hidden in structured & unstructured data by applying data mining techniques, doing statistical analysis, and building high quality prediction systems\\nEvaluating business problems for suitability & feasibility of a predictive solution\\nEvaluating & Identifying the right Machine Learning and data science techniques & toolsets to address a variety of predictive analytics problems\\nAn individual contributor as well as a guide to the fellow team members in discovery, design, and development of analytical models\\nWorking with functional & technical teams in the development, pilot & optimization of tools and models using Machine Learning & Natural Language Processing\\nQualifications & Skills\\nAdvanced degree in statistics, computer science, machine-learning or related fields such as econometrics\\n10+ years of professional experience in software engineering, with a good understanding of the Information Technology industry\\n5+ years of data mining (structured / unstructured data) & Machine Learning experience, with a proven ability to design and develop solutions across ML landscape (supervised, un-supervised, semi-supervised etc.)Excellent applied statistics skills\\nSupervised algorithms, such as k-NN, Naive Bayes, Decision Trees, Logistic Regression, SVM, Random Forests, Neural Nets etc.\\nUnsupervised algorithms including clustering, anomaly detection, document similarity, dimensionality reduction etc.\\nProven experience with below toolkits & technologies is a must: Statistical programming languages such as Python, R\\nAzure Machine Learning\\nML and NLP toolkits such as scikit-learn, TensorFlow, PyTorch, Keras, Stanford suite, Python NLTK, spaCy\\nStrong attention to detail and excellent quantitative and qualitative analytical ability\\nTeam player and a self-starter; Excellent collaboration skills\\nExcellent oral & written communication skills, with ability to explain machine learning concepts and findings or techniques to varied stakeholders\\nShift : Day Job\\nTravel : No\\nRoleData Analyst\\nIndustry TypeIT Services & Consulting\\nFunctional AreaAnalytics & Business Intelligence\\nEmployment TypeFull Time, Permanent\\nRole CategoryAnalytics & BI\\nEducation\\nUG :Any Graduate\\nPG :M.Tech in Computers, MCA in Computers, MS/M.Sc(Science) in Statistics, Computers, M.A in Statistics\\nKey Skills\\nPytorchTensorflowData ScienceNLP Data ScientistNatural Language ProcessingKerasSpacyMachine LearningPython',\n",
       " '-',\n",
       " '-',\n",
       " '-',\n",
       " '-']"
      ]
     },
     "execution_count": 445,
     "metadata": {},
     "output_type": "execute_result"
    }
   ],
   "source": [
    "job_description"
   ]
  },
  {
   "cell_type": "code",
   "execution_count": 446,
   "metadata": {},
   "outputs": [
    {
     "name": "stdout",
     "output_type": "stream",
     "text": [
      "20 20 20 20\n"
     ]
    }
   ],
   "source": [
    "print(len(job_titles),len(company_names),len(location_list),len(job_description))"
   ]
  },
  {
   "cell_type": "code",
   "execution_count": 447,
   "metadata": {
    "scrolled": true
   },
   "outputs": [
    {
     "data": {
      "text/html": [
       "<div>\n",
       "<style scoped>\n",
       "    .dataframe tbody tr th:only-of-type {\n",
       "        vertical-align: middle;\n",
       "    }\n",
       "\n",
       "    .dataframe tbody tr th {\n",
       "        vertical-align: top;\n",
       "    }\n",
       "\n",
       "    .dataframe thead th {\n",
       "        text-align: right;\n",
       "    }\n",
       "</style>\n",
       "<table border=\"1\" class=\"dataframe\">\n",
       "  <thead>\n",
       "    <tr style=\"text-align: right;\">\n",
       "      <th></th>\n",
       "      <th>Job_title</th>\n",
       "      <th>Job_location</th>\n",
       "      <th>Company_name</th>\n",
       "      <th>Job_Description</th>\n",
       "    </tr>\n",
       "  </thead>\n",
       "  <tbody>\n",
       "    <tr>\n",
       "      <th>1</th>\n",
       "      <td>Data Scientist Internship</td>\n",
       "      <td>Gurgaon/Gurugram, Bangalore/Bengaluru</td>\n",
       "      <td>Evalueserve.com Pvt. Ltd</td>\n",
       "      <td>Job description\\nJob Description\\nUnderstand a...</td>\n",
       "    </tr>\n",
       "    <tr>\n",
       "      <th>2</th>\n",
       "      <td>Data Scientist</td>\n",
       "      <td>Bangalore/Bengaluru</td>\n",
       "      <td>IBM India Pvt. Limited</td>\n",
       "      <td>-</td>\n",
       "    </tr>\n",
       "    <tr>\n",
       "      <th>3</th>\n",
       "      <td>Data Scientist</td>\n",
       "      <td>Bangalore/Bengaluru</td>\n",
       "      <td>Superior Group</td>\n",
       "      <td>Job description\\nProvide advanced analytical c...</td>\n",
       "    </tr>\n",
       "    <tr>\n",
       "      <th>4</th>\n",
       "      <td>Data Scientist / Sr. Data Scientist</td>\n",
       "      <td>Bangalore/Bengaluru</td>\n",
       "      <td>IBM India Pvt. Limited</td>\n",
       "      <td>-</td>\n",
       "    </tr>\n",
       "    <tr>\n",
       "      <th>5</th>\n",
       "      <td>Only Fresher / Data Scientist / Data Analyst /...</td>\n",
       "      <td>Bangalore/Bengaluru</td>\n",
       "      <td>SMITHS DETECTION SYSTEMS PRIVATE LIMITED</td>\n",
       "      <td>-</td>\n",
       "    </tr>\n",
       "    <tr>\n",
       "      <th>6</th>\n",
       "      <td>Senior Data Scientist - Noida</td>\n",
       "      <td>Bangalore/Bengaluru</td>\n",
       "      <td>Cognizer India Private Limited</td>\n",
       "      <td>Job description\\n\\nRoles and Responsibilities\\...</td>\n",
       "    </tr>\n",
       "    <tr>\n",
       "      <th>7</th>\n",
       "      <td>Data Scientist</td>\n",
       "      <td>Bangalore/Bengaluru</td>\n",
       "      <td>Zycus Infotech Pvt Ltd</td>\n",
       "      <td>Job description\\nZycus is looking for applican...</td>\n",
       "    </tr>\n",
       "    <tr>\n",
       "      <th>8</th>\n",
       "      <td>Immediate Openings For DATA Scientist with 6 T...</td>\n",
       "      <td>Bangalore/Bengaluru, Delhi / NCR, Mumbai (All ...</td>\n",
       "      <td>TransOrg Solutions Services (P) Ltd.</td>\n",
       "      <td>Job description\\nRoles and Responsibilities\\n\\...</td>\n",
       "    </tr>\n",
       "    <tr>\n",
       "      <th>9</th>\n",
       "      <td>Data Scientist</td>\n",
       "      <td>Bangalore/Bengaluru, Delhi / NCR</td>\n",
       "      <td>Confidential</td>\n",
       "      <td>Job description\\nResponsibilities -\\nLead a te...</td>\n",
       "    </tr>\n",
       "    <tr>\n",
       "      <th>10</th>\n",
       "      <td>Data Scientist - Machine Learning/NLP</td>\n",
       "      <td>Mumbai, Bangalore/Bengaluru, Delhi / NCR</td>\n",
       "      <td>TalentCo Search Pvt Ltd</td>\n",
       "      <td>Job description\\n- Ability to understand a pro...</td>\n",
       "    </tr>\n",
       "  </tbody>\n",
       "</table>\n",
       "</div>"
      ],
      "text/plain": [
       "                                            Job_title  \\\n",
       "1                           Data Scientist Internship   \n",
       "2                                      Data Scientist   \n",
       "3                                      Data Scientist   \n",
       "4                 Data Scientist / Sr. Data Scientist   \n",
       "5   Only Fresher / Data Scientist / Data Analyst /...   \n",
       "6                       Senior Data Scientist - Noida   \n",
       "7                                      Data Scientist   \n",
       "8   Immediate Openings For DATA Scientist with 6 T...   \n",
       "9                                      Data Scientist   \n",
       "10              Data Scientist - Machine Learning/NLP   \n",
       "\n",
       "                                         Job_location  \\\n",
       "1               Gurgaon/Gurugram, Bangalore/Bengaluru   \n",
       "2                                 Bangalore/Bengaluru   \n",
       "3                                 Bangalore/Bengaluru   \n",
       "4                                 Bangalore/Bengaluru   \n",
       "5                                 Bangalore/Bengaluru   \n",
       "6                                 Bangalore/Bengaluru   \n",
       "7                                 Bangalore/Bengaluru   \n",
       "8   Bangalore/Bengaluru, Delhi / NCR, Mumbai (All ...   \n",
       "9                    Bangalore/Bengaluru, Delhi / NCR   \n",
       "10           Mumbai, Bangalore/Bengaluru, Delhi / NCR   \n",
       "\n",
       "                                Company_name  \\\n",
       "1                   Evalueserve.com Pvt. Ltd   \n",
       "2                     IBM India Pvt. Limited   \n",
       "3                             Superior Group   \n",
       "4                     IBM India Pvt. Limited   \n",
       "5   SMITHS DETECTION SYSTEMS PRIVATE LIMITED   \n",
       "6             Cognizer India Private Limited   \n",
       "7                     Zycus Infotech Pvt Ltd   \n",
       "8       TransOrg Solutions Services (P) Ltd.   \n",
       "9                               Confidential   \n",
       "10                   TalentCo Search Pvt Ltd   \n",
       "\n",
       "                                      Job_Description  \n",
       "1   Job description\\nJob Description\\nUnderstand a...  \n",
       "2                                                   -  \n",
       "3   Job description\\nProvide advanced analytical c...  \n",
       "4                                                   -  \n",
       "5                                                   -  \n",
       "6   Job description\\n\\nRoles and Responsibilities\\...  \n",
       "7   Job description\\nZycus is looking for applican...  \n",
       "8   Job description\\nRoles and Responsibilities\\n\\...  \n",
       "9   Job description\\nResponsibilities -\\nLead a te...  \n",
       "10  Job description\\n- Ability to understand a pro...  "
      ]
     },
     "execution_count": 447,
     "metadata": {},
     "output_type": "execute_result"
    }
   ],
   "source": [
    "# Creating DataFrame to store first 10 results\n",
    "import numpy as np\n",
    "import pandas as pd\n",
    "df=pd.DataFrame({})\n",
    "df['Job_title']=job_titles[0:10]\n",
    "df['Job_location']=location_list[0:10]\n",
    "df['Company_name']=company_names[0:10]\n",
    "df['Job_Description']=job_description[0:10]\n",
    "df.index=np.arange(1,len(job_titles[0:10])+1)\n",
    "df"
   ]
  },
  {
   "cell_type": "code",
   "execution_count": null,
   "metadata": {},
   "outputs": [],
   "source": []
  },
  {
   "cell_type": "markdown",
   "metadata": {},
   "source": [
    "### Q3: In this question you have to scrape data using the filters available on the webpage as shown below"
   ]
  },
  {
   "cell_type": "code",
   "execution_count": 177,
   "metadata": {},
   "outputs": [],
   "source": [
    "#Connecting to the web driver\n",
    "driver=webdriver.Chrome('chromedriver.exe')"
   ]
  },
  {
   "cell_type": "code",
   "execution_count": 178,
   "metadata": {},
   "outputs": [],
   "source": [
    "url='https://www.naukri.com/'\n",
    "driver.get(url)"
   ]
  },
  {
   "cell_type": "code",
   "execution_count": 179,
   "metadata": {},
   "outputs": [
    {
     "data": {
      "text/plain": [
       "<selenium.webdriver.remote.webelement.WebElement (session=\"704417ca77b56f35581731847e9ef4ac\", element=\"7fdcd2a2-fc7f-4899-bfde-01a645ad6640\")>"
      ]
     },
     "execution_count": 179,
     "metadata": {},
     "output_type": "execute_result"
    }
   ],
   "source": [
    "# Finding web element for search box\n",
    "search_job=driver.find_element_by_xpath(\"//input[@class='sugInp']\")\n",
    "search_job"
   ]
  },
  {
   "cell_type": "code",
   "execution_count": 180,
   "metadata": {},
   "outputs": [],
   "source": [
    "# Writing data on web element location\n",
    "search_job.send_keys('Data Scientist')"
   ]
  },
  {
   "cell_type": "code",
   "execution_count": 181,
   "metadata": {},
   "outputs": [
    {
     "data": {
      "text/plain": [
       "<selenium.webdriver.remote.webelement.WebElement (session=\"704417ca77b56f35581731847e9ef4ac\", element=\"8589b246-5cbe-49f4-992b-c4af7169a771\")>"
      ]
     },
     "execution_count": 181,
     "metadata": {},
     "output_type": "execute_result"
    }
   ],
   "source": [
    "# Finding web element for search button\n",
    "search_btn=driver.find_element_by_xpath(\"//button[@class='btn']\")\n",
    "search_btn"
   ]
  },
  {
   "cell_type": "code",
   "execution_count": 182,
   "metadata": {},
   "outputs": [],
   "source": [
    "# Clicking on button\n",
    "search_btn.click()"
   ]
  },
  {
   "cell_type": "code",
   "execution_count": 184,
   "metadata": {},
   "outputs": [],
   "source": [
    "#using absolute xpath to apply location and salary filter \n",
    "salary_range=driver.find_element_by_xpath('/html/body/div[1]/div[3]/div[2]/section[1]/div[2]/div[4]/div[2]/div[2]/label/p/span[1]')\n",
    "salary_range.click()"
   ]
  },
  {
   "cell_type": "code",
   "execution_count": 185,
   "metadata": {},
   "outputs": [],
   "source": [
    "location_check=driver.find_element_by_xpath('/html/body/div[1]/div[3]/div[2]/section[1]/div[2]/div[4]/div[2]/div[3]/label/p/span[1]')\n",
    "location_check.click()"
   ]
  },
  {
   "cell_type": "code",
   "execution_count": 188,
   "metadata": {},
   "outputs": [
    {
     "data": {
      "text/plain": [
       "20"
      ]
     },
     "execution_count": 188,
     "metadata": {},
     "output_type": "execute_result"
    }
   ],
   "source": [
    "# Scrapping first job titles\n",
    "job_titles=[]\n",
    "job_title=driver.find_elements_by_xpath(\"//a[@class='title fw500 ellipsis']\")\n",
    "job_title\n",
    "for i in job_title:\n",
    "    job_titles.append(i.text)\n",
    "len(job_titles)"
   ]
  },
  {
   "cell_type": "code",
   "execution_count": 192,
   "metadata": {},
   "outputs": [
    {
     "data": {
      "text/plain": [
       "20"
      ]
     },
     "execution_count": 192,
     "metadata": {},
     "output_type": "execute_result"
    }
   ],
   "source": [
    "#Scrapping company_name\n",
    "company_name=[]\n",
    "company_name=driver.find_elements_by_xpath(\"//a[@class='subTitle ellipsis fleft']\")\n",
    "company_name\n",
    "for i in company_name:\n",
    "    company_names.append(i.text)\n",
    "len(company_name)"
   ]
  },
  {
   "cell_type": "code",
   "execution_count": 193,
   "metadata": {},
   "outputs": [
    {
     "data": {
      "text/plain": [
       "20"
      ]
     },
     "execution_count": 193,
     "metadata": {},
     "output_type": "execute_result"
    }
   ],
   "source": [
    "#Scrapping job location\n",
    "job_location=driver.find_elements_by_xpath(\"//li[@class='fleft grey-text br2 placeHolderLi location']//span[1]\")\n",
    "job_location\n",
    "location_list=[]\n",
    "for i in job_location:\n",
    "    location_list.append(i.text)\n",
    "len(location_list)"
   ]
  },
  {
   "cell_type": "code",
   "execution_count": 195,
   "metadata": {},
   "outputs": [],
   "source": [
    "experience_list=[]"
   ]
  },
  {
   "cell_type": "code",
   "execution_count": 196,
   "metadata": {},
   "outputs": [
    {
     "data": {
      "text/plain": [
       "20"
      ]
     },
     "execution_count": 196,
     "metadata": {},
     "output_type": "execute_result"
    }
   ],
   "source": [
    "#Scrapping Experience\n",
    "experience_tag=driver.find_elements_by_xpath(\"//li[@class='fleft grey-text br2 placeHolderLi experience']//span\")\n",
    "experience_tag\n",
    "for i in experience_tag:\n",
    "    experience_list.append(i.text)\n",
    "len(experience_list)"
   ]
  },
  {
   "cell_type": "code",
   "execution_count": 198,
   "metadata": {},
   "outputs": [
    {
     "name": "stdout",
     "output_type": "stream",
     "text": [
      "20 20 20 20\n"
     ]
    }
   ],
   "source": [
    "#Checking the length\n",
    "print(len(job_titles),len(company_name),len(location_list),len(experience_list))"
   ]
  },
  {
   "cell_type": "code",
   "execution_count": 199,
   "metadata": {
    "scrolled": true
   },
   "outputs": [
    {
     "data": {
      "text/html": [
       "<div>\n",
       "<style scoped>\n",
       "    .dataframe tbody tr th:only-of-type {\n",
       "        vertical-align: middle;\n",
       "    }\n",
       "\n",
       "    .dataframe tbody tr th {\n",
       "        vertical-align: top;\n",
       "    }\n",
       "\n",
       "    .dataframe thead th {\n",
       "        text-align: right;\n",
       "    }\n",
       "</style>\n",
       "<table border=\"1\" class=\"dataframe\">\n",
       "  <thead>\n",
       "    <tr style=\"text-align: right;\">\n",
       "      <th></th>\n",
       "      <th>Job_title</th>\n",
       "      <th>Company_Name</th>\n",
       "      <th>Job_locaion</th>\n",
       "      <th>Experience</th>\n",
       "    </tr>\n",
       "  </thead>\n",
       "  <tbody>\n",
       "    <tr>\n",
       "      <th>1</th>\n",
       "      <td>Data Scientist Internship</td>\n",
       "      <td>Evalueserve.com Pvt. Ltd</td>\n",
       "      <td>New Delhi</td>\n",
       "      <td>0-1 Yrs</td>\n",
       "    </tr>\n",
       "    <tr>\n",
       "      <th>2</th>\n",
       "      <td>Data Scientist</td>\n",
       "      <td>IBM India Pvt. Limited</td>\n",
       "      <td>Gurgaon/Gurugram</td>\n",
       "      <td>2-4 Yrs</td>\n",
       "    </tr>\n",
       "    <tr>\n",
       "      <th>3</th>\n",
       "      <td>Data Scientist</td>\n",
       "      <td>Superior Group</td>\n",
       "      <td>Noida, Gurgaon/Gurugram, Delhi / NCR</td>\n",
       "      <td>3-6 Yrs</td>\n",
       "    </tr>\n",
       "    <tr>\n",
       "      <th>4</th>\n",
       "      <td>Data Scientist / Sr. Data Scientist</td>\n",
       "      <td>IBM India Pvt. Limited</td>\n",
       "      <td>Noida, Pune, Mumbai (All Areas)</td>\n",
       "      <td>0-5 Yrs</td>\n",
       "    </tr>\n",
       "    <tr>\n",
       "      <th>5</th>\n",
       "      <td>Only Fresher / Data Scientist / Data Analyst /...</td>\n",
       "      <td>Cognizer India Private Limited</td>\n",
       "      <td>Noida, Gurgaon/Gurugram, Delhi / NCR</td>\n",
       "      <td>0-0 Yrs</td>\n",
       "    </tr>\n",
       "    <tr>\n",
       "      <th>6</th>\n",
       "      <td>Senior Data Scientist - Noida</td>\n",
       "      <td>Zycus Infotech Pvt Ltd</td>\n",
       "      <td>Noida</td>\n",
       "      <td>2-6 Yrs</td>\n",
       "    </tr>\n",
       "    <tr>\n",
       "      <th>7</th>\n",
       "      <td>Data Scientist</td>\n",
       "      <td>Philips India Limited</td>\n",
       "      <td>Noida(Sector-59 Noida)</td>\n",
       "      <td>5-10 Yrs</td>\n",
       "    </tr>\n",
       "    <tr>\n",
       "      <th>8</th>\n",
       "      <td>Immediate Openings For DATA Scientist with 6 T...</td>\n",
       "      <td>Confidential</td>\n",
       "      <td>Kolkata, Hyderabad/Secunderabad, Pune, Ahmedab...</td>\n",
       "      <td>5-8 Yrs</td>\n",
       "    </tr>\n",
       "    <tr>\n",
       "      <th>9</th>\n",
       "      <td>Data Scientist</td>\n",
       "      <td>TalentCo Search Pvt Ltd</td>\n",
       "      <td>Gurgaon/Gurugram</td>\n",
       "      <td>1-3 Yrs</td>\n",
       "    </tr>\n",
       "    <tr>\n",
       "      <th>10</th>\n",
       "      <td>Data Scientist - Machine Learning/NLP</td>\n",
       "      <td>Travel Centric Technology</td>\n",
       "      <td>Gurgaon/Gurugram</td>\n",
       "      <td>2-6 Yrs</td>\n",
       "    </tr>\n",
       "  </tbody>\n",
       "</table>\n",
       "</div>"
      ],
      "text/plain": [
       "                                            Job_title  \\\n",
       "1                           Data Scientist Internship   \n",
       "2                                      Data Scientist   \n",
       "3                                      Data Scientist   \n",
       "4                 Data Scientist / Sr. Data Scientist   \n",
       "5   Only Fresher / Data Scientist / Data Analyst /...   \n",
       "6                       Senior Data Scientist - Noida   \n",
       "7                                      Data Scientist   \n",
       "8   Immediate Openings For DATA Scientist with 6 T...   \n",
       "9                                      Data Scientist   \n",
       "10              Data Scientist - Machine Learning/NLP   \n",
       "\n",
       "                      Company_Name  \\\n",
       "1         Evalueserve.com Pvt. Ltd   \n",
       "2           IBM India Pvt. Limited   \n",
       "3                   Superior Group   \n",
       "4           IBM India Pvt. Limited   \n",
       "5   Cognizer India Private Limited   \n",
       "6           Zycus Infotech Pvt Ltd   \n",
       "7            Philips India Limited   \n",
       "8                     Confidential   \n",
       "9          TalentCo Search Pvt Ltd   \n",
       "10       Travel Centric Technology   \n",
       "\n",
       "                                          Job_locaion Experience  \n",
       "1                                           New Delhi    0-1 Yrs  \n",
       "2                                    Gurgaon/Gurugram    2-4 Yrs  \n",
       "3                Noida, Gurgaon/Gurugram, Delhi / NCR    3-6 Yrs  \n",
       "4                     Noida, Pune, Mumbai (All Areas)    0-5 Yrs  \n",
       "5                Noida, Gurgaon/Gurugram, Delhi / NCR    0-0 Yrs  \n",
       "6                                               Noida    2-6 Yrs  \n",
       "7                              Noida(Sector-59 Noida)   5-10 Yrs  \n",
       "8   Kolkata, Hyderabad/Secunderabad, Pune, Ahmedab...    5-8 Yrs  \n",
       "9                                    Gurgaon/Gurugram    1-3 Yrs  \n",
       "10                                   Gurgaon/Gurugram    2-6 Yrs  "
      ]
     },
     "execution_count": 199,
     "metadata": {},
     "output_type": "execute_result"
    }
   ],
   "source": [
    "# Creating DataFrame\n",
    "import numpy as np\n",
    "df=pd.DataFrame({})\n",
    "df['Job_title']=job_titles[0:10]\n",
    "df['Company_Name']=company_names[0:10]\n",
    "df['Job_locaion']=location_list[0:10]\n",
    "df['Experience']=experience_list[0:10]\n",
    "df.index=np.arange(1,len(job_titles[0:10])+1)\n",
    "df"
   ]
  },
  {
   "cell_type": "code",
   "execution_count": null,
   "metadata": {},
   "outputs": [],
   "source": []
  },
  {
   "cell_type": "markdown",
   "metadata": {},
   "source": [
    "### Q4: Write a python program to scrape data for first 10 job results for Data scientist Designation in Noida location. You have to scrape company_name, No. of days ago when job was posted, Rating of the company."
   ]
  },
  {
   "cell_type": "code",
   "execution_count": 29,
   "metadata": {},
   "outputs": [],
   "source": [
    "#Connecting to the web driver\n",
    "driver=webdriver.Chrome('chromedriver.exe')"
   ]
  },
  {
   "cell_type": "code",
   "execution_count": 30,
   "metadata": {},
   "outputs": [],
   "source": [
    "url='https://www.glassdoor.co.in/index.htm'\n",
    "driver.get(url)"
   ]
  },
  {
   "cell_type": "code",
   "execution_count": 31,
   "metadata": {},
   "outputs": [
    {
     "data": {
      "text/plain": [
       "<selenium.webdriver.remote.webelement.WebElement (session=\"7b61fe854d070e893b3214884a0e4e76\", element=\"e816a4d9-1f60-4905-a0a0-d9fc0eaf7a82\")>"
      ]
     },
     "execution_count": 31,
     "metadata": {},
     "output_type": "execute_result"
    }
   ],
   "source": [
    "search_job=driver.find_element_by_id(\"sc.keyword\")\n",
    "search_job"
   ]
  },
  {
   "cell_type": "code",
   "execution_count": 32,
   "metadata": {},
   "outputs": [],
   "source": [
    "# Sending key as Data Scientist\n",
    "search_job.send_keys('Data Scientist')"
   ]
  },
  {
   "cell_type": "code",
   "execution_count": 34,
   "metadata": {},
   "outputs": [
    {
     "data": {
      "text/plain": [
       "<selenium.webdriver.remote.webelement.WebElement (session=\"7b61fe854d070e893b3214884a0e4e76\", element=\"a116fa33-bf45-496d-82de-4961fbbe142b\")>"
      ]
     },
     "execution_count": 34,
     "metadata": {},
     "output_type": "execute_result"
    }
   ],
   "source": [
    "search_location=driver.find_element_by_id('sc.location')\n",
    "search_location"
   ]
  },
  {
   "cell_type": "code",
   "execution_count": 35,
   "metadata": {},
   "outputs": [],
   "source": [
    "# Sending key as Noida \n",
    "search_location.send_keys('Noida')"
   ]
  },
  {
   "cell_type": "code",
   "execution_count": 37,
   "metadata": {},
   "outputs": [
    {
     "data": {
      "text/plain": [
       "<selenium.webdriver.remote.webelement.WebElement (session=\"7b61fe854d070e893b3214884a0e4e76\", element=\"d457ac3e-14f3-4ac1-8530-fccf7fc132a5\")>"
      ]
     },
     "execution_count": 37,
     "metadata": {},
     "output_type": "execute_result"
    }
   ],
   "source": [
    "#Clicking on search button\n",
    "search_button=driver.find_element_by_xpath(\"//span[@class='css-8zxfjs']\")\n",
    "search_button"
   ]
  },
  {
   "cell_type": "code",
   "execution_count": 38,
   "metadata": {},
   "outputs": [],
   "source": [
    "search_button.click()"
   ]
  },
  {
   "cell_type": "code",
   "execution_count": 39,
   "metadata": {},
   "outputs": [
    {
     "data": {
      "text/plain": [
       "[<selenium.webdriver.remote.webelement.WebElement (session=\"7b61fe854d070e893b3214884a0e4e76\", element=\"31a192fe-8bd1-4509-ae64-e91945a1d258\")>,\n",
       " <selenium.webdriver.remote.webelement.WebElement (session=\"7b61fe854d070e893b3214884a0e4e76\", element=\"541f73ae-d591-44e2-9b59-8528071c5622\")>,\n",
       " <selenium.webdriver.remote.webelement.WebElement (session=\"7b61fe854d070e893b3214884a0e4e76\", element=\"0b7ff8bb-e3e8-4879-9038-2d08b386a9b7\")>,\n",
       " <selenium.webdriver.remote.webelement.WebElement (session=\"7b61fe854d070e893b3214884a0e4e76\", element=\"9d6fbaea-a7ea-4f7e-8f43-e5ff8104aca8\")>,\n",
       " <selenium.webdriver.remote.webelement.WebElement (session=\"7b61fe854d070e893b3214884a0e4e76\", element=\"6017b782-30fe-4224-ae98-d63b975c2ad9\")>,\n",
       " <selenium.webdriver.remote.webelement.WebElement (session=\"7b61fe854d070e893b3214884a0e4e76\", element=\"6ef0073b-620d-44dc-8613-4d0b15468c8c\")>,\n",
       " <selenium.webdriver.remote.webelement.WebElement (session=\"7b61fe854d070e893b3214884a0e4e76\", element=\"6174ad64-4786-4c31-9804-9d1d85159470\")>,\n",
       " <selenium.webdriver.remote.webelement.WebElement (session=\"7b61fe854d070e893b3214884a0e4e76\", element=\"97a36ccc-0c17-4352-9bde-a836665a50cb\")>,\n",
       " <selenium.webdriver.remote.webelement.WebElement (session=\"7b61fe854d070e893b3214884a0e4e76\", element=\"873b973e-698f-4a70-a17a-191c47e404a4\")>,\n",
       " <selenium.webdriver.remote.webelement.WebElement (session=\"7b61fe854d070e893b3214884a0e4e76\", element=\"c1901b74-99cd-4861-9645-1dae1732c41e\")>,\n",
       " <selenium.webdriver.remote.webelement.WebElement (session=\"7b61fe854d070e893b3214884a0e4e76\", element=\"21efe1ca-bfd6-4a59-8378-3a560d008d68\")>,\n",
       " <selenium.webdriver.remote.webelement.WebElement (session=\"7b61fe854d070e893b3214884a0e4e76\", element=\"b9b8d6b5-e321-42e2-a202-cb37c9062714\")>,\n",
       " <selenium.webdriver.remote.webelement.WebElement (session=\"7b61fe854d070e893b3214884a0e4e76\", element=\"ff5b784a-705e-410e-aec5-76e83bf40765\")>,\n",
       " <selenium.webdriver.remote.webelement.WebElement (session=\"7b61fe854d070e893b3214884a0e4e76\", element=\"81513026-b8dd-4caf-8ccb-3e32a8a26273\")>,\n",
       " <selenium.webdriver.remote.webelement.WebElement (session=\"7b61fe854d070e893b3214884a0e4e76\", element=\"42e80833-bd44-4793-9d2b-a22a6216ebf4\")>,\n",
       " <selenium.webdriver.remote.webelement.WebElement (session=\"7b61fe854d070e893b3214884a0e4e76\", element=\"3483e8b9-dd3e-442d-9070-85b9d697354c\")>,\n",
       " <selenium.webdriver.remote.webelement.WebElement (session=\"7b61fe854d070e893b3214884a0e4e76\", element=\"25c8225f-ce45-4626-9333-3da9d6188960\")>,\n",
       " <selenium.webdriver.remote.webelement.WebElement (session=\"7b61fe854d070e893b3214884a0e4e76\", element=\"d1467211-caba-4e07-9b83-e93aa00d8c6b\")>,\n",
       " <selenium.webdriver.remote.webelement.WebElement (session=\"7b61fe854d070e893b3214884a0e4e76\", element=\"369206e3-4de7-498d-af1d-aae0871500a0\")>,\n",
       " <selenium.webdriver.remote.webelement.WebElement (session=\"7b61fe854d070e893b3214884a0e4e76\", element=\"71d8c3bd-ab13-40fb-ac15-896b6f6abde1\")>,\n",
       " <selenium.webdriver.remote.webelement.WebElement (session=\"7b61fe854d070e893b3214884a0e4e76\", element=\"ced523a7-df79-47db-8de2-62a71bf7e708\")>,\n",
       " <selenium.webdriver.remote.webelement.WebElement (session=\"7b61fe854d070e893b3214884a0e4e76\", element=\"98f3c7b7-2723-4935-a46e-88e9406166fd\")>,\n",
       " <selenium.webdriver.remote.webelement.WebElement (session=\"7b61fe854d070e893b3214884a0e4e76\", element=\"2ffa6c08-17fa-449a-8bb6-f8106d3d0a82\")>,\n",
       " <selenium.webdriver.remote.webelement.WebElement (session=\"7b61fe854d070e893b3214884a0e4e76\", element=\"44866d7b-9ba5-4d20-bf25-dbd2a7c9428b\")>,\n",
       " <selenium.webdriver.remote.webelement.WebElement (session=\"7b61fe854d070e893b3214884a0e4e76\", element=\"938f6e88-1bfd-44a0-81f2-9bfcf7046e40\")>,\n",
       " <selenium.webdriver.remote.webelement.WebElement (session=\"7b61fe854d070e893b3214884a0e4e76\", element=\"f31668b3-7d30-44a2-8520-1e540dd731cc\")>,\n",
       " <selenium.webdriver.remote.webelement.WebElement (session=\"7b61fe854d070e893b3214884a0e4e76\", element=\"8d70bd9b-216e-4248-be17-2d19aac10a48\")>,\n",
       " <selenium.webdriver.remote.webelement.WebElement (session=\"7b61fe854d070e893b3214884a0e4e76\", element=\"766b3069-8c54-44f1-b448-a5936173ee4e\")>,\n",
       " <selenium.webdriver.remote.webelement.WebElement (session=\"7b61fe854d070e893b3214884a0e4e76\", element=\"04e2c517-844d-492e-a480-cdaf0d0d5ebb\")>,\n",
       " <selenium.webdriver.remote.webelement.WebElement (session=\"7b61fe854d070e893b3214884a0e4e76\", element=\"6c9ade96-9f1a-42c3-92d1-94f59ed3195c\")>]"
      ]
     },
     "execution_count": 39,
     "metadata": {},
     "output_type": "execute_result"
    }
   ],
   "source": [
    "# Sraping company name\n",
    "company_tag=driver.find_elements_by_xpath(\"//a[@class=' css-l2wjgv e1n63ojh0 jobLink']\")\n",
    "company_tag"
   ]
  },
  {
   "cell_type": "code",
   "execution_count": 41,
   "metadata": {},
   "outputs": [
    {
     "data": {
      "text/plain": [
       "['Liberin Technologies Private Limited',\n",
       " 'Pixel Vision',\n",
       " 'Newgen Software',\n",
       " 'Biz2Credit Inc',\n",
       " 'Salasar New Age Technologies',\n",
       " 'Crowe',\n",
       " 'Techlive',\n",
       " 'Uncodemy',\n",
       " 'Salasar New Age Technologies',\n",
       " 'DataTrained',\n",
       " 'British Council',\n",
       " 'Ericsson',\n",
       " 'Deciman',\n",
       " 'Conduent',\n",
       " 'NEC Opportunities',\n",
       " 'SearchUrCollege',\n",
       " 'Emerging India Analytics',\n",
       " 'Innovacer',\n",
       " 'Innovacer',\n",
       " 'WhizHack Technologies Pvt Ltd',\n",
       " 'dunnhumby',\n",
       " 'Airtel India',\n",
       " 'Data Trained Education',\n",
       " 'WishFin',\n",
       " 'EVC Ventures',\n",
       " 'Ameriprise Financial',\n",
       " 'Algoscale',\n",
       " 'Genpact',\n",
       " 'Aliqan Technologies',\n",
       " 'Decision Tree Analytics And Services']"
      ]
     },
     "execution_count": 41,
     "metadata": {},
     "output_type": "execute_result"
    }
   ],
   "source": [
    "company_list=[]\n",
    "for i in company_tag:\n",
    "    company_list.append(i.text)\n",
    "company_list"
   ]
  },
  {
   "cell_type": "code",
   "execution_count": 42,
   "metadata": {},
   "outputs": [
    {
     "data": {
      "text/plain": [
       "[<selenium.webdriver.remote.webelement.WebElement (session=\"7b61fe854d070e893b3214884a0e4e76\", element=\"37d82b0b-fd61-4fbd-b761-5b2a34147cda\")>,\n",
       " <selenium.webdriver.remote.webelement.WebElement (session=\"7b61fe854d070e893b3214884a0e4e76\", element=\"c1535bea-7cff-4190-880b-a71ea0c1bba0\")>,\n",
       " <selenium.webdriver.remote.webelement.WebElement (session=\"7b61fe854d070e893b3214884a0e4e76\", element=\"c2b51367-8741-44a3-83ba-d8a7cac7b310\")>,\n",
       " <selenium.webdriver.remote.webelement.WebElement (session=\"7b61fe854d070e893b3214884a0e4e76\", element=\"36fa012f-734d-465c-8acf-fbdaae2a367e\")>,\n",
       " <selenium.webdriver.remote.webelement.WebElement (session=\"7b61fe854d070e893b3214884a0e4e76\", element=\"49190cf8-88ee-4b9d-8a17-ea4ffdf87f2b\")>,\n",
       " <selenium.webdriver.remote.webelement.WebElement (session=\"7b61fe854d070e893b3214884a0e4e76\", element=\"b58e9671-f1df-441d-b243-ca2d86614a5c\")>,\n",
       " <selenium.webdriver.remote.webelement.WebElement (session=\"7b61fe854d070e893b3214884a0e4e76\", element=\"6ffb2538-2666-4c1b-a73f-718e829569b6\")>,\n",
       " <selenium.webdriver.remote.webelement.WebElement (session=\"7b61fe854d070e893b3214884a0e4e76\", element=\"83565417-82c7-4ef4-b646-1e51cbf30eea\")>,\n",
       " <selenium.webdriver.remote.webelement.WebElement (session=\"7b61fe854d070e893b3214884a0e4e76\", element=\"6a76cd3b-e9aa-4ec0-8de8-2cd196eb9c54\")>,\n",
       " <selenium.webdriver.remote.webelement.WebElement (session=\"7b61fe854d070e893b3214884a0e4e76\", element=\"24a34deb-a037-41c5-bb1a-342ee13c7867\")>,\n",
       " <selenium.webdriver.remote.webelement.WebElement (session=\"7b61fe854d070e893b3214884a0e4e76\", element=\"e4952ed1-7ec7-4b2b-89b2-dd15368f1757\")>,\n",
       " <selenium.webdriver.remote.webelement.WebElement (session=\"7b61fe854d070e893b3214884a0e4e76\", element=\"d1132e2c-ea1c-4f29-b172-a4db6950b91f\")>,\n",
       " <selenium.webdriver.remote.webelement.WebElement (session=\"7b61fe854d070e893b3214884a0e4e76\", element=\"6ec94875-989f-4bb8-a8cb-af18f154648f\")>,\n",
       " <selenium.webdriver.remote.webelement.WebElement (session=\"7b61fe854d070e893b3214884a0e4e76\", element=\"14edbdbd-665f-44a6-b3d3-94ecf954c055\")>,\n",
       " <selenium.webdriver.remote.webelement.WebElement (session=\"7b61fe854d070e893b3214884a0e4e76\", element=\"5bc1bc60-6cb1-4b4f-bbe6-cb7260ad235b\")>,\n",
       " <selenium.webdriver.remote.webelement.WebElement (session=\"7b61fe854d070e893b3214884a0e4e76\", element=\"101564d6-3ef8-4313-aee4-6fb6e15ccc42\")>,\n",
       " <selenium.webdriver.remote.webelement.WebElement (session=\"7b61fe854d070e893b3214884a0e4e76\", element=\"64d5c1e4-b56c-4d8d-b651-42607ae03359\")>,\n",
       " <selenium.webdriver.remote.webelement.WebElement (session=\"7b61fe854d070e893b3214884a0e4e76\", element=\"78822507-1cd3-4673-8d00-2d9e977e0978\")>,\n",
       " <selenium.webdriver.remote.webelement.WebElement (session=\"7b61fe854d070e893b3214884a0e4e76\", element=\"80536de0-e852-4615-b40b-ee32ae651811\")>,\n",
       " <selenium.webdriver.remote.webelement.WebElement (session=\"7b61fe854d070e893b3214884a0e4e76\", element=\"fafc7cff-eb01-4aa8-a5ca-badbffcb7c62\")>,\n",
       " <selenium.webdriver.remote.webelement.WebElement (session=\"7b61fe854d070e893b3214884a0e4e76\", element=\"1a07d0a7-d2f3-4094-b472-6dc06eac98f4\")>,\n",
       " <selenium.webdriver.remote.webelement.WebElement (session=\"7b61fe854d070e893b3214884a0e4e76\", element=\"23341679-9ee9-4749-8297-cdd0fc540a23\")>,\n",
       " <selenium.webdriver.remote.webelement.WebElement (session=\"7b61fe854d070e893b3214884a0e4e76\", element=\"67790ee1-75f1-45d4-a1e7-7a633c7b81aa\")>,\n",
       " <selenium.webdriver.remote.webelement.WebElement (session=\"7b61fe854d070e893b3214884a0e4e76\", element=\"925e4b65-7aee-47d6-99ff-73b67e59dd02\")>,\n",
       " <selenium.webdriver.remote.webelement.WebElement (session=\"7b61fe854d070e893b3214884a0e4e76\", element=\"a12cd9c2-92a5-4c8d-9486-912979be8427\")>,\n",
       " <selenium.webdriver.remote.webelement.WebElement (session=\"7b61fe854d070e893b3214884a0e4e76\", element=\"64e06285-75f1-42ed-a374-9914e0f3adeb\")>,\n",
       " <selenium.webdriver.remote.webelement.WebElement (session=\"7b61fe854d070e893b3214884a0e4e76\", element=\"abfc8585-4f1d-4af7-85b1-9c66c1a9ea6b\")>,\n",
       " <selenium.webdriver.remote.webelement.WebElement (session=\"7b61fe854d070e893b3214884a0e4e76\", element=\"92a9dfd0-1647-4a3f-b937-385a813ab933\")>,\n",
       " <selenium.webdriver.remote.webelement.WebElement (session=\"7b61fe854d070e893b3214884a0e4e76\", element=\"a4476805-24e3-4951-b2dd-be7bd0f64ea7\")>,\n",
       " <selenium.webdriver.remote.webelement.WebElement (session=\"7b61fe854d070e893b3214884a0e4e76\", element=\"880cf092-37ae-4ca5-9856-b238fceb6d5a\")>]"
      ]
     },
     "execution_count": 42,
     "metadata": {},
     "output_type": "execute_result"
    }
   ],
   "source": [
    "#Sraping no of days ago job posted\n",
    "days_tag=driver.find_elements_by_xpath(\"//div[@class='d-flex align-items-end pl-std css-mi55ob']\")\n",
    "days_tag"
   ]
  },
  {
   "cell_type": "code",
   "execution_count": 43,
   "metadata": {},
   "outputs": [
    {
     "data": {
      "text/plain": [
       "['11d',\n",
       " '21d',\n",
       " '22d',\n",
       " '30d+',\n",
       " '30d+',\n",
       " '30d+',\n",
       " '30d+',\n",
       " '2d',\n",
       " '30d+',\n",
       " '24h',\n",
       " '24h',\n",
       " '6d',\n",
       " '10d',\n",
       " '30d+',\n",
       " '3d',\n",
       " '30d+',\n",
       " '2d',\n",
       " '3d',\n",
       " '30d+',\n",
       " '25d',\n",
       " '1d',\n",
       " '4d',\n",
       " '24h',\n",
       " '30d+',\n",
       " '24h',\n",
       " '11d',\n",
       " '30d+',\n",
       " '30d+',\n",
       " '23d',\n",
       " '1d']"
      ]
     },
     "execution_count": 43,
     "metadata": {},
     "output_type": "execute_result"
    }
   ],
   "source": [
    "day_list=[]\n",
    "for i in days_tag:\n",
    "    day_list.append(i.text)\n",
    "day_list"
   ]
  },
  {
   "cell_type": "code",
   "execution_count": 45,
   "metadata": {},
   "outputs": [
    {
     "data": {
      "text/plain": [
       "[<selenium.webdriver.remote.webelement.WebElement (session=\"7b61fe854d070e893b3214884a0e4e76\", element=\"850dadf0-9d0d-4676-932f-90ba70d5e5c5\")>,\n",
       " <selenium.webdriver.remote.webelement.WebElement (session=\"7b61fe854d070e893b3214884a0e4e76\", element=\"585ad6ca-ad4e-40e2-a78e-1ee816fa21e8\")>,\n",
       " <selenium.webdriver.remote.webelement.WebElement (session=\"7b61fe854d070e893b3214884a0e4e76\", element=\"59965ff4-6e5a-4db3-92e3-7a2618de1d55\")>,\n",
       " <selenium.webdriver.remote.webelement.WebElement (session=\"7b61fe854d070e893b3214884a0e4e76\", element=\"a5d745cf-58b6-41c4-935e-4801d32ac0c1\")>,\n",
       " <selenium.webdriver.remote.webelement.WebElement (session=\"7b61fe854d070e893b3214884a0e4e76\", element=\"21e061a9-135e-4d46-a5fc-29b9c70ff52a\")>,\n",
       " <selenium.webdriver.remote.webelement.WebElement (session=\"7b61fe854d070e893b3214884a0e4e76\", element=\"393ab66b-75c2-4bff-ad89-7a1905adfed7\")>,\n",
       " <selenium.webdriver.remote.webelement.WebElement (session=\"7b61fe854d070e893b3214884a0e4e76\", element=\"00852ddb-8487-4ff4-8b26-8e08b3ce65e9\")>,\n",
       " <selenium.webdriver.remote.webelement.WebElement (session=\"7b61fe854d070e893b3214884a0e4e76\", element=\"e7ba6e8c-96d9-4722-b365-7772a7b0d64a\")>,\n",
       " <selenium.webdriver.remote.webelement.WebElement (session=\"7b61fe854d070e893b3214884a0e4e76\", element=\"e0c9aefb-e26c-4118-b770-2775398c7f6f\")>,\n",
       " <selenium.webdriver.remote.webelement.WebElement (session=\"7b61fe854d070e893b3214884a0e4e76\", element=\"52ac11f7-4ef4-41ed-ae62-237a43c3d3e1\")>,\n",
       " <selenium.webdriver.remote.webelement.WebElement (session=\"7b61fe854d070e893b3214884a0e4e76\", element=\"04656972-584f-4acd-80cd-3802404199e4\")>,\n",
       " <selenium.webdriver.remote.webelement.WebElement (session=\"7b61fe854d070e893b3214884a0e4e76\", element=\"839651ef-169b-4d91-97ab-040055b0840c\")>,\n",
       " <selenium.webdriver.remote.webelement.WebElement (session=\"7b61fe854d070e893b3214884a0e4e76\", element=\"a2eec416-6b93-406c-b90c-aacd7395c0c2\")>,\n",
       " <selenium.webdriver.remote.webelement.WebElement (session=\"7b61fe854d070e893b3214884a0e4e76\", element=\"9181bdc5-93bb-4c4d-a27e-da3e9ce01377\")>,\n",
       " <selenium.webdriver.remote.webelement.WebElement (session=\"7b61fe854d070e893b3214884a0e4e76\", element=\"23484524-9692-4731-95bc-bef170aed596\")>,\n",
       " <selenium.webdriver.remote.webelement.WebElement (session=\"7b61fe854d070e893b3214884a0e4e76\", element=\"6646d16a-602d-4d00-8bad-53a364f1d074\")>,\n",
       " <selenium.webdriver.remote.webelement.WebElement (session=\"7b61fe854d070e893b3214884a0e4e76\", element=\"13deb970-c576-4fb7-ad36-10a1f3a1162d\")>,\n",
       " <selenium.webdriver.remote.webelement.WebElement (session=\"7b61fe854d070e893b3214884a0e4e76\", element=\"194848a7-1d1e-4374-b328-0cce4a28dc83\")>,\n",
       " <selenium.webdriver.remote.webelement.WebElement (session=\"7b61fe854d070e893b3214884a0e4e76\", element=\"ae92ae0a-b433-41f0-b207-cfbe808cb317\")>]"
      ]
     },
     "execution_count": 45,
     "metadata": {},
     "output_type": "execute_result"
    }
   ],
   "source": [
    "rating_tag=driver.find_elements_by_xpath(\"//span[@class='css-19pjha7 e1cjmv6j1']\")\n",
    "rating_tag"
   ]
  },
  {
   "cell_type": "code",
   "execution_count": 46,
   "metadata": {},
   "outputs": [
    {
     "data": {
      "text/plain": [
       "['3.3',\n",
       " '4.1',\n",
       " '3.8',\n",
       " '5.0',\n",
       " '4.6',\n",
       " '3.7',\n",
       " '4.1',\n",
       " '3.7',\n",
       " '3.1',\n",
       " '3.8',\n",
       " '3.8',\n",
       " '4.1',\n",
       " '3.8',\n",
       " '3.8',\n",
       " '3.0',\n",
       " '3.8',\n",
       " '3.9',\n",
       " '3.8',\n",
       " '4.7']"
      ]
     },
     "execution_count": 46,
     "metadata": {},
     "output_type": "execute_result"
    }
   ],
   "source": [
    "rating_list=[]\n",
    "for i in rating_tag:\n",
    "    rating_list.append(i.text)\n",
    "rating_list"
   ]
  },
  {
   "cell_type": "code",
   "execution_count": 50,
   "metadata": {},
   "outputs": [
    {
     "data": {
      "text/html": [
       "<div>\n",
       "<style scoped>\n",
       "    .dataframe tbody tr th:only-of-type {\n",
       "        vertical-align: middle;\n",
       "    }\n",
       "\n",
       "    .dataframe tbody tr th {\n",
       "        vertical-align: top;\n",
       "    }\n",
       "\n",
       "    .dataframe thead th {\n",
       "        text-align: right;\n",
       "    }\n",
       "</style>\n",
       "<table border=\"1\" class=\"dataframe\">\n",
       "  <thead>\n",
       "    <tr style=\"text-align: right;\">\n",
       "      <th></th>\n",
       "      <th>Company_name</th>\n",
       "      <th>Days ago</th>\n",
       "      <th>Rating</th>\n",
       "    </tr>\n",
       "  </thead>\n",
       "  <tbody>\n",
       "    <tr>\n",
       "      <th>1</th>\n",
       "      <td>Liberin Technologies Private Limited</td>\n",
       "      <td>11d</td>\n",
       "      <td>3.3</td>\n",
       "    </tr>\n",
       "    <tr>\n",
       "      <th>2</th>\n",
       "      <td>Pixel Vision</td>\n",
       "      <td>21d</td>\n",
       "      <td>4.1</td>\n",
       "    </tr>\n",
       "    <tr>\n",
       "      <th>3</th>\n",
       "      <td>Newgen Software</td>\n",
       "      <td>22d</td>\n",
       "      <td>3.8</td>\n",
       "    </tr>\n",
       "    <tr>\n",
       "      <th>4</th>\n",
       "      <td>Biz2Credit Inc</td>\n",
       "      <td>30d+</td>\n",
       "      <td>5.0</td>\n",
       "    </tr>\n",
       "    <tr>\n",
       "      <th>5</th>\n",
       "      <td>Salasar New Age Technologies</td>\n",
       "      <td>30d+</td>\n",
       "      <td>4.6</td>\n",
       "    </tr>\n",
       "    <tr>\n",
       "      <th>6</th>\n",
       "      <td>Crowe</td>\n",
       "      <td>30d+</td>\n",
       "      <td>3.7</td>\n",
       "    </tr>\n",
       "    <tr>\n",
       "      <th>7</th>\n",
       "      <td>Techlive</td>\n",
       "      <td>30d+</td>\n",
       "      <td>4.1</td>\n",
       "    </tr>\n",
       "    <tr>\n",
       "      <th>8</th>\n",
       "      <td>Uncodemy</td>\n",
       "      <td>2d</td>\n",
       "      <td>3.7</td>\n",
       "    </tr>\n",
       "    <tr>\n",
       "      <th>9</th>\n",
       "      <td>Salasar New Age Technologies</td>\n",
       "      <td>30d+</td>\n",
       "      <td>3.1</td>\n",
       "    </tr>\n",
       "    <tr>\n",
       "      <th>10</th>\n",
       "      <td>DataTrained</td>\n",
       "      <td>24h</td>\n",
       "      <td>3.8</td>\n",
       "    </tr>\n",
       "  </tbody>\n",
       "</table>\n",
       "</div>"
      ],
      "text/plain": [
       "                            Company_name Days ago Rating\n",
       "1   Liberin Technologies Private Limited      11d    3.3\n",
       "2                           Pixel Vision      21d    4.1\n",
       "3                        Newgen Software      22d    3.8\n",
       "4                         Biz2Credit Inc     30d+    5.0\n",
       "5           Salasar New Age Technologies     30d+    4.6\n",
       "6                                  Crowe     30d+    3.7\n",
       "7                               Techlive     30d+    4.1\n",
       "8                               Uncodemy       2d    3.7\n",
       "9           Salasar New Age Technologies     30d+    3.1\n",
       "10                           DataTrained      24h    3.8"
      ]
     },
     "execution_count": 50,
     "metadata": {},
     "output_type": "execute_result"
    }
   ],
   "source": [
    "import numpy as np\n",
    "df=pd.DataFrame({})\n",
    "df['Company_name']=company_list[0:10]\n",
    "df['Days ago']=day_list[0:10]\n",
    "df['Rating']=rating_list[0:10]\n",
    "df.index=np.arange(1,len(company_list[0:10])+1)\n",
    "df"
   ]
  },
  {
   "cell_type": "markdown",
   "metadata": {},
   "source": [
    "### Q5: Write a python program to scrape the salary data for Data Scientist designation in Noida location"
   ]
  },
  {
   "cell_type": "code",
   "execution_count": 15,
   "metadata": {},
   "outputs": [],
   "source": [
    "#Connecting to the web driver\n",
    "driver=webdriver.Chrome('chromedriver.exe')"
   ]
  },
  {
   "cell_type": "code",
   "execution_count": 16,
   "metadata": {},
   "outputs": [],
   "source": [
    "url='https://www.glassdoor.co.in/Salaries/index.htm'\n",
    "driver.get(url)"
   ]
  },
  {
   "cell_type": "code",
   "execution_count": 17,
   "metadata": {},
   "outputs": [
    {
     "data": {
      "text/plain": [
       "<selenium.webdriver.remote.webelement.WebElement (session=\"173e4c5431a0d72c475bddd19535e582\", element=\"9472c9af-96f2-4f81-8558-aeb986749b7f\")>"
      ]
     },
     "execution_count": 17,
     "metadata": {},
     "output_type": "execute_result"
    }
   ],
   "source": [
    "#finding web element for search\n",
    "search_tag=driver.find_element_by_id('KeywordSearch')\n",
    "search_tag"
   ]
  },
  {
   "cell_type": "code",
   "execution_count": 18,
   "metadata": {},
   "outputs": [],
   "source": [
    "# Writing on web element search box as Data Scientist\n",
    "search_tag.send_keys('Data Scientist')"
   ]
  },
  {
   "cell_type": "code",
   "execution_count": 19,
   "metadata": {},
   "outputs": [
    {
     "data": {
      "text/plain": [
       "<selenium.webdriver.remote.webelement.WebElement (session=\"173e4c5431a0d72c475bddd19535e582\", element=\"e925a70d-9582-4500-add7-a33c19c9101f\")>"
      ]
     },
     "execution_count": 19,
     "metadata": {},
     "output_type": "execute_result"
    }
   ],
   "source": [
    "#Finding web element for location\n",
    "location_tag=driver.find_element_by_id('LocationSearch')\n",
    "location_tag"
   ]
  },
  {
   "cell_type": "code",
   "execution_count": 20,
   "metadata": {},
   "outputs": [],
   "source": [
    "# Writing on web element on location as Noida\n",
    "location_tag.send_keys('Noida')"
   ]
  },
  {
   "cell_type": "code",
   "execution_count": 21,
   "metadata": {},
   "outputs": [
    {
     "data": {
      "text/plain": [
       "<selenium.webdriver.remote.webelement.WebElement (session=\"173e4c5431a0d72c475bddd19535e582\", element=\"6c218cbf-a31e-4ba6-b755-04fa873dfe55\")>"
      ]
     },
     "execution_count": 21,
     "metadata": {},
     "output_type": "execute_result"
    }
   ],
   "source": [
    "# Clicking on search button\n",
    "search_button=driver.find_element_by_id('HeroSearchButton')\n",
    "search_button"
   ]
  },
  {
   "cell_type": "code",
   "execution_count": 22,
   "metadata": {},
   "outputs": [],
   "source": [
    "search_button.click()"
   ]
  },
  {
   "cell_type": "code",
   "execution_count": 23,
   "metadata": {
    "collapsed": true
   },
   "outputs": [
    {
     "data": {
      "text/plain": [
       "[<selenium.webdriver.remote.webelement.WebElement (session=\"173e4c5431a0d72c475bddd19535e582\", element=\"81eea9d2-5cb6-460b-a08e-cc401926617c\")>,\n",
       " <selenium.webdriver.remote.webelement.WebElement (session=\"173e4c5431a0d72c475bddd19535e582\", element=\"2d4fb179-548c-477d-8a3b-d678be1cdbbc\")>,\n",
       " <selenium.webdriver.remote.webelement.WebElement (session=\"173e4c5431a0d72c475bddd19535e582\", element=\"054f7c44-8cb1-45bd-a5d2-13a5390df6b7\")>,\n",
       " <selenium.webdriver.remote.webelement.WebElement (session=\"173e4c5431a0d72c475bddd19535e582\", element=\"b2b5467f-9b77-4eef-98aa-4dc778bda4d4\")>,\n",
       " <selenium.webdriver.remote.webelement.WebElement (session=\"173e4c5431a0d72c475bddd19535e582\", element=\"715a9367-ed66-4d02-a928-38774711435d\")>,\n",
       " <selenium.webdriver.remote.webelement.WebElement (session=\"173e4c5431a0d72c475bddd19535e582\", element=\"926ab34c-0c1c-4376-8fc7-40043de4140a\")>,\n",
       " <selenium.webdriver.remote.webelement.WebElement (session=\"173e4c5431a0d72c475bddd19535e582\", element=\"25b2603a-a531-41df-8db6-6253777a0f91\")>,\n",
       " <selenium.webdriver.remote.webelement.WebElement (session=\"173e4c5431a0d72c475bddd19535e582\", element=\"70b06349-3595-46ce-8bd1-b1680af3a115\")>,\n",
       " <selenium.webdriver.remote.webelement.WebElement (session=\"173e4c5431a0d72c475bddd19535e582\", element=\"4d45838c-fa6b-4564-8230-9815504fef88\")>,\n",
       " <selenium.webdriver.remote.webelement.WebElement (session=\"173e4c5431a0d72c475bddd19535e582\", element=\"fdfd0c36-a131-44be-a161-f0c7d48001aa\")>,\n",
       " <selenium.webdriver.remote.webelement.WebElement (session=\"173e4c5431a0d72c475bddd19535e582\", element=\"5d44c357-3242-47ad-93db-2dbbfdfe2738\")>,\n",
       " <selenium.webdriver.remote.webelement.WebElement (session=\"173e4c5431a0d72c475bddd19535e582\", element=\"a14b95cd-da8e-46df-84f2-b2d1022a58ab\")>,\n",
       " <selenium.webdriver.remote.webelement.WebElement (session=\"173e4c5431a0d72c475bddd19535e582\", element=\"d4f19bad-2c93-421b-b93c-0e4751cfb2ec\")>,\n",
       " <selenium.webdriver.remote.webelement.WebElement (session=\"173e4c5431a0d72c475bddd19535e582\", element=\"c6a7b016-22db-4e65-a81d-0ca6a362be73\")>,\n",
       " <selenium.webdriver.remote.webelement.WebElement (session=\"173e4c5431a0d72c475bddd19535e582\", element=\"406b6b78-5970-4772-972f-27e9ff475295\")>,\n",
       " <selenium.webdriver.remote.webelement.WebElement (session=\"173e4c5431a0d72c475bddd19535e582\", element=\"7d871e10-9609-4059-81c3-474742cd2d6d\")>,\n",
       " <selenium.webdriver.remote.webelement.WebElement (session=\"173e4c5431a0d72c475bddd19535e582\", element=\"590e10b8-7940-4b45-ae5d-c36bc04fbbc7\")>,\n",
       " <selenium.webdriver.remote.webelement.WebElement (session=\"173e4c5431a0d72c475bddd19535e582\", element=\"53fb8548-7670-42d8-a729-bb31f346f270\")>,\n",
       " <selenium.webdriver.remote.webelement.WebElement (session=\"173e4c5431a0d72c475bddd19535e582\", element=\"582acce8-1914-43d6-92fd-6ab33790410e\")>,\n",
       " <selenium.webdriver.remote.webelement.WebElement (session=\"173e4c5431a0d72c475bddd19535e582\", element=\"27b21d30-06d2-4f44-b500-15bcf62e97f0\")>]"
      ]
     },
     "execution_count": 23,
     "metadata": {},
     "output_type": "execute_result"
    }
   ],
   "source": [
    "#Scrapping company names\n",
    "company_list=[]\n",
    "company_tag=driver.find_elements_by_xpath(\"//a[@class='css-f3vw95 e1aj7ssy3']\")\n",
    "company_tag"
   ]
  },
  {
   "cell_type": "code",
   "execution_count": 24,
   "metadata": {
    "collapsed": true
   },
   "outputs": [
    {
     "data": {
      "text/plain": [
       "['Tata Consultancy Services',\n",
       " 'IBM',\n",
       " 'Accenture',\n",
       " 'Delhivery',\n",
       " 'Ericsson-Worldwide',\n",
       " 'UnitedHealth Group',\n",
       " 'Valiance Solutions',\n",
       " 'EXL Service',\n",
       " 'Optum',\n",
       " 'Optum Global Solutions',\n",
       " 'ZS Associates',\n",
       " 'Innovaccer',\n",
       " 'OYO',\n",
       " 'Nagarro',\n",
       " 'Cognizant Technology Solutions',\n",
       " 'CARS24.com',\n",
       " 'dunnhumby',\n",
       " 'Vidooly Media Tech',\n",
       " 'Tech Mahindra',\n",
       " 'Fresher']"
      ]
     },
     "execution_count": 24,
     "metadata": {},
     "output_type": "execute_result"
    }
   ],
   "source": [
    "for i in company_tag:\n",
    "    company_list.append(i.text)\n",
    "company_list"
   ]
  },
  {
   "cell_type": "code",
   "execution_count": 25,
   "metadata": {
    "collapsed": true
   },
   "outputs": [
    {
     "data": {
      "text/plain": [
       "[<selenium.webdriver.remote.webelement.WebElement (session=\"173e4c5431a0d72c475bddd19535e582\", element=\"9635e8cc-89af-4548-bff3-94c06be66de5\")>,\n",
       " <selenium.webdriver.remote.webelement.WebElement (session=\"173e4c5431a0d72c475bddd19535e582\", element=\"212becc2-e110-46e7-ab98-d49accf227ce\")>,\n",
       " <selenium.webdriver.remote.webelement.WebElement (session=\"173e4c5431a0d72c475bddd19535e582\", element=\"951ce99a-0624-4b41-bb72-9ae7ef1574f9\")>,\n",
       " <selenium.webdriver.remote.webelement.WebElement (session=\"173e4c5431a0d72c475bddd19535e582\", element=\"6287c8f3-3ff9-48a4-85bf-efc73ca3ef30\")>,\n",
       " <selenium.webdriver.remote.webelement.WebElement (session=\"173e4c5431a0d72c475bddd19535e582\", element=\"6a4ede8f-c56d-430b-9189-a8473513be5e\")>,\n",
       " <selenium.webdriver.remote.webelement.WebElement (session=\"173e4c5431a0d72c475bddd19535e582\", element=\"c666972d-e0b6-4e84-8559-f9f05082bbc7\")>,\n",
       " <selenium.webdriver.remote.webelement.WebElement (session=\"173e4c5431a0d72c475bddd19535e582\", element=\"5d892538-be55-40e7-90a2-edf19a36c199\")>,\n",
       " <selenium.webdriver.remote.webelement.WebElement (session=\"173e4c5431a0d72c475bddd19535e582\", element=\"e237abb4-f6e2-40b5-958c-d5fed0e0b300\")>,\n",
       " <selenium.webdriver.remote.webelement.WebElement (session=\"173e4c5431a0d72c475bddd19535e582\", element=\"f9d82bca-ca17-4977-a04e-5b1186315cc9\")>,\n",
       " <selenium.webdriver.remote.webelement.WebElement (session=\"173e4c5431a0d72c475bddd19535e582\", element=\"b8b438eb-71ec-4786-9c09-554cc0288ee4\")>,\n",
       " <selenium.webdriver.remote.webelement.WebElement (session=\"173e4c5431a0d72c475bddd19535e582\", element=\"a47e5ce3-7242-4d7f-8ca7-420d25ae6d47\")>,\n",
       " <selenium.webdriver.remote.webelement.WebElement (session=\"173e4c5431a0d72c475bddd19535e582\", element=\"4b185759-da21-4a53-a81f-81a1a63d6812\")>,\n",
       " <selenium.webdriver.remote.webelement.WebElement (session=\"173e4c5431a0d72c475bddd19535e582\", element=\"7957df84-b8e5-439c-999b-18dd0b7548d4\")>,\n",
       " <selenium.webdriver.remote.webelement.WebElement (session=\"173e4c5431a0d72c475bddd19535e582\", element=\"a7296478-d2b6-4321-9703-66240e930972\")>,\n",
       " <selenium.webdriver.remote.webelement.WebElement (session=\"173e4c5431a0d72c475bddd19535e582\", element=\"80e1bb32-1c42-4f7d-9730-66af31c663b2\")>,\n",
       " <selenium.webdriver.remote.webelement.WebElement (session=\"173e4c5431a0d72c475bddd19535e582\", element=\"6df5a1ab-9b50-4981-9612-5ab09e568522\")>,\n",
       " <selenium.webdriver.remote.webelement.WebElement (session=\"173e4c5431a0d72c475bddd19535e582\", element=\"1f8f374b-c161-4844-b23c-621a3d972691\")>,\n",
       " <selenium.webdriver.remote.webelement.WebElement (session=\"173e4c5431a0d72c475bddd19535e582\", element=\"652d72b5-02c8-44fd-bdb5-2eb96cfcbaf1\")>,\n",
       " <selenium.webdriver.remote.webelement.WebElement (session=\"173e4c5431a0d72c475bddd19535e582\", element=\"ac368ff8-b096-4ca7-b3d8-4fbd0d4df9fd\")>,\n",
       " <selenium.webdriver.remote.webelement.WebElement (session=\"173e4c5431a0d72c475bddd19535e582\", element=\"b3f4d20d-17b8-41ad-9743-2f047937b9e9\")>]"
      ]
     },
     "execution_count": 25,
     "metadata": {},
     "output_type": "execute_result"
    }
   ],
   "source": [
    "# scrapping average salary\n",
    "Avg_list=[]\n",
    "salary_tag=driver.find_elements_by_xpath(\"//div[@class='col-12 col-lg-4 px-lg-0 d-flex align-items-baseline']\")\n",
    "salary_tag"
   ]
  },
  {
   "cell_type": "code",
   "execution_count": 26,
   "metadata": {
    "collapsed": true
   },
   "outputs": [
    {
     "data": {
      "text/plain": [
       "['₹6,12,205  /yr',\n",
       " '₹9,00,000  /yr',\n",
       " '₹11,63,336  /yr',\n",
       " '₹12,18,244  /yr',\n",
       " '₹7,39,238  /yr',\n",
       " '₹12,80,000  /yr',\n",
       " '₹8,63,750  /yr',\n",
       " '₹11,10,000  /yr',\n",
       " '₹14,23,677  /yr',\n",
       " '₹13,28,697  /yr',\n",
       " '₹11,42,356  /yr',\n",
       " '₹12,09,040  /yr',\n",
       " '₹14,15,338  /yr',\n",
       " '₹10,22,074  /yr',\n",
       " '₹10,09,021  /yr',\n",
       " '₹10,00,000  /yr',\n",
       " '₹10,55,478  /yr',\n",
       " '₹34,157  /mo',\n",
       " '₹10,54,402  /yr',\n",
       " '₹80,000  /mo']"
      ]
     },
     "execution_count": 26,
     "metadata": {},
     "output_type": "execute_result"
    }
   ],
   "source": [
    "for i in salary_tag:\n",
    "    Avg_list.append(i.text.replace(\"\\n\",' '))\n",
    "Avg_list"
   ]
  },
  {
   "cell_type": "code",
   "execution_count": 27,
   "metadata": {
    "collapsed": true
   },
   "outputs": [
    {
     "data": {
      "text/plain": [
       "[<selenium.webdriver.remote.webelement.WebElement (session=\"173e4c5431a0d72c475bddd19535e582\", element=\"97be4055-ffde-4ad1-bacc-997cf0a931cf\")>,\n",
       " <selenium.webdriver.remote.webelement.WebElement (session=\"173e4c5431a0d72c475bddd19535e582\", element=\"d2705681-ecb0-4f32-a8a0-e587449d01e0\")>,\n",
       " <selenium.webdriver.remote.webelement.WebElement (session=\"173e4c5431a0d72c475bddd19535e582\", element=\"68c1b793-2e21-4bb4-9ed2-4bb8783bf09b\")>,\n",
       " <selenium.webdriver.remote.webelement.WebElement (session=\"173e4c5431a0d72c475bddd19535e582\", element=\"b07741b2-ab82-47f6-b958-9a87b0596d8b\")>,\n",
       " <selenium.webdriver.remote.webelement.WebElement (session=\"173e4c5431a0d72c475bddd19535e582\", element=\"e11cdf8e-9368-48f6-bb80-a4ff849dd23e\")>,\n",
       " <selenium.webdriver.remote.webelement.WebElement (session=\"173e4c5431a0d72c475bddd19535e582\", element=\"52a8ae98-620f-41e7-89d2-dcdc1a3b178d\")>,\n",
       " <selenium.webdriver.remote.webelement.WebElement (session=\"173e4c5431a0d72c475bddd19535e582\", element=\"683e728e-bda0-46b2-ae4e-32f237b2786c\")>,\n",
       " <selenium.webdriver.remote.webelement.WebElement (session=\"173e4c5431a0d72c475bddd19535e582\", element=\"43e37c6a-a7a5-45c3-8323-89182bd27699\")>,\n",
       " <selenium.webdriver.remote.webelement.WebElement (session=\"173e4c5431a0d72c475bddd19535e582\", element=\"3285b3fd-bf52-4765-a45e-a2f751f1f938\")>,\n",
       " <selenium.webdriver.remote.webelement.WebElement (session=\"173e4c5431a0d72c475bddd19535e582\", element=\"d19ddf40-2857-4c5b-b467-29132bc5f886\")>,\n",
       " <selenium.webdriver.remote.webelement.WebElement (session=\"173e4c5431a0d72c475bddd19535e582\", element=\"978ab519-f47c-46eb-b77a-270fb246e1ac\")>,\n",
       " <selenium.webdriver.remote.webelement.WebElement (session=\"173e4c5431a0d72c475bddd19535e582\", element=\"dd095f70-feaa-423b-83c3-b2f18682892d\")>,\n",
       " <selenium.webdriver.remote.webelement.WebElement (session=\"173e4c5431a0d72c475bddd19535e582\", element=\"ce169d07-e181-486f-b82a-cb659e6a617f\")>,\n",
       " <selenium.webdriver.remote.webelement.WebElement (session=\"173e4c5431a0d72c475bddd19535e582\", element=\"15a2e14c-4402-4475-bcb5-114e4e1e9ac5\")>,\n",
       " <selenium.webdriver.remote.webelement.WebElement (session=\"173e4c5431a0d72c475bddd19535e582\", element=\"dec20501-e0dc-41d4-ac00-4a3e1583655c\")>,\n",
       " <selenium.webdriver.remote.webelement.WebElement (session=\"173e4c5431a0d72c475bddd19535e582\", element=\"f3e92b84-b0db-45ac-a266-b69e45d0c772\")>,\n",
       " <selenium.webdriver.remote.webelement.WebElement (session=\"173e4c5431a0d72c475bddd19535e582\", element=\"37d66c34-2a1d-4b04-9ba5-8446535116a2\")>,\n",
       " <selenium.webdriver.remote.webelement.WebElement (session=\"173e4c5431a0d72c475bddd19535e582\", element=\"fc2cbf97-5dd0-43eb-ae08-f82633ac4913\")>,\n",
       " <selenium.webdriver.remote.webelement.WebElement (session=\"173e4c5431a0d72c475bddd19535e582\", element=\"9a9f308a-89ef-41a9-9959-879662bcd6fa\")>,\n",
       " <selenium.webdriver.remote.webelement.WebElement (session=\"173e4c5431a0d72c475bddd19535e582\", element=\"b580839b-4d4f-4c2a-bae9-cbe4bbe5f3f9\")>]"
      ]
     },
     "execution_count": 27,
     "metadata": {},
     "output_type": "execute_result"
    }
   ],
   "source": [
    "min_max_tag=driver.find_elements_by_xpath(\"//div[@class='d-flex mt-xxsm css-79elbk epuxyqn0']\")\n",
    "min_max_tag"
   ]
  },
  {
   "cell_type": "code",
   "execution_count": 88,
   "metadata": {
    "collapsed": true
   },
   "outputs": [
    {
     "data": {
      "text/plain": [
       "['₹3L----₹13L',\n",
       " '₹6L----₹27L',\n",
       " '₹6L----₹22L',\n",
       " '₹5L----₹1Cr',\n",
       " '₹4L----₹16L',\n",
       " '₹8L----₹15L',\n",
       " '₹5L----₹15L',\n",
       " '₹6L----₹15L',\n",
       " '₹8L----₹20L',\n",
       " '₹4L----₹22L',\n",
       " '₹2L----₹18L',\n",
       " '₹6L----₹17L',\n",
       " '₹10L----₹21L',\n",
       " '₹4L----₹16L',\n",
       " '₹8L----₹13L',\n",
       " '₹9L----₹15L',\n",
       " '₹8L----₹20L',\n",
       " '₹12T----₹63T',\n",
       " '₹4L----₹17L',\n",
       " '₹25T----₹1L']"
      ]
     },
     "execution_count": 88,
     "metadata": {},
     "output_type": "execute_result"
    }
   ],
   "source": [
    "#print(a.replace(\">\",\"> \\n\"))\n",
    "min_max_salary=[]\n",
    "for i in min_max_tag:\n",
    "    min_max_salary.append(i.text.replace('\\n','----'))\n",
    "min_max_salary"
   ]
  },
  {
   "cell_type": "code",
   "execution_count": 90,
   "metadata": {
    "collapsed": true
   },
   "outputs": [
    {
     "data": {
      "text/plain": [
       "[<selenium.webdriver.remote.webelement.WebElement (session=\"173e4c5431a0d72c475bddd19535e582\", element=\"9c57bd2a-7093-47d7-a1e4-99c52c889eda\")>,\n",
       " <selenium.webdriver.remote.webelement.WebElement (session=\"173e4c5431a0d72c475bddd19535e582\", element=\"bae98fea-0003-4ef9-b8a1-39e23aaaa008\")>,\n",
       " <selenium.webdriver.remote.webelement.WebElement (session=\"173e4c5431a0d72c475bddd19535e582\", element=\"c999cbef-8ca0-449f-945d-60ccbf50f958\")>,\n",
       " <selenium.webdriver.remote.webelement.WebElement (session=\"173e4c5431a0d72c475bddd19535e582\", element=\"b3f6f6af-8f04-4176-adab-4a6181d01cf2\")>,\n",
       " <selenium.webdriver.remote.webelement.WebElement (session=\"173e4c5431a0d72c475bddd19535e582\", element=\"d697e11a-c84a-4723-b350-b686ba701661\")>,\n",
       " <selenium.webdriver.remote.webelement.WebElement (session=\"173e4c5431a0d72c475bddd19535e582\", element=\"bf34682a-8885-4b38-9e4a-51e794ce7f29\")>,\n",
       " <selenium.webdriver.remote.webelement.WebElement (session=\"173e4c5431a0d72c475bddd19535e582\", element=\"1eb0cb5b-c4e7-4476-b9b9-02cb8ab4f1fc\")>,\n",
       " <selenium.webdriver.remote.webelement.WebElement (session=\"173e4c5431a0d72c475bddd19535e582\", element=\"db288cfd-dcc1-403e-84f4-0ec56ec4bdbe\")>,\n",
       " <selenium.webdriver.remote.webelement.WebElement (session=\"173e4c5431a0d72c475bddd19535e582\", element=\"e490fb41-7a4f-48f5-9b39-4feffca99235\")>,\n",
       " <selenium.webdriver.remote.webelement.WebElement (session=\"173e4c5431a0d72c475bddd19535e582\", element=\"101ce2cf-3eba-43f3-aabc-c5ca6edfcd15\")>,\n",
       " <selenium.webdriver.remote.webelement.WebElement (session=\"173e4c5431a0d72c475bddd19535e582\", element=\"d090d8f1-c77d-4c10-b794-91eb03caa3c6\")>,\n",
       " <selenium.webdriver.remote.webelement.WebElement (session=\"173e4c5431a0d72c475bddd19535e582\", element=\"67f94933-50f2-4100-a7d7-19c00028f327\")>,\n",
       " <selenium.webdriver.remote.webelement.WebElement (session=\"173e4c5431a0d72c475bddd19535e582\", element=\"020d0a1a-a621-43c6-9d43-5d0b58eca56a\")>,\n",
       " <selenium.webdriver.remote.webelement.WebElement (session=\"173e4c5431a0d72c475bddd19535e582\", element=\"54bb941f-2ef9-4425-aa80-e31a851f8140\")>,\n",
       " <selenium.webdriver.remote.webelement.WebElement (session=\"173e4c5431a0d72c475bddd19535e582\", element=\"681c869b-56d8-4b86-8ed4-f9ee779fa0db\")>,\n",
       " <selenium.webdriver.remote.webelement.WebElement (session=\"173e4c5431a0d72c475bddd19535e582\", element=\"8866bfab-5175-4f6b-b06d-360740d8bdd6\")>,\n",
       " <selenium.webdriver.remote.webelement.WebElement (session=\"173e4c5431a0d72c475bddd19535e582\", element=\"1bc2f9d0-93c2-421a-91c4-88db72bd3ceb\")>,\n",
       " <selenium.webdriver.remote.webelement.WebElement (session=\"173e4c5431a0d72c475bddd19535e582\", element=\"2c7d9935-9044-461d-889c-fcc94eb90ef9\")>,\n",
       " <selenium.webdriver.remote.webelement.WebElement (session=\"173e4c5431a0d72c475bddd19535e582\", element=\"d5993d2b-b0f0-4752-9b0a-aa6aa3417cae\")>,\n",
       " <selenium.webdriver.remote.webelement.WebElement (session=\"173e4c5431a0d72c475bddd19535e582\", element=\"9b407fb5-1710-44ec-8128-4d725113c494\")>]"
      ]
     },
     "execution_count": 90,
     "metadata": {},
     "output_type": "execute_result"
    }
   ],
   "source": [
    "no_salaries=driver.find_elements_by_xpath(\"//div[@class='col-12 col-lg-auto']\")\n",
    "no_salaries"
   ]
  },
  {
   "cell_type": "code",
   "execution_count": 92,
   "metadata": {
    "collapsed": true
   },
   "outputs": [
    {
     "data": {
      "text/plain": [
       "['18 salaries',\n",
       " '18 salaries',\n",
       " '15 salaries',\n",
       " '15 salaries',\n",
       " '14 salaries',\n",
       " '14 salaries',\n",
       " '10 salaries',\n",
       " '9 salaries',\n",
       " '9 salaries',\n",
       " '9 salaries',\n",
       " '8 salaries',\n",
       " '8 salaries',\n",
       " '7 salaries',\n",
       " '7 salaries',\n",
       " '6 salaries',\n",
       " '6 salaries',\n",
       " '6 salaries',\n",
       " '6 salaries',\n",
       " '5 salaries',\n",
       " '5 salaries']"
      ]
     },
     "execution_count": 92,
     "metadata": {},
     "output_type": "execute_result"
    }
   ],
   "source": [
    "# Scrapping number of salaries\n",
    "Number_Salaries=[]\n",
    "for i in no_salaries:\n",
    "    Number_Salaries.append(i.text)\n",
    "Number_Salaries"
   ]
  },
  {
   "cell_type": "code",
   "execution_count": 96,
   "metadata": {
    "collapsed": true
   },
   "outputs": [
    {
     "data": {
      "text/plain": [
       "[<selenium.webdriver.remote.webelement.WebElement (session=\"173e4c5431a0d72c475bddd19535e582\", element=\"031b87d5-f2b4-407f-a1ce-44f265b72348\")>,\n",
       " <selenium.webdriver.remote.webelement.WebElement (session=\"173e4c5431a0d72c475bddd19535e582\", element=\"85359200-f325-4bd5-b2c3-f5d925b5c5db\")>,\n",
       " <selenium.webdriver.remote.webelement.WebElement (session=\"173e4c5431a0d72c475bddd19535e582\", element=\"451488b5-3ab4-4ffc-9157-481fd91b8078\")>,\n",
       " <selenium.webdriver.remote.webelement.WebElement (session=\"173e4c5431a0d72c475bddd19535e582\", element=\"1696471c-cdaf-47ae-bbb1-1c39ab796137\")>,\n",
       " <selenium.webdriver.remote.webelement.WebElement (session=\"173e4c5431a0d72c475bddd19535e582\", element=\"901a8aeb-71b4-467c-a376-9d979958a1c8\")>,\n",
       " <selenium.webdriver.remote.webelement.WebElement (session=\"173e4c5431a0d72c475bddd19535e582\", element=\"6b68f03b-d88e-4716-b41c-1578ce6de5d9\")>,\n",
       " <selenium.webdriver.remote.webelement.WebElement (session=\"173e4c5431a0d72c475bddd19535e582\", element=\"61f31455-2de9-4d98-a4e7-aa5762d6f6b7\")>,\n",
       " <selenium.webdriver.remote.webelement.WebElement (session=\"173e4c5431a0d72c475bddd19535e582\", element=\"892298f8-f5e6-4b3d-8146-d49ef43da2cb\")>,\n",
       " <selenium.webdriver.remote.webelement.WebElement (session=\"173e4c5431a0d72c475bddd19535e582\", element=\"e6940af2-edbc-422e-a12b-1d39e53f483d\")>,\n",
       " <selenium.webdriver.remote.webelement.WebElement (session=\"173e4c5431a0d72c475bddd19535e582\", element=\"3edbd696-38e0-4b93-9ae6-10cd89b10994\")>,\n",
       " <selenium.webdriver.remote.webelement.WebElement (session=\"173e4c5431a0d72c475bddd19535e582\", element=\"fa9ac2e0-07f7-4d57-ae1d-8a13b646446d\")>,\n",
       " <selenium.webdriver.remote.webelement.WebElement (session=\"173e4c5431a0d72c475bddd19535e582\", element=\"53e9c539-1d3c-40a8-98d8-d2be9f2effff\")>,\n",
       " <selenium.webdriver.remote.webelement.WebElement (session=\"173e4c5431a0d72c475bddd19535e582\", element=\"23173f77-9c18-4a2c-ab41-b279717d9a01\")>,\n",
       " <selenium.webdriver.remote.webelement.WebElement (session=\"173e4c5431a0d72c475bddd19535e582\", element=\"7c1de4ee-a3a5-4a95-8e34-a0c4dc9b5dbe\")>,\n",
       " <selenium.webdriver.remote.webelement.WebElement (session=\"173e4c5431a0d72c475bddd19535e582\", element=\"06fe4c93-a023-4e49-9ea9-ec4cd516c63e\")>,\n",
       " <selenium.webdriver.remote.webelement.WebElement (session=\"173e4c5431a0d72c475bddd19535e582\", element=\"5723cf69-fbad-435b-a292-64c1fdd06514\")>,\n",
       " <selenium.webdriver.remote.webelement.WebElement (session=\"173e4c5431a0d72c475bddd19535e582\", element=\"b445d36b-abee-4f73-9bf3-1dfb96733876\")>,\n",
       " <selenium.webdriver.remote.webelement.WebElement (session=\"173e4c5431a0d72c475bddd19535e582\", element=\"c789d182-721d-4ab1-8b87-e8671e76a3be\")>,\n",
       " <selenium.webdriver.remote.webelement.WebElement (session=\"173e4c5431a0d72c475bddd19535e582\", element=\"5ffaf631-b90a-49be-8d6a-0eab98cbdf59\")>,\n",
       " <selenium.webdriver.remote.webelement.WebElement (session=\"173e4c5431a0d72c475bddd19535e582\", element=\"ad46a571-6717-4bee-be3f-edea597b5df5\")>]"
      ]
     },
     "execution_count": 96,
     "metadata": {},
     "output_type": "execute_result"
    }
   ],
   "source": [
    "#Scraping rating for each of the comapany\n",
    "rating_tag=driver.find_elements_by_xpath(\"//div[@class='d-flex align-items-center mt-xxsm']\")\n",
    "rating_tag"
   ]
  },
  {
   "cell_type": "code",
   "execution_count": 98,
   "metadata": {
    "scrolled": false
   },
   "outputs": [
    {
     "data": {
      "text/plain": [
       "['3.9 ★',\n",
       " '3.9 ★',\n",
       " '4.1 ★',\n",
       " '3.9 ★',\n",
       " '4 ★',\n",
       " '3.6 ★',\n",
       " '4.2 ★',\n",
       " '3.6 ★',\n",
       " '3.7 ★',\n",
       " '3.9 ★',\n",
       " '4 ★',\n",
       " '3.8 ★',\n",
       " '3.3 ★',\n",
       " '4 ★',\n",
       " '3.8 ★',\n",
       " '4.1 ★',\n",
       " '4.1 ★',\n",
       " '3.7 ★',\n",
       " '3.6 ★',\n",
       " '4.2 ★']"
      ]
     },
     "execution_count": 98,
     "metadata": {},
     "output_type": "execute_result"
    }
   ],
   "source": [
    "Rating_list=[]\n",
    "for i in rating_tag:\n",
    "    Rating_list.append(i.text.replace(\"\\n\",' '))\n",
    "Rating_list"
   ]
  },
  {
   "cell_type": "code",
   "execution_count": 99,
   "metadata": {},
   "outputs": [
    {
     "name": "stdout",
     "output_type": "stream",
     "text": [
      "20 20 20 20 20\n"
     ]
    }
   ],
   "source": [
    "#Checking the length\n",
    "print(len(company_list),len(Avg_list),len(min_max_salary),len(Number_Salaries),len(Rating_list))"
   ]
  },
  {
   "cell_type": "code",
   "execution_count": 103,
   "metadata": {},
   "outputs": [
    {
     "data": {
      "text/html": [
       "<div>\n",
       "<style scoped>\n",
       "    .dataframe tbody tr th:only-of-type {\n",
       "        vertical-align: middle;\n",
       "    }\n",
       "\n",
       "    .dataframe tbody tr th {\n",
       "        vertical-align: top;\n",
       "    }\n",
       "\n",
       "    .dataframe thead th {\n",
       "        text-align: right;\n",
       "    }\n",
       "</style>\n",
       "<table border=\"1\" class=\"dataframe\">\n",
       "  <thead>\n",
       "    <tr style=\"text-align: right;\">\n",
       "      <th></th>\n",
       "      <th>Company Name</th>\n",
       "      <th>Average Salary</th>\n",
       "      <th>Minimum Maximum Salary</th>\n",
       "      <th>Number of Salaries</th>\n",
       "      <th>Rating</th>\n",
       "    </tr>\n",
       "  </thead>\n",
       "  <tbody>\n",
       "    <tr>\n",
       "      <th>1</th>\n",
       "      <td>Tata Consultancy Services</td>\n",
       "      <td>₹6,12,205  /yr</td>\n",
       "      <td>₹3L----₹13L</td>\n",
       "      <td>18 salaries</td>\n",
       "      <td>3.9 ★</td>\n",
       "    </tr>\n",
       "    <tr>\n",
       "      <th>2</th>\n",
       "      <td>IBM</td>\n",
       "      <td>₹9,00,000  /yr</td>\n",
       "      <td>₹6L----₹27L</td>\n",
       "      <td>18 salaries</td>\n",
       "      <td>3.9 ★</td>\n",
       "    </tr>\n",
       "    <tr>\n",
       "      <th>3</th>\n",
       "      <td>Accenture</td>\n",
       "      <td>₹11,63,336  /yr</td>\n",
       "      <td>₹6L----₹22L</td>\n",
       "      <td>15 salaries</td>\n",
       "      <td>4.1 ★</td>\n",
       "    </tr>\n",
       "    <tr>\n",
       "      <th>4</th>\n",
       "      <td>Delhivery</td>\n",
       "      <td>₹12,18,244  /yr</td>\n",
       "      <td>₹5L----₹1Cr</td>\n",
       "      <td>15 salaries</td>\n",
       "      <td>3.9 ★</td>\n",
       "    </tr>\n",
       "    <tr>\n",
       "      <th>5</th>\n",
       "      <td>Ericsson-Worldwide</td>\n",
       "      <td>₹7,39,238  /yr</td>\n",
       "      <td>₹4L----₹16L</td>\n",
       "      <td>14 salaries</td>\n",
       "      <td>4 ★</td>\n",
       "    </tr>\n",
       "    <tr>\n",
       "      <th>6</th>\n",
       "      <td>UnitedHealth Group</td>\n",
       "      <td>₹12,80,000  /yr</td>\n",
       "      <td>₹8L----₹15L</td>\n",
       "      <td>14 salaries</td>\n",
       "      <td>3.6 ★</td>\n",
       "    </tr>\n",
       "    <tr>\n",
       "      <th>7</th>\n",
       "      <td>Valiance Solutions</td>\n",
       "      <td>₹8,63,750  /yr</td>\n",
       "      <td>₹5L----₹15L</td>\n",
       "      <td>10 salaries</td>\n",
       "      <td>4.2 ★</td>\n",
       "    </tr>\n",
       "    <tr>\n",
       "      <th>8</th>\n",
       "      <td>EXL Service</td>\n",
       "      <td>₹11,10,000  /yr</td>\n",
       "      <td>₹6L----₹15L</td>\n",
       "      <td>9 salaries</td>\n",
       "      <td>3.6 ★</td>\n",
       "    </tr>\n",
       "    <tr>\n",
       "      <th>9</th>\n",
       "      <td>Optum</td>\n",
       "      <td>₹14,23,677  /yr</td>\n",
       "      <td>₹8L----₹20L</td>\n",
       "      <td>9 salaries</td>\n",
       "      <td>3.7 ★</td>\n",
       "    </tr>\n",
       "    <tr>\n",
       "      <th>10</th>\n",
       "      <td>Optum Global Solutions</td>\n",
       "      <td>₹13,28,697  /yr</td>\n",
       "      <td>₹4L----₹22L</td>\n",
       "      <td>9 salaries</td>\n",
       "      <td>3.9 ★</td>\n",
       "    </tr>\n",
       "  </tbody>\n",
       "</table>\n",
       "</div>"
      ],
      "text/plain": [
       "                 Company Name   Average Salary Minimum Maximum Salary  \\\n",
       "1   Tata Consultancy Services   ₹6,12,205  /yr            ₹3L----₹13L   \n",
       "2                         IBM   ₹9,00,000  /yr            ₹6L----₹27L   \n",
       "3                   Accenture  ₹11,63,336  /yr            ₹6L----₹22L   \n",
       "4                   Delhivery  ₹12,18,244  /yr            ₹5L----₹1Cr   \n",
       "5          Ericsson-Worldwide   ₹7,39,238  /yr            ₹4L----₹16L   \n",
       "6          UnitedHealth Group  ₹12,80,000  /yr            ₹8L----₹15L   \n",
       "7          Valiance Solutions   ₹8,63,750  /yr            ₹5L----₹15L   \n",
       "8                 EXL Service  ₹11,10,000  /yr            ₹6L----₹15L   \n",
       "9                       Optum  ₹14,23,677  /yr            ₹8L----₹20L   \n",
       "10     Optum Global Solutions  ₹13,28,697  /yr            ₹4L----₹22L   \n",
       "\n",
       "   Number of Salaries Rating  \n",
       "1         18 salaries  3.9 ★  \n",
       "2         18 salaries  3.9 ★  \n",
       "3         15 salaries  4.1 ★  \n",
       "4         15 salaries  3.9 ★  \n",
       "5         14 salaries    4 ★  \n",
       "6         14 salaries  3.6 ★  \n",
       "7         10 salaries  4.2 ★  \n",
       "8          9 salaries  3.6 ★  \n",
       "9          9 salaries  3.7 ★  \n",
       "10         9 salaries  3.9 ★  "
      ]
     },
     "execution_count": 103,
     "metadata": {},
     "output_type": "execute_result"
    }
   ],
   "source": [
    "# We will store first 10 result\n",
    "import numpy as np\n",
    "df=pd.DataFrame({})\n",
    "df['Company Name']=company_list[0:10]\n",
    "df['Average Salary']=Avg_list[0:10]\n",
    "df['Minimum Maximum Salary']=min_max_salary[0:10]\n",
    "df['Number of Salaries']=Number_Salaries[0:10]\n",
    "df['Rating']=Rating_list[0:10]\n",
    "df.index=np.arange(1,len(Rating_list[0:10])+1)\n",
    "df"
   ]
  },
  {
   "cell_type": "markdown",
   "metadata": {},
   "source": [
    "### Q6 : Scrape data of first 100 sunglasses listings on flipkart.com. You have to scrape four attributes"
   ]
  },
  {
   "cell_type": "code",
   "execution_count": 284,
   "metadata": {},
   "outputs": [],
   "source": [
    "#Connecting to the web driver\n",
    "driver=webdriver.Chrome('chromedriver.exe')"
   ]
  },
  {
   "cell_type": "code",
   "execution_count": 285,
   "metadata": {},
   "outputs": [],
   "source": [
    "url='https://www.flipkart.com/'\n",
    "driver.get(url)"
   ]
  },
  {
   "cell_type": "code",
   "execution_count": 286,
   "metadata": {},
   "outputs": [
    {
     "data": {
      "text/plain": [
       "<selenium.webdriver.remote.webelement.WebElement (session=\"4c73f3de979d877ebc3ef70d90d05c8a\", element=\"d954a506-5417-4c91-9a73-f9a5b87f7ddd\")>"
      ]
     },
     "execution_count": 286,
     "metadata": {},
     "output_type": "execute_result"
    }
   ],
   "source": [
    "search_product=driver.find_element_by_xpath(\"//input[@class='_3704LK']\")\n",
    "search_product"
   ]
  },
  {
   "cell_type": "code",
   "execution_count": 287,
   "metadata": {},
   "outputs": [],
   "source": [
    "# Writing data on web element location\n",
    "search_product.send_keys('sunglasses')"
   ]
  },
  {
   "cell_type": "code",
   "execution_count": 288,
   "metadata": {},
   "outputs": [
    {
     "data": {
      "text/plain": [
       "<selenium.webdriver.remote.webelement.WebElement (session=\"4c73f3de979d877ebc3ef70d90d05c8a\", element=\"902b6d37-ffad-4b6f-9393-1ef741b80e87\")>"
      ]
     },
     "execution_count": 288,
     "metadata": {},
     "output_type": "execute_result"
    }
   ],
   "source": [
    "# Finding web element for search button\n",
    "search_btn=driver.find_element_by_xpath(\"//button[@class='L0Z3Pu']\")\n",
    "search_btn"
   ]
  },
  {
   "cell_type": "code",
   "execution_count": 289,
   "metadata": {},
   "outputs": [],
   "source": [
    "# Clicking on button\n",
    "search_btn.click()"
   ]
  },
  {
   "cell_type": "code",
   "execution_count": 290,
   "metadata": {},
   "outputs": [],
   "source": [
    "# Scrapping brand name,descripttion,price and discount percerntage"
   ]
  },
  {
   "cell_type": "code",
   "execution_count": 291,
   "metadata": {},
   "outputs": [
    {
     "data": {
      "text/plain": [
       "11"
      ]
     },
     "execution_count": 291,
     "metadata": {},
     "output_type": "execute_result"
    }
   ],
   "source": [
    "# Scrapping pages url\n",
    "page_url=driver.find_elements_by_xpath(\"//nav[@class='yFHi8N']//a\")\n",
    "len(page_url)"
   ]
  },
  {
   "cell_type": "code",
   "execution_count": 292,
   "metadata": {
    "scrolled": true
   },
   "outputs": [
    {
     "data": {
      "text/plain": [
       "['https://www.flipkart.com/search?q=sunglasses&otracker=search&otracker1=search&marketplace=FLIPKART&as-show=on&as=off&page=1',\n",
       " 'https://www.flipkart.com/search?q=sunglasses&otracker=search&otracker1=search&marketplace=FLIPKART&as-show=on&as=off&page=2',\n",
       " 'https://www.flipkart.com/search?q=sunglasses&otracker=search&otracker1=search&marketplace=FLIPKART&as-show=on&as=off&page=3',\n",
       " 'https://www.flipkart.com/search?q=sunglasses&otracker=search&otracker1=search&marketplace=FLIPKART&as-show=on&as=off&page=4',\n",
       " 'https://www.flipkart.com/search?q=sunglasses&otracker=search&otracker1=search&marketplace=FLIPKART&as-show=on&as=off&page=5',\n",
       " 'https://www.flipkart.com/search?q=sunglasses&otracker=search&otracker1=search&marketplace=FLIPKART&as-show=on&as=off&page=6',\n",
       " 'https://www.flipkart.com/search?q=sunglasses&otracker=search&otracker1=search&marketplace=FLIPKART&as-show=on&as=off&page=7',\n",
       " 'https://www.flipkart.com/search?q=sunglasses&otracker=search&otracker1=search&marketplace=FLIPKART&as-show=on&as=off&page=8',\n",
       " 'https://www.flipkart.com/search?q=sunglasses&otracker=search&otracker1=search&marketplace=FLIPKART&as-show=on&as=off&page=9',\n",
       " 'https://www.flipkart.com/search?q=sunglasses&otracker=search&otracker1=search&marketplace=FLIPKART&as-show=on&as=off&page=10',\n",
       " 'https://www.flipkart.com/search?q=sunglasses&otracker=search&otracker1=search&marketplace=FLIPKART&as-show=on&as=off&page=2']"
      ]
     },
     "execution_count": 292,
     "metadata": {},
     "output_type": "execute_result"
    }
   ],
   "source": [
    "page_opening_urls=[]\n",
    "\n",
    "for i in page_url:\n",
    "    page_opening_urls.append(i.get_attribute('href'))\n",
    "page_opening_urls"
   ]
  },
  {
   "cell_type": "code",
   "execution_count": 293,
   "metadata": {},
   "outputs": [],
   "source": [
    "#Fetching product urls\n",
    "urls=[]\n",
    "for i in driver.find_elements_by_xpath(\"//a[@class='_2UzuFa']\"):\n",
    "    urls.append(i.get_attribute(\"href\"))"
   ]
  },
  {
   "cell_type": "code",
   "execution_count": 294,
   "metadata": {},
   "outputs": [],
   "source": [
    "# Scrappin details for 100 sunglasses\n",
    "brand_list=[]\n",
    "product_desc=[]\n",
    "price_list=[]\n",
    "discount_list=[]\n",
    "for i in page_opening_urls[0:3]:\n",
    "    \n",
    "    for i in urls:\n",
    "    \n",
    "        driver.get(i)\n",
    "        # Fetching Brand names\n",
    "        try:\n",
    "        \n",
    "            brand_tags=driver.find_element_by_xpath(\"//span[@class='G6XhRU']\")\n",
    "            brand_list.append(brand_tags.text)\n",
    "            \n",
    "        except:\n",
    "            \n",
    "            brand_list.append('-')\n",
    "       \n",
    "        # Fetching product description\n",
    "        try:\n",
    "        \n",
    "            product_tags=driver.find_element_by_xpath(\"//span[@class='B_NuCI']\")\n",
    "            product_desc.append(product_tags.text)\n",
    "            \n",
    "        except:\n",
    "            \n",
    "            product_desc.append('-')\n",
    "\n",
    "        \n",
    "        # Fetching Prices\n",
    "    \n",
    "        try:\n",
    "            \n",
    "            price_tags=driver.find_element_by_xpath(\"//div[@class='_30jeq3 _16Jk6d']\")\n",
    "            price_list.append(price_tags.text)\n",
    "            \n",
    "        except:\n",
    "            \n",
    "            price_list.append('-')\n",
    "        \n",
    "        # fetching discount list\n",
    "            \n",
    "        try:\n",
    "            \n",
    "            discount_tags=driver.find_element_by_xpath(\"//div[@class='_3Ay6Sb _31Dcoz pZkvcx']\")\n",
    "            discount_list.append(discount_tags.text)\n",
    "        \n",
    "        except:\n",
    "            discount_list.append('-')\n",
    "\n",
    "    "
   ]
  },
  {
   "cell_type": "code",
   "execution_count": 295,
   "metadata": {},
   "outputs": [
    {
     "name": "stdout",
     "output_type": "stream",
     "text": [
      "120 120 120 120\n"
     ]
    }
   ],
   "source": [
    "#Checking the length\n",
    "print(len(brand_list),len(product_desc),len(price_list),len(discount_list))"
   ]
  },
  {
   "cell_type": "code",
   "execution_count": 296,
   "metadata": {},
   "outputs": [
    {
     "data": {
      "text/html": [
       "<div>\n",
       "<style scoped>\n",
       "    .dataframe tbody tr th:only-of-type {\n",
       "        vertical-align: middle;\n",
       "    }\n",
       "\n",
       "    .dataframe tbody tr th {\n",
       "        vertical-align: top;\n",
       "    }\n",
       "\n",
       "    .dataframe thead th {\n",
       "        text-align: right;\n",
       "    }\n",
       "</style>\n",
       "<table border=\"1\" class=\"dataframe\">\n",
       "  <thead>\n",
       "    <tr style=\"text-align: right;\">\n",
       "      <th></th>\n",
       "      <th>Brand</th>\n",
       "      <th>Product_Description</th>\n",
       "      <th>Price_list</th>\n",
       "      <th>Discount_list</th>\n",
       "    </tr>\n",
       "  </thead>\n",
       "  <tbody>\n",
       "    <tr>\n",
       "      <th>1</th>\n",
       "      <td>Elligator</td>\n",
       "      <td>UV Protection Round Sunglasses (54)  (For Men ...</td>\n",
       "      <td>₹295</td>\n",
       "      <td>88% off</td>\n",
       "    </tr>\n",
       "    <tr>\n",
       "      <th>2</th>\n",
       "      <td>Fastrack</td>\n",
       "      <td>UV Protection Wayfarer Sunglasses (Free Size) ...</td>\n",
       "      <td>₹758</td>\n",
       "      <td>15% off</td>\n",
       "    </tr>\n",
       "    <tr>\n",
       "      <th>3</th>\n",
       "      <td>Fastrack</td>\n",
       "      <td>UV Protection Rectangular Sunglasses (Free Siz...</td>\n",
       "      <td>₹513</td>\n",
       "      <td>35% off</td>\n",
       "    </tr>\n",
       "    <tr>\n",
       "      <th>4</th>\n",
       "      <td>kingsunglasses</td>\n",
       "      <td>Mirrored, UV Protection Wayfarer Sunglasses (F...</td>\n",
       "      <td>₹299</td>\n",
       "      <td>88% off</td>\n",
       "    </tr>\n",
       "    <tr>\n",
       "      <th>5</th>\n",
       "      <td>PIRASO</td>\n",
       "      <td>UV Protection Aviator Sunglasses (54)  (For Me...</td>\n",
       "      <td>₹237</td>\n",
       "      <td>85% off</td>\n",
       "    </tr>\n",
       "    <tr>\n",
       "      <th>6</th>\n",
       "      <td>Fastrack</td>\n",
       "      <td>Gradient, UV Protection Wayfarer Sunglasses (F...</td>\n",
       "      <td>₹509</td>\n",
       "      <td>36% off</td>\n",
       "    </tr>\n",
       "    <tr>\n",
       "      <th>7</th>\n",
       "      <td>SUNBEE</td>\n",
       "      <td>UV Protection, Polarized, Mirrored Round Sungl...</td>\n",
       "      <td>₹331</td>\n",
       "      <td>80% off</td>\n",
       "    </tr>\n",
       "    <tr>\n",
       "      <th>8</th>\n",
       "      <td>Fastrack</td>\n",
       "      <td>UV Protection Aviator Sunglasses (58)  (For Me...</td>\n",
       "      <td>₹1,085</td>\n",
       "      <td>16% off</td>\n",
       "    </tr>\n",
       "    <tr>\n",
       "      <th>9</th>\n",
       "      <td>Fastrack</td>\n",
       "      <td>UV Protection Aviator Sunglasses (58)  (For Me...</td>\n",
       "      <td>₹1,010</td>\n",
       "      <td>22% off</td>\n",
       "    </tr>\n",
       "    <tr>\n",
       "      <th>10</th>\n",
       "      <td>Fastrack</td>\n",
       "      <td>UV Protection Aviator Sunglasses (Free Size)  ...</td>\n",
       "      <td>₹546</td>\n",
       "      <td>31% off</td>\n",
       "    </tr>\n",
       "    <tr>\n",
       "      <th>11</th>\n",
       "      <td>SHAAH COLLECTIONS</td>\n",
       "      <td>UV Protection, Polarized, Mirrored Rectangular...</td>\n",
       "      <td>₹198</td>\n",
       "      <td>88% off</td>\n",
       "    </tr>\n",
       "    <tr>\n",
       "      <th>12</th>\n",
       "      <td>Fastrack</td>\n",
       "      <td>Mirrored, UV Protection Wayfarer Sunglasses (F...</td>\n",
       "      <td>₹738</td>\n",
       "      <td>26% off</td>\n",
       "    </tr>\n",
       "    <tr>\n",
       "      <th>13</th>\n",
       "      <td>kingsunglasses</td>\n",
       "      <td>UV Protection Rectangular Sunglasses (Free Siz...</td>\n",
       "      <td>₹210</td>\n",
       "      <td>82% off</td>\n",
       "    </tr>\n",
       "    <tr>\n",
       "      <th>14</th>\n",
       "      <td>Fastrack</td>\n",
       "      <td>UV Protection Wayfarer Sunglasses (Free Size) ...</td>\n",
       "      <td>₹733</td>\n",
       "      <td>18% off</td>\n",
       "    </tr>\n",
       "    <tr>\n",
       "      <th>15</th>\n",
       "      <td>ROZZETTA CRAFT</td>\n",
       "      <td>UV Protection, Gradient Rectangular Sunglasses...</td>\n",
       "      <td>₹404</td>\n",
       "      <td>79% off</td>\n",
       "    </tr>\n",
       "    <tr>\n",
       "      <th>16</th>\n",
       "      <td>ROZZETTA CRAFT</td>\n",
       "      <td>UV Protection Retro Square Sunglasses (Free Si...</td>\n",
       "      <td>₹499</td>\n",
       "      <td>77% off</td>\n",
       "    </tr>\n",
       "    <tr>\n",
       "      <th>17</th>\n",
       "      <td>PIRASO</td>\n",
       "      <td>UV Protection Aviator Sunglasses (54)  (For Me...</td>\n",
       "      <td>₹237</td>\n",
       "      <td>85% off</td>\n",
       "    </tr>\n",
       "    <tr>\n",
       "      <th>18</th>\n",
       "      <td>Fastrack</td>\n",
       "      <td>UV Protection Sports Sunglasses (Free Size)  (...</td>\n",
       "      <td>₹771</td>\n",
       "      <td>14% off</td>\n",
       "    </tr>\n",
       "    <tr>\n",
       "      <th>19</th>\n",
       "      <td>GANSTA</td>\n",
       "      <td>UV Protection Aviator Sunglasses (57)  (For Me...</td>\n",
       "      <td>₹266</td>\n",
       "      <td>86% off</td>\n",
       "    </tr>\n",
       "    <tr>\n",
       "      <th>20</th>\n",
       "      <td>PHENOMENAL</td>\n",
       "      <td>UV Protection Retro Square Sunglasses (Free Si...</td>\n",
       "      <td>₹379</td>\n",
       "      <td>81% off</td>\n",
       "    </tr>\n",
       "    <tr>\n",
       "      <th>21</th>\n",
       "      <td>kingsunglasses</td>\n",
       "      <td>UV Protection Round Sunglasses (54)  (For Men ...</td>\n",
       "      <td>₹225</td>\n",
       "      <td>79% off</td>\n",
       "    </tr>\n",
       "    <tr>\n",
       "      <th>22</th>\n",
       "      <td>PIRASO</td>\n",
       "      <td>UV Protection Aviator Sunglasses (54)  (For Me...</td>\n",
       "      <td>₹237</td>\n",
       "      <td>85% off</td>\n",
       "    </tr>\n",
       "    <tr>\n",
       "      <th>23</th>\n",
       "      <td>Elligator</td>\n",
       "      <td>Mirrored Round Sunglasses (53)  (For Men &amp; Wom...</td>\n",
       "      <td>₹312</td>\n",
       "      <td>87% off</td>\n",
       "    </tr>\n",
       "    <tr>\n",
       "      <th>24</th>\n",
       "      <td>hipe</td>\n",
       "      <td>Mirrored, UV Protection, Gradient Round Sungla...</td>\n",
       "      <td>₹199</td>\n",
       "      <td>86% off</td>\n",
       "    </tr>\n",
       "    <tr>\n",
       "      <th>25</th>\n",
       "      <td>Singco India</td>\n",
       "      <td>UV Protection, Riding Glasses, Others Aviator,...</td>\n",
       "      <td>₹214</td>\n",
       "      <td>69% off</td>\n",
       "    </tr>\n",
       "    <tr>\n",
       "      <th>26</th>\n",
       "      <td>Silver Kartz</td>\n",
       "      <td>UV Protection Wayfarer Sunglasses (Free Size) ...</td>\n",
       "      <td>₹246</td>\n",
       "      <td>83% off</td>\n",
       "    </tr>\n",
       "    <tr>\n",
       "      <th>27</th>\n",
       "      <td>PHENOMENAL</td>\n",
       "      <td>UV Protection, Mirrored Retro Square Sunglasse...</td>\n",
       "      <td>₹379</td>\n",
       "      <td>81% off</td>\n",
       "    </tr>\n",
       "    <tr>\n",
       "      <th>28</th>\n",
       "      <td>Fastrack</td>\n",
       "      <td>UV Protection Wayfarer Sunglasses (Free Size) ...</td>\n",
       "      <td>₹758</td>\n",
       "      <td>15% off</td>\n",
       "    </tr>\n",
       "    <tr>\n",
       "      <th>29</th>\n",
       "      <td>ROYAL SON</td>\n",
       "      <td>UV Protection, Gradient Wayfarer Sunglasses (5...</td>\n",
       "      <td>₹217</td>\n",
       "      <td>78% off</td>\n",
       "    </tr>\n",
       "    <tr>\n",
       "      <th>30</th>\n",
       "      <td>kingsunglasses</td>\n",
       "      <td>Mirrored, UV Protection Wayfarer Sunglasses (F...</td>\n",
       "      <td>₹299</td>\n",
       "      <td>88% off</td>\n",
       "    </tr>\n",
       "    <tr>\n",
       "      <th>...</th>\n",
       "      <td>...</td>\n",
       "      <td>...</td>\n",
       "      <td>...</td>\n",
       "      <td>...</td>\n",
       "    </tr>\n",
       "    <tr>\n",
       "      <th>71</th>\n",
       "      <td>SHAAH COLLECTIONS</td>\n",
       "      <td>UV Protection Round Sunglasses (Free Size)  (F...</td>\n",
       "      <td>₹331</td>\n",
       "      <td>80% off</td>\n",
       "    </tr>\n",
       "    <tr>\n",
       "      <th>72</th>\n",
       "      <td>NuVew</td>\n",
       "      <td>UV Protection, Mirrored, Night Vision, Riding ...</td>\n",
       "      <td>₹345</td>\n",
       "      <td>62% off</td>\n",
       "    </tr>\n",
       "    <tr>\n",
       "      <th>73</th>\n",
       "      <td>Fastrack</td>\n",
       "      <td>Gradient, UV Protection Wayfarer Sunglasses (F...</td>\n",
       "      <td>₹711</td>\n",
       "      <td>11% off</td>\n",
       "    </tr>\n",
       "    <tr>\n",
       "      <th>74</th>\n",
       "      <td>Singco India</td>\n",
       "      <td>UV Protection Aviator Sunglasses (Free Size)  ...</td>\n",
       "      <td>₹334</td>\n",
       "      <td>72% off</td>\n",
       "    </tr>\n",
       "    <tr>\n",
       "      <th>75</th>\n",
       "      <td>PHENOMENAL</td>\n",
       "      <td>UV Protection, Mirrored Retro Square Sunglasse...</td>\n",
       "      <td>₹379</td>\n",
       "      <td>81% off</td>\n",
       "    </tr>\n",
       "    <tr>\n",
       "      <th>76</th>\n",
       "      <td>SRPM</td>\n",
       "      <td>UV Protection Wayfarer Sunglasses (53)  (For M...</td>\n",
       "      <td>₹246</td>\n",
       "      <td>75% off</td>\n",
       "    </tr>\n",
       "    <tr>\n",
       "      <th>77</th>\n",
       "      <td>Fastrack</td>\n",
       "      <td>UV Protection Aviator Sunglasses (58)  (For Me...</td>\n",
       "      <td>₹1,115</td>\n",
       "      <td>14% off</td>\n",
       "    </tr>\n",
       "    <tr>\n",
       "      <th>78</th>\n",
       "      <td>kingsunglasses</td>\n",
       "      <td>UV Protection Rectangular Sunglasses (55)  (Fo...</td>\n",
       "      <td>₹349</td>\n",
       "      <td>76% off</td>\n",
       "    </tr>\n",
       "    <tr>\n",
       "      <th>79</th>\n",
       "      <td>Fastrack</td>\n",
       "      <td>UV Protection Wayfarer Sunglasses (Free Size) ...</td>\n",
       "      <td>₹826</td>\n",
       "      <td>8% off</td>\n",
       "    </tr>\n",
       "    <tr>\n",
       "      <th>80</th>\n",
       "      <td>Fravy</td>\n",
       "      <td>UV Protection Retro Square Sunglasses (Free Si...</td>\n",
       "      <td>₹299</td>\n",
       "      <td>80% off</td>\n",
       "    </tr>\n",
       "    <tr>\n",
       "      <th>81</th>\n",
       "      <td>Elligator</td>\n",
       "      <td>UV Protection Round Sunglasses (54)  (For Men ...</td>\n",
       "      <td>₹295</td>\n",
       "      <td>88% off</td>\n",
       "    </tr>\n",
       "    <tr>\n",
       "      <th>82</th>\n",
       "      <td>Fastrack</td>\n",
       "      <td>UV Protection Wayfarer Sunglasses (Free Size) ...</td>\n",
       "      <td>₹758</td>\n",
       "      <td>15% off</td>\n",
       "    </tr>\n",
       "    <tr>\n",
       "      <th>83</th>\n",
       "      <td>Fastrack</td>\n",
       "      <td>UV Protection Rectangular Sunglasses (Free Siz...</td>\n",
       "      <td>₹513</td>\n",
       "      <td>35% off</td>\n",
       "    </tr>\n",
       "    <tr>\n",
       "      <th>84</th>\n",
       "      <td>kingsunglasses</td>\n",
       "      <td>Mirrored, UV Protection Wayfarer Sunglasses (F...</td>\n",
       "      <td>₹299</td>\n",
       "      <td>88% off</td>\n",
       "    </tr>\n",
       "    <tr>\n",
       "      <th>85</th>\n",
       "      <td>PIRASO</td>\n",
       "      <td>UV Protection Aviator Sunglasses (54)  (For Me...</td>\n",
       "      <td>₹237</td>\n",
       "      <td>85% off</td>\n",
       "    </tr>\n",
       "    <tr>\n",
       "      <th>86</th>\n",
       "      <td>Fastrack</td>\n",
       "      <td>Gradient, UV Protection Wayfarer Sunglasses (F...</td>\n",
       "      <td>₹509</td>\n",
       "      <td>36% off</td>\n",
       "    </tr>\n",
       "    <tr>\n",
       "      <th>87</th>\n",
       "      <td>SUNBEE</td>\n",
       "      <td>UV Protection, Polarized, Mirrored Round Sungl...</td>\n",
       "      <td>₹331</td>\n",
       "      <td>80% off</td>\n",
       "    </tr>\n",
       "    <tr>\n",
       "      <th>88</th>\n",
       "      <td>Fastrack</td>\n",
       "      <td>UV Protection Aviator Sunglasses (58)  (For Me...</td>\n",
       "      <td>₹1,085</td>\n",
       "      <td>16% off</td>\n",
       "    </tr>\n",
       "    <tr>\n",
       "      <th>89</th>\n",
       "      <td>Fastrack</td>\n",
       "      <td>UV Protection Aviator Sunglasses (58)  (For Me...</td>\n",
       "      <td>₹1,010</td>\n",
       "      <td>22% off</td>\n",
       "    </tr>\n",
       "    <tr>\n",
       "      <th>90</th>\n",
       "      <td>Fastrack</td>\n",
       "      <td>UV Protection Aviator Sunglasses (Free Size)  ...</td>\n",
       "      <td>₹546</td>\n",
       "      <td>31% off</td>\n",
       "    </tr>\n",
       "    <tr>\n",
       "      <th>91</th>\n",
       "      <td>SHAAH COLLECTIONS</td>\n",
       "      <td>UV Protection, Polarized, Mirrored Rectangular...</td>\n",
       "      <td>₹198</td>\n",
       "      <td>88% off</td>\n",
       "    </tr>\n",
       "    <tr>\n",
       "      <th>92</th>\n",
       "      <td>Fastrack</td>\n",
       "      <td>Mirrored, UV Protection Wayfarer Sunglasses (F...</td>\n",
       "      <td>₹738</td>\n",
       "      <td>26% off</td>\n",
       "    </tr>\n",
       "    <tr>\n",
       "      <th>93</th>\n",
       "      <td>kingsunglasses</td>\n",
       "      <td>UV Protection Rectangular Sunglasses (Free Siz...</td>\n",
       "      <td>₹210</td>\n",
       "      <td>82% off</td>\n",
       "    </tr>\n",
       "    <tr>\n",
       "      <th>94</th>\n",
       "      <td>Fastrack</td>\n",
       "      <td>UV Protection Wayfarer Sunglasses (Free Size) ...</td>\n",
       "      <td>₹733</td>\n",
       "      <td>18% off</td>\n",
       "    </tr>\n",
       "    <tr>\n",
       "      <th>95</th>\n",
       "      <td>ROZZETTA CRAFT</td>\n",
       "      <td>UV Protection, Gradient Rectangular Sunglasses...</td>\n",
       "      <td>₹404</td>\n",
       "      <td>79% off</td>\n",
       "    </tr>\n",
       "    <tr>\n",
       "      <th>96</th>\n",
       "      <td>ROZZETTA CRAFT</td>\n",
       "      <td>UV Protection Retro Square Sunglasses (Free Si...</td>\n",
       "      <td>₹499</td>\n",
       "      <td>77% off</td>\n",
       "    </tr>\n",
       "    <tr>\n",
       "      <th>97</th>\n",
       "      <td>PIRASO</td>\n",
       "      <td>UV Protection Aviator Sunglasses (54)  (For Me...</td>\n",
       "      <td>₹237</td>\n",
       "      <td>85% off</td>\n",
       "    </tr>\n",
       "    <tr>\n",
       "      <th>98</th>\n",
       "      <td>Fastrack</td>\n",
       "      <td>UV Protection Sports Sunglasses (Free Size)  (...</td>\n",
       "      <td>₹771</td>\n",
       "      <td>14% off</td>\n",
       "    </tr>\n",
       "    <tr>\n",
       "      <th>99</th>\n",
       "      <td>GANSTA</td>\n",
       "      <td>UV Protection Aviator Sunglasses (57)  (For Me...</td>\n",
       "      <td>₹266</td>\n",
       "      <td>86% off</td>\n",
       "    </tr>\n",
       "    <tr>\n",
       "      <th>100</th>\n",
       "      <td>PHENOMENAL</td>\n",
       "      <td>UV Protection Retro Square Sunglasses (Free Si...</td>\n",
       "      <td>₹379</td>\n",
       "      <td>81% off</td>\n",
       "    </tr>\n",
       "  </tbody>\n",
       "</table>\n",
       "<p>100 rows × 4 columns</p>\n",
       "</div>"
      ],
      "text/plain": [
       "                  Brand                                Product_Description  \\\n",
       "1            Elligator   UV Protection Round Sunglasses (54)  (For Men ...   \n",
       "2             Fastrack   UV Protection Wayfarer Sunglasses (Free Size) ...   \n",
       "3             Fastrack   UV Protection Rectangular Sunglasses (Free Siz...   \n",
       "4       kingsunglasses   Mirrored, UV Protection Wayfarer Sunglasses (F...   \n",
       "5               PIRASO   UV Protection Aviator Sunglasses (54)  (For Me...   \n",
       "6             Fastrack   Gradient, UV Protection Wayfarer Sunglasses (F...   \n",
       "7               SUNBEE   UV Protection, Polarized, Mirrored Round Sungl...   \n",
       "8             Fastrack   UV Protection Aviator Sunglasses (58)  (For Me...   \n",
       "9             Fastrack   UV Protection Aviator Sunglasses (58)  (For Me...   \n",
       "10            Fastrack   UV Protection Aviator Sunglasses (Free Size)  ...   \n",
       "11   SHAAH COLLECTIONS   UV Protection, Polarized, Mirrored Rectangular...   \n",
       "12            Fastrack   Mirrored, UV Protection Wayfarer Sunglasses (F...   \n",
       "13      kingsunglasses   UV Protection Rectangular Sunglasses (Free Siz...   \n",
       "14            Fastrack   UV Protection Wayfarer Sunglasses (Free Size) ...   \n",
       "15      ROZZETTA CRAFT   UV Protection, Gradient Rectangular Sunglasses...   \n",
       "16      ROZZETTA CRAFT   UV Protection Retro Square Sunglasses (Free Si...   \n",
       "17              PIRASO   UV Protection Aviator Sunglasses (54)  (For Me...   \n",
       "18            Fastrack   UV Protection Sports Sunglasses (Free Size)  (...   \n",
       "19              GANSTA   UV Protection Aviator Sunglasses (57)  (For Me...   \n",
       "20          PHENOMENAL   UV Protection Retro Square Sunglasses (Free Si...   \n",
       "21      kingsunglasses   UV Protection Round Sunglasses (54)  (For Men ...   \n",
       "22              PIRASO   UV Protection Aviator Sunglasses (54)  (For Me...   \n",
       "23           Elligator   Mirrored Round Sunglasses (53)  (For Men & Wom...   \n",
       "24                hipe   Mirrored, UV Protection, Gradient Round Sungla...   \n",
       "25        Singco India   UV Protection, Riding Glasses, Others Aviator,...   \n",
       "26        Silver Kartz   UV Protection Wayfarer Sunglasses (Free Size) ...   \n",
       "27          PHENOMENAL   UV Protection, Mirrored Retro Square Sunglasse...   \n",
       "28            Fastrack   UV Protection Wayfarer Sunglasses (Free Size) ...   \n",
       "29           ROYAL SON   UV Protection, Gradient Wayfarer Sunglasses (5...   \n",
       "30      kingsunglasses   Mirrored, UV Protection Wayfarer Sunglasses (F...   \n",
       "..                  ...                                                ...   \n",
       "71   SHAAH COLLECTIONS   UV Protection Round Sunglasses (Free Size)  (F...   \n",
       "72               NuVew   UV Protection, Mirrored, Night Vision, Riding ...   \n",
       "73            Fastrack   Gradient, UV Protection Wayfarer Sunglasses (F...   \n",
       "74        Singco India   UV Protection Aviator Sunglasses (Free Size)  ...   \n",
       "75          PHENOMENAL   UV Protection, Mirrored Retro Square Sunglasse...   \n",
       "76                SRPM   UV Protection Wayfarer Sunglasses (53)  (For M...   \n",
       "77            Fastrack   UV Protection Aviator Sunglasses (58)  (For Me...   \n",
       "78      kingsunglasses   UV Protection Rectangular Sunglasses (55)  (Fo...   \n",
       "79            Fastrack   UV Protection Wayfarer Sunglasses (Free Size) ...   \n",
       "80               Fravy   UV Protection Retro Square Sunglasses (Free Si...   \n",
       "81           Elligator   UV Protection Round Sunglasses (54)  (For Men ...   \n",
       "82            Fastrack   UV Protection Wayfarer Sunglasses (Free Size) ...   \n",
       "83            Fastrack   UV Protection Rectangular Sunglasses (Free Siz...   \n",
       "84      kingsunglasses   Mirrored, UV Protection Wayfarer Sunglasses (F...   \n",
       "85              PIRASO   UV Protection Aviator Sunglasses (54)  (For Me...   \n",
       "86            Fastrack   Gradient, UV Protection Wayfarer Sunglasses (F...   \n",
       "87              SUNBEE   UV Protection, Polarized, Mirrored Round Sungl...   \n",
       "88            Fastrack   UV Protection Aviator Sunglasses (58)  (For Me...   \n",
       "89            Fastrack   UV Protection Aviator Sunglasses (58)  (For Me...   \n",
       "90            Fastrack   UV Protection Aviator Sunglasses (Free Size)  ...   \n",
       "91   SHAAH COLLECTIONS   UV Protection, Polarized, Mirrored Rectangular...   \n",
       "92            Fastrack   Mirrored, UV Protection Wayfarer Sunglasses (F...   \n",
       "93      kingsunglasses   UV Protection Rectangular Sunglasses (Free Siz...   \n",
       "94            Fastrack   UV Protection Wayfarer Sunglasses (Free Size) ...   \n",
       "95      ROZZETTA CRAFT   UV Protection, Gradient Rectangular Sunglasses...   \n",
       "96      ROZZETTA CRAFT   UV Protection Retro Square Sunglasses (Free Si...   \n",
       "97              PIRASO   UV Protection Aviator Sunglasses (54)  (For Me...   \n",
       "98            Fastrack   UV Protection Sports Sunglasses (Free Size)  (...   \n",
       "99              GANSTA   UV Protection Aviator Sunglasses (57)  (For Me...   \n",
       "100         PHENOMENAL   UV Protection Retro Square Sunglasses (Free Si...   \n",
       "\n",
       "    Price_list Discount_list  \n",
       "1         ₹295       88% off  \n",
       "2         ₹758       15% off  \n",
       "3         ₹513       35% off  \n",
       "4         ₹299       88% off  \n",
       "5         ₹237       85% off  \n",
       "6         ₹509       36% off  \n",
       "7         ₹331       80% off  \n",
       "8       ₹1,085       16% off  \n",
       "9       ₹1,010       22% off  \n",
       "10        ₹546       31% off  \n",
       "11        ₹198       88% off  \n",
       "12        ₹738       26% off  \n",
       "13        ₹210       82% off  \n",
       "14        ₹733       18% off  \n",
       "15        ₹404       79% off  \n",
       "16        ₹499       77% off  \n",
       "17        ₹237       85% off  \n",
       "18        ₹771       14% off  \n",
       "19        ₹266       86% off  \n",
       "20        ₹379       81% off  \n",
       "21        ₹225       79% off  \n",
       "22        ₹237       85% off  \n",
       "23        ₹312       87% off  \n",
       "24        ₹199       86% off  \n",
       "25        ₹214       69% off  \n",
       "26        ₹246       83% off  \n",
       "27        ₹379       81% off  \n",
       "28        ₹758       15% off  \n",
       "29        ₹217       78% off  \n",
       "30        ₹299       88% off  \n",
       "..         ...           ...  \n",
       "71        ₹331       80% off  \n",
       "72        ₹345       62% off  \n",
       "73        ₹711       11% off  \n",
       "74        ₹334       72% off  \n",
       "75        ₹379       81% off  \n",
       "76        ₹246       75% off  \n",
       "77      ₹1,115       14% off  \n",
       "78        ₹349       76% off  \n",
       "79        ₹826        8% off  \n",
       "80        ₹299       80% off  \n",
       "81        ₹295       88% off  \n",
       "82        ₹758       15% off  \n",
       "83        ₹513       35% off  \n",
       "84        ₹299       88% off  \n",
       "85        ₹237       85% off  \n",
       "86        ₹509       36% off  \n",
       "87        ₹331       80% off  \n",
       "88      ₹1,085       16% off  \n",
       "89      ₹1,010       22% off  \n",
       "90        ₹546       31% off  \n",
       "91        ₹198       88% off  \n",
       "92        ₹738       26% off  \n",
       "93        ₹210       82% off  \n",
       "94        ₹733       18% off  \n",
       "95        ₹404       79% off  \n",
       "96        ₹499       77% off  \n",
       "97        ₹237       85% off  \n",
       "98        ₹771       14% off  \n",
       "99        ₹266       86% off  \n",
       "100       ₹379       81% off  \n",
       "\n",
       "[100 rows x 4 columns]"
      ]
     },
     "execution_count": 296,
     "metadata": {},
     "output_type": "execute_result"
    }
   ],
   "source": [
    "# We will extract first 100 result\n",
    "import numpy as np\n",
    "df=pd.DataFrame({})\n",
    "df['Brand']=brand_list[0:100]\n",
    "df['Product_Description']=product_desc[0:100]\n",
    "df['Price_list']=price_list[0:100]\n",
    "df['Discount_list']=discount_list[0:100]\n",
    "df.index=np.arange(1,len(brand_list[0:100])+1)\n",
    "df"
   ]
  },
  {
   "cell_type": "code",
   "execution_count": null,
   "metadata": {},
   "outputs": [],
   "source": []
  },
  {
   "cell_type": "markdown",
   "metadata": {},
   "source": [
    "### 7: Scrape 100 reviews data from flipkart.com for iphone11 phone. You have to go the link:https://www.flipkart.com/apple-iphone-11-black-64-gb-includes-earpods-power-adapter/p/itm0f37c2240b217?pid=MOBFKCTSVZAXUHGR&lid=LSTMOBFKCTSVZAXUHGREPBFGI&marketplace"
   ]
  },
  {
   "cell_type": "code",
   "execution_count": 410,
   "metadata": {},
   "outputs": [],
   "source": [
    "#Connecting to the web driver\n",
    "driver=webdriver.Chrome('chromedriver.exe')"
   ]
  },
  {
   "cell_type": "code",
   "execution_count": 411,
   "metadata": {},
   "outputs": [],
   "source": [
    "url='https://www.flipkart.com/apple-iphone-11-black-64-gb-includes-earpods-power-adapter/p/itm0f37c2240b217?pid=MOBFKCTSVZAXUHGR&lid=LSTMOBFKCTSVZAXUHGREPBFGI&marketplace'\n",
    "driver.get(url)"
   ]
  },
  {
   "cell_type": "code",
   "execution_count": 412,
   "metadata": {},
   "outputs": [
    {
     "data": {
      "text/plain": [
       "<selenium.webdriver.remote.webelement.WebElement (session=\"0618e59649fce4ec6b133cbe54fdc032\", element=\"02510900-b220-4120-99ba-486fe68ac2a1\")>"
      ]
     },
     "execution_count": 412,
     "metadata": {},
     "output_type": "execute_result"
    }
   ],
   "source": [
    "search_btn=driver.find_element_by_xpath(\"//div[@class='_3UAT2v _16PBlm']\")\n",
    "search_btn"
   ]
  },
  {
   "cell_type": "code",
   "execution_count": 413,
   "metadata": {},
   "outputs": [],
   "source": [
    "# Clicking on full review button\n",
    "search_btn.click()"
   ]
  },
  {
   "cell_type": "code",
   "execution_count": 414,
   "metadata": {},
   "outputs": [
    {
     "data": {
      "text/plain": [
       "[<selenium.webdriver.remote.webelement.WebElement (session=\"0618e59649fce4ec6b133cbe54fdc032\", element=\"c4a16962-d4de-4fa9-b42c-70645cd2fcd1\")>,\n",
       " <selenium.webdriver.remote.webelement.WebElement (session=\"0618e59649fce4ec6b133cbe54fdc032\", element=\"984893fb-86e6-4ded-927b-de57464b0957\")>,\n",
       " <selenium.webdriver.remote.webelement.WebElement (session=\"0618e59649fce4ec6b133cbe54fdc032\", element=\"0d79bf4c-271b-41a5-85aa-ba74d14dc81f\")>,\n",
       " <selenium.webdriver.remote.webelement.WebElement (session=\"0618e59649fce4ec6b133cbe54fdc032\", element=\"7818746d-877a-4460-9e30-5d659f8d221e\")>,\n",
       " <selenium.webdriver.remote.webelement.WebElement (session=\"0618e59649fce4ec6b133cbe54fdc032\", element=\"44e252ab-3dff-491f-a36e-b2e355c61893\")>,\n",
       " <selenium.webdriver.remote.webelement.WebElement (session=\"0618e59649fce4ec6b133cbe54fdc032\", element=\"af0e9ece-0e62-4b1d-a685-969f94e6cef8\")>,\n",
       " <selenium.webdriver.remote.webelement.WebElement (session=\"0618e59649fce4ec6b133cbe54fdc032\", element=\"6e30734b-ea50-4ceb-ae1f-50fc32c0078c\")>,\n",
       " <selenium.webdriver.remote.webelement.WebElement (session=\"0618e59649fce4ec6b133cbe54fdc032\", element=\"fb8831e9-b518-470f-829f-57a6e45355b6\")>,\n",
       " <selenium.webdriver.remote.webelement.WebElement (session=\"0618e59649fce4ec6b133cbe54fdc032\", element=\"57411b84-1428-4bf2-b73e-fb3f5b670460\")>,\n",
       " <selenium.webdriver.remote.webelement.WebElement (session=\"0618e59649fce4ec6b133cbe54fdc032\", element=\"479e0d2c-8943-4e6f-9f50-edc7348825c6\")>]"
      ]
     },
     "execution_count": 414,
     "metadata": {},
     "output_type": "execute_result"
    }
   ],
   "source": [
    "rating=driver.find_elements_by_xpath(\"//div[@class='col _2wzgFH K0kLPL']\")\n",
    "rating"
   ]
  },
  {
   "cell_type": "code",
   "execution_count": 415,
   "metadata": {},
   "outputs": [],
   "source": [
    "rat=[]\n",
    "for i in rating:\n",
    "    rat.append(i.text)\n"
   ]
  },
  {
   "cell_type": "code",
   "execution_count": 416,
   "metadata": {},
   "outputs": [],
   "source": [
    "rating_list=[]\n",
    "for i in range(len(rat)):\n",
    "    for j in range(len(rat[i])):\n",
    "        rating_list.append(rat[i][0])\n",
    "        break\n",
    "    "
   ]
  },
  {
   "cell_type": "code",
   "execution_count": 417,
   "metadata": {},
   "outputs": [
    {
     "data": {
      "text/plain": [
       "['5', '5', '5', '5', '5', '5', '4', '5', '5', '5']"
      ]
     },
     "execution_count": 417,
     "metadata": {},
     "output_type": "execute_result"
    }
   ],
   "source": [
    "rating_list"
   ]
  },
  {
   "cell_type": "code",
   "execution_count": 418,
   "metadata": {},
   "outputs": [
    {
     "data": {
      "text/plain": [
       "[<selenium.webdriver.remote.webelement.WebElement (session=\"0618e59649fce4ec6b133cbe54fdc032\", element=\"663bfbc2-6c80-40cc-81a1-81e911ff05cf\")>,\n",
       " <selenium.webdriver.remote.webelement.WebElement (session=\"0618e59649fce4ec6b133cbe54fdc032\", element=\"b63ef9ca-4521-4f1b-a2dc-d3189e405d62\")>,\n",
       " <selenium.webdriver.remote.webelement.WebElement (session=\"0618e59649fce4ec6b133cbe54fdc032\", element=\"3233cf28-b575-4eda-b222-1b06612bf9c3\")>,\n",
       " <selenium.webdriver.remote.webelement.WebElement (session=\"0618e59649fce4ec6b133cbe54fdc032\", element=\"7d2e9c08-4b4d-4730-9b8b-76b41d2a86ef\")>,\n",
       " <selenium.webdriver.remote.webelement.WebElement (session=\"0618e59649fce4ec6b133cbe54fdc032\", element=\"bebd92a7-5ac2-4d52-95a2-a832e6227725\")>,\n",
       " <selenium.webdriver.remote.webelement.WebElement (session=\"0618e59649fce4ec6b133cbe54fdc032\", element=\"79a9acf7-540d-446e-9bb4-84a758b78a68\")>,\n",
       " <selenium.webdriver.remote.webelement.WebElement (session=\"0618e59649fce4ec6b133cbe54fdc032\", element=\"d66fae69-38ba-47e1-a28b-25af00a6a3bf\")>,\n",
       " <selenium.webdriver.remote.webelement.WebElement (session=\"0618e59649fce4ec6b133cbe54fdc032\", element=\"ef97ac8e-5475-4300-a91f-7236717206fd\")>,\n",
       " <selenium.webdriver.remote.webelement.WebElement (session=\"0618e59649fce4ec6b133cbe54fdc032\", element=\"a038e8f9-2519-4f51-b68d-4eb7cb2cf493\")>,\n",
       " <selenium.webdriver.remote.webelement.WebElement (session=\"0618e59649fce4ec6b133cbe54fdc032\", element=\"e0e617be-282d-4544-a8a8-cf9ec9882495\")>,\n",
       " <selenium.webdriver.remote.webelement.WebElement (session=\"0618e59649fce4ec6b133cbe54fdc032\", element=\"9a5108bf-419c-4daf-8ca9-9ef30c96de2f\")>]"
      ]
     },
     "execution_count": 418,
     "metadata": {},
     "output_type": "execute_result"
    }
   ],
   "source": [
    "#Url\n",
    "url=driver.find_elements_by_xpath(\"//nav[@class='yFHi8N']//a\")\n",
    "url"
   ]
  },
  {
   "cell_type": "code",
   "execution_count": 419,
   "metadata": {},
   "outputs": [
    {
     "data": {
      "text/plain": [
       "['https://www.flipkart.com/apple-iphone-11-black-64-gb-includes-earpods-power-adapter/product-reviews/itm0f37c2240b217?pid=MOBFKCTSVZAXUHGR&lid=LSTMOBFKCTSVZAXUHGREPBFGI&marketplace=FLIPKART&page=1',\n",
       " 'https://www.flipkart.com/apple-iphone-11-black-64-gb-includes-earpods-power-adapter/product-reviews/itm0f37c2240b217?pid=MOBFKCTSVZAXUHGR&lid=LSTMOBFKCTSVZAXUHGREPBFGI&marketplace=FLIPKART&page=2',\n",
       " 'https://www.flipkart.com/apple-iphone-11-black-64-gb-includes-earpods-power-adapter/product-reviews/itm0f37c2240b217?pid=MOBFKCTSVZAXUHGR&lid=LSTMOBFKCTSVZAXUHGREPBFGI&marketplace=FLIPKART&page=3',\n",
       " 'https://www.flipkart.com/apple-iphone-11-black-64-gb-includes-earpods-power-adapter/product-reviews/itm0f37c2240b217?pid=MOBFKCTSVZAXUHGR&lid=LSTMOBFKCTSVZAXUHGREPBFGI&marketplace=FLIPKART&page=4',\n",
       " 'https://www.flipkart.com/apple-iphone-11-black-64-gb-includes-earpods-power-adapter/product-reviews/itm0f37c2240b217?pid=MOBFKCTSVZAXUHGR&lid=LSTMOBFKCTSVZAXUHGREPBFGI&marketplace=FLIPKART&page=5',\n",
       " 'https://www.flipkart.com/apple-iphone-11-black-64-gb-includes-earpods-power-adapter/product-reviews/itm0f37c2240b217?pid=MOBFKCTSVZAXUHGR&lid=LSTMOBFKCTSVZAXUHGREPBFGI&marketplace=FLIPKART&page=6',\n",
       " 'https://www.flipkart.com/apple-iphone-11-black-64-gb-includes-earpods-power-adapter/product-reviews/itm0f37c2240b217?pid=MOBFKCTSVZAXUHGR&lid=LSTMOBFKCTSVZAXUHGREPBFGI&marketplace=FLIPKART&page=7',\n",
       " 'https://www.flipkart.com/apple-iphone-11-black-64-gb-includes-earpods-power-adapter/product-reviews/itm0f37c2240b217?pid=MOBFKCTSVZAXUHGR&lid=LSTMOBFKCTSVZAXUHGREPBFGI&marketplace=FLIPKART&page=8',\n",
       " 'https://www.flipkart.com/apple-iphone-11-black-64-gb-includes-earpods-power-adapter/product-reviews/itm0f37c2240b217?pid=MOBFKCTSVZAXUHGR&lid=LSTMOBFKCTSVZAXUHGREPBFGI&marketplace=FLIPKART&page=9',\n",
       " 'https://www.flipkart.com/apple-iphone-11-black-64-gb-includes-earpods-power-adapter/product-reviews/itm0f37c2240b217?pid=MOBFKCTSVZAXUHGR&lid=LSTMOBFKCTSVZAXUHGREPBFGI&marketplace=FLIPKART&page=10',\n",
       " 'https://www.flipkart.com/apple-iphone-11-black-64-gb-includes-earpods-power-adapter/product-reviews/itm0f37c2240b217?pid=MOBFKCTSVZAXUHGR&lid=LSTMOBFKCTSVZAXUHGREPBFGI&marketplace=FLIPKART&page=2']"
      ]
     },
     "execution_count": 419,
     "metadata": {},
     "output_type": "execute_result"
    }
   ],
   "source": [
    "# Scrap data from multiple pages\n",
    "page_url=[]\n",
    "#url=driver.find_elements_by_xpath(\"//div[@class='fleft pages']//a\")\n",
    "for i in url:\n",
    "    page_url.append(i.get_attribute(\"href\"))\n",
    "page_url"
   ]
  },
  {
   "cell_type": "code",
   "execution_count": 423,
   "metadata": {},
   "outputs": [],
   "source": [
    "rat=[]\n",
    "Rating_list=[]\n",
    "Review_list=[]\n",
    "Full_review_list=[]\n",
    "for i in page_url[0:10]:  \n",
    "    \n",
    "    driver.get(i)\n",
    "    rating_tag=driver.find_elements_by_xpath(\"//div[@class='col _2wzgFH K0kLPL']\")\n",
    "    for i in rating_tag:\n",
    "        rat.append(i.text)\n",
    "\n",
    "        \n",
    "    review_tag=driver.find_elements_by_xpath(\"//p[@class='_2-N8zT']\")\n",
    "    for i in review_tag:\n",
    "        \n",
    "        Review_list.append(i.text)\n",
    "    \n",
    "    full_review_tag=driver.find_elements_by_xpath(\"//div[@class='t-ZTKy']\")\n",
    "        \n",
    "    for i in full_review_tag:\n",
    "        Full_review_list.append(i.text)\n",
    "        \n",
    "    \n",
    "        "
   ]
  },
  {
   "cell_type": "code",
   "execution_count": 425,
   "metadata": {},
   "outputs": [],
   "source": [
    "for i in range(len(rat)):\n",
    "    for j in range(len(rat[i])):\n",
    "        Rating_list.append(rat[i][0])\n",
    "        break"
   ]
  },
  {
   "cell_type": "code",
   "execution_count": 426,
   "metadata": {},
   "outputs": [
    {
     "name": "stdout",
     "output_type": "stream",
     "text": [
      "100 100 100\n"
     ]
    }
   ],
   "source": [
    "#Checking the length\n",
    "print(len(Rating_list),len(Review_list),len(Full_review_list))"
   ]
  },
  {
   "cell_type": "code",
   "execution_count": 427,
   "metadata": {},
   "outputs": [
    {
     "data": {
      "text/html": [
       "<div>\n",
       "<style scoped>\n",
       "    .dataframe tbody tr th:only-of-type {\n",
       "        vertical-align: middle;\n",
       "    }\n",
       "\n",
       "    .dataframe tbody tr th {\n",
       "        vertical-align: top;\n",
       "    }\n",
       "\n",
       "    .dataframe thead th {\n",
       "        text-align: right;\n",
       "    }\n",
       "</style>\n",
       "<table border=\"1\" class=\"dataframe\">\n",
       "  <thead>\n",
       "    <tr style=\"text-align: right;\">\n",
       "      <th></th>\n",
       "      <th>Rating</th>\n",
       "      <th>Review</th>\n",
       "      <th>Full review</th>\n",
       "    </tr>\n",
       "  </thead>\n",
       "  <tbody>\n",
       "    <tr>\n",
       "      <th>1</th>\n",
       "      <td>5</td>\n",
       "      <td>Brilliant</td>\n",
       "      <td>The Best Phone for the Money\\n\\nThe iPhone 11 ...</td>\n",
       "    </tr>\n",
       "    <tr>\n",
       "      <th>2</th>\n",
       "      <td>5</td>\n",
       "      <td>Simply awesome</td>\n",
       "      <td>Really satisfied with the Product I received.....</td>\n",
       "    </tr>\n",
       "    <tr>\n",
       "      <th>3</th>\n",
       "      <td>5</td>\n",
       "      <td>Perfect product!</td>\n",
       "      <td>Amazing phone with great cameras and better ba...</td>\n",
       "    </tr>\n",
       "    <tr>\n",
       "      <th>4</th>\n",
       "      <td>5</td>\n",
       "      <td>Fabulous!</td>\n",
       "      <td>This is my first iOS phone. I am very happy wi...</td>\n",
       "    </tr>\n",
       "    <tr>\n",
       "      <th>5</th>\n",
       "      <td>5</td>\n",
       "      <td>Worth every penny</td>\n",
       "      <td>Previously I was using one plus 3t it was a gr...</td>\n",
       "    </tr>\n",
       "    <tr>\n",
       "      <th>6</th>\n",
       "      <td>5</td>\n",
       "      <td>Great product</td>\n",
       "      <td>Amazing Powerful and Durable Gadget.\\n\\nI’m am...</td>\n",
       "    </tr>\n",
       "    <tr>\n",
       "      <th>7</th>\n",
       "      <td>4</td>\n",
       "      <td>Good choice</td>\n",
       "      <td>So far it’s been an AMAZING experience coming ...</td>\n",
       "    </tr>\n",
       "    <tr>\n",
       "      <th>8</th>\n",
       "      <td>5</td>\n",
       "      <td>Worth every penny</td>\n",
       "      <td>i11 is worthy to buy, too much happy with the ...</td>\n",
       "    </tr>\n",
       "    <tr>\n",
       "      <th>9</th>\n",
       "      <td>5</td>\n",
       "      <td>Best in the market!</td>\n",
       "      <td>Great iPhone very snappy experience as apple k...</td>\n",
       "    </tr>\n",
       "    <tr>\n",
       "      <th>10</th>\n",
       "      <td>5</td>\n",
       "      <td>Highly recommended</td>\n",
       "      <td>iphone 11 is a very good phone to buy only if ...</td>\n",
       "    </tr>\n",
       "    <tr>\n",
       "      <th>11</th>\n",
       "      <td>5</td>\n",
       "      <td>Perfect product!</td>\n",
       "      <td>It’s a must buy who is looking for an upgrade ...</td>\n",
       "    </tr>\n",
       "    <tr>\n",
       "      <th>12</th>\n",
       "      <td>5</td>\n",
       "      <td>Highly recommended</td>\n",
       "      <td>What a camera .....just awesome ..you can feel...</td>\n",
       "    </tr>\n",
       "    <tr>\n",
       "      <th>13</th>\n",
       "      <td>5</td>\n",
       "      <td>Perfect product!</td>\n",
       "      <td>Value for money❤️❤️\\nIts awesome mobile phone ...</td>\n",
       "    </tr>\n",
       "    <tr>\n",
       "      <th>14</th>\n",
       "      <td>5</td>\n",
       "      <td>Classy product</td>\n",
       "      <td>Totally in love with this ❤ the camera quality...</td>\n",
       "    </tr>\n",
       "    <tr>\n",
       "      <th>15</th>\n",
       "      <td>5</td>\n",
       "      <td>Worth every penny</td>\n",
       "      <td>Best budget Iphone till date ❤️ go for it guys...</td>\n",
       "    </tr>\n",
       "    <tr>\n",
       "      <th>16</th>\n",
       "      <td>5</td>\n",
       "      <td>Perfect product!</td>\n",
       "      <td>Iphone is just awesome.. battery backup is ver...</td>\n",
       "    </tr>\n",
       "    <tr>\n",
       "      <th>17</th>\n",
       "      <td>5</td>\n",
       "      <td>Simply awesome</td>\n",
       "      <td>Excellent camera, good performance, no lag. Th...</td>\n",
       "    </tr>\n",
       "    <tr>\n",
       "      <th>18</th>\n",
       "      <td>5</td>\n",
       "      <td>Highly recommended</td>\n",
       "      <td>It's my first time to use iOS phone and I am l...</td>\n",
       "    </tr>\n",
       "    <tr>\n",
       "      <th>19</th>\n",
       "      <td>5</td>\n",
       "      <td>Worth every penny</td>\n",
       "      <td>It’s been almost a month since I have been usi...</td>\n",
       "    </tr>\n",
       "    <tr>\n",
       "      <th>20</th>\n",
       "      <td>5</td>\n",
       "      <td>Terrific</td>\n",
       "      <td>Really worth of money. i just love it. It is t...</td>\n",
       "    </tr>\n",
       "    <tr>\n",
       "      <th>21</th>\n",
       "      <td>4</td>\n",
       "      <td>Nice product</td>\n",
       "      <td>Awesome Phone. Slightly high price but worth. ...</td>\n",
       "    </tr>\n",
       "    <tr>\n",
       "      <th>22</th>\n",
       "      <td>5</td>\n",
       "      <td>Wonderful</td>\n",
       "      <td>This is my first ever I phone. Before this I w...</td>\n",
       "    </tr>\n",
       "    <tr>\n",
       "      <th>23</th>\n",
       "      <td>5</td>\n",
       "      <td>Classy product</td>\n",
       "      <td>Superb Product !!!\\nA big and worthy upgrade f...</td>\n",
       "    </tr>\n",
       "    <tr>\n",
       "      <th>24</th>\n",
       "      <td>5</td>\n",
       "      <td>Brilliant</td>\n",
       "      <td>I have migrated from OP 7pro... and trust me, ...</td>\n",
       "    </tr>\n",
       "    <tr>\n",
       "      <th>25</th>\n",
       "      <td>5</td>\n",
       "      <td>Must buy!</td>\n",
       "      <td>It’s an amazing product from apple and the cam...</td>\n",
       "    </tr>\n",
       "    <tr>\n",
       "      <th>26</th>\n",
       "      <td>4</td>\n",
       "      <td>Good choice</td>\n",
       "      <td>Looking so good 👍 😍 super 👌 stylish 😎 phone\\nC...</td>\n",
       "    </tr>\n",
       "    <tr>\n",
       "      <th>27</th>\n",
       "      <td>5</td>\n",
       "      <td>Perfect product!</td>\n",
       "      <td>After 1 month use I found camera quality best ...</td>\n",
       "    </tr>\n",
       "    <tr>\n",
       "      <th>28</th>\n",
       "      <td>5</td>\n",
       "      <td>Wonderful</td>\n",
       "      <td>I just directly switch from iphone 6s to iphon...</td>\n",
       "    </tr>\n",
       "    <tr>\n",
       "      <th>29</th>\n",
       "      <td>5</td>\n",
       "      <td>Terrific purchase</td>\n",
       "      <td>Upgraded from iphone 6 to 11 best phone for ip...</td>\n",
       "    </tr>\n",
       "    <tr>\n",
       "      <th>30</th>\n",
       "      <td>5</td>\n",
       "      <td>Great product</td>\n",
       "      <td>Well you all know the specifications . One of ...</td>\n",
       "    </tr>\n",
       "    <tr>\n",
       "      <th>...</th>\n",
       "      <td>...</td>\n",
       "      <td>...</td>\n",
       "      <td>...</td>\n",
       "    </tr>\n",
       "    <tr>\n",
       "      <th>71</th>\n",
       "      <td>4</td>\n",
       "      <td>Value-for-money</td>\n",
       "      <td>I'm Really happy with the product\\nDelivery wa...</td>\n",
       "    </tr>\n",
       "    <tr>\n",
       "      <th>72</th>\n",
       "      <td>5</td>\n",
       "      <td>Just wow!</td>\n",
       "      <td>Great iphone.\\nI am writing this review after ...</td>\n",
       "    </tr>\n",
       "    <tr>\n",
       "      <th>73</th>\n",
       "      <td>5</td>\n",
       "      <td>Super!</td>\n",
       "      <td>Did an upgrade from 6s plus to iphone 11.\\nAo ...</td>\n",
       "    </tr>\n",
       "    <tr>\n",
       "      <th>74</th>\n",
       "      <td>5</td>\n",
       "      <td>Best in the market!</td>\n",
       "      <td>Damn this phone is a blast . Upgraded from and...</td>\n",
       "    </tr>\n",
       "    <tr>\n",
       "      <th>75</th>\n",
       "      <td>5</td>\n",
       "      <td>Classy product</td>\n",
       "      <td>Gifted my man on his 30th birthday 🎂 He loves ...</td>\n",
       "    </tr>\n",
       "    <tr>\n",
       "      <th>76</th>\n",
       "      <td>5</td>\n",
       "      <td>Highly recommended</td>\n",
       "      <td>Thanks Flipkart For this amazing deal! I had a...</td>\n",
       "    </tr>\n",
       "    <tr>\n",
       "      <th>77</th>\n",
       "      <td>5</td>\n",
       "      <td>Mind-blowing purchase</td>\n",
       "      <td>awesome Phone Smooth Touch Too good Sexyy look...</td>\n",
       "    </tr>\n",
       "    <tr>\n",
       "      <th>78</th>\n",
       "      <td>5</td>\n",
       "      <td>Must buy!</td>\n",
       "      <td>I rate this product 5* as it has got amazing u...</td>\n",
       "    </tr>\n",
       "    <tr>\n",
       "      <th>79</th>\n",
       "      <td>5</td>\n",
       "      <td>Excellent</td>\n",
       "      <td>It was amazing experience for me. Honestly i a...</td>\n",
       "    </tr>\n",
       "    <tr>\n",
       "      <th>80</th>\n",
       "      <td>5</td>\n",
       "      <td>Excellent</td>\n",
       "      <td>Just go for it.\\nThis phone is really amazing....</td>\n",
       "    </tr>\n",
       "    <tr>\n",
       "      <th>81</th>\n",
       "      <td>5</td>\n",
       "      <td>Terrific</td>\n",
       "      <td>I bought iPhone 11 On March 2021, And I am Wri...</td>\n",
       "    </tr>\n",
       "    <tr>\n",
       "      <th>82</th>\n",
       "      <td>4</td>\n",
       "      <td>Pretty good</td>\n",
       "      <td>I've used this phone for over a month now and ...</td>\n",
       "    </tr>\n",
       "    <tr>\n",
       "      <th>83</th>\n",
       "      <td>4</td>\n",
       "      <td>Nice product</td>\n",
       "      <td>If you are looking for a premium phone under 5...</td>\n",
       "    </tr>\n",
       "    <tr>\n",
       "      <th>84</th>\n",
       "      <td>5</td>\n",
       "      <td>Mind-blowing purchase</td>\n",
       "      <td>Absolutely powerful gadget. Loved it’s look! S...</td>\n",
       "    </tr>\n",
       "    <tr>\n",
       "      <th>85</th>\n",
       "      <td>3</td>\n",
       "      <td>Does the job</td>\n",
       "      <td>phone is good but in display is 720p lcd in th...</td>\n",
       "    </tr>\n",
       "    <tr>\n",
       "      <th>86</th>\n",
       "      <td>5</td>\n",
       "      <td>Wonderful</td>\n",
       "      <td>Nice value for money good and best price I pho...</td>\n",
       "    </tr>\n",
       "    <tr>\n",
       "      <th>87</th>\n",
       "      <td>5</td>\n",
       "      <td>Worth every penny</td>\n",
       "      <td>Here is the thing\\n\\nThe only reason why you s...</td>\n",
       "    </tr>\n",
       "    <tr>\n",
       "      <th>88</th>\n",
       "      <td>5</td>\n",
       "      <td>Worth every penny</td>\n",
       "      <td>Undoubtedly Iphone 11 is the most successful m...</td>\n",
       "    </tr>\n",
       "    <tr>\n",
       "      <th>89</th>\n",
       "      <td>5</td>\n",
       "      <td>Fabulous!</td>\n",
       "      <td>I purchased the iPhone 11 a month back. I must...</td>\n",
       "    </tr>\n",
       "    <tr>\n",
       "      <th>90</th>\n",
       "      <td>5</td>\n",
       "      <td>Classy product</td>\n",
       "      <td>We are on apple ecosystem for almost eight yea...</td>\n",
       "    </tr>\n",
       "    <tr>\n",
       "      <th>91</th>\n",
       "      <td>5</td>\n",
       "      <td>Awesome</td>\n",
       "      <td>Can’t beat the software and hardware integrati...</td>\n",
       "    </tr>\n",
       "    <tr>\n",
       "      <th>92</th>\n",
       "      <td>5</td>\n",
       "      <td>Wonderful</td>\n",
       "      <td>Super and marvellous phone look very cute and ...</td>\n",
       "    </tr>\n",
       "    <tr>\n",
       "      <th>93</th>\n",
       "      <td>5</td>\n",
       "      <td>Terrific purchase</td>\n",
       "      <td>I use a Note10+ and have been using both iOS a...</td>\n",
       "    </tr>\n",
       "    <tr>\n",
       "      <th>94</th>\n",
       "      <td>5</td>\n",
       "      <td>Awesome</td>\n",
       "      <td>The phone is completely good\\nAs far as camera...</td>\n",
       "    </tr>\n",
       "    <tr>\n",
       "      <th>95</th>\n",
       "      <td>3</td>\n",
       "      <td>Decent product</td>\n",
       "      <td>Everything u ll like it when u use this iPhone...</td>\n",
       "    </tr>\n",
       "    <tr>\n",
       "      <th>96</th>\n",
       "      <td>5</td>\n",
       "      <td>Super!</td>\n",
       "      <td>This is my first ever iPhone.\\nAnd I truly don...</td>\n",
       "    </tr>\n",
       "    <tr>\n",
       "      <th>97</th>\n",
       "      <td>5</td>\n",
       "      <td>Fabulous!</td>\n",
       "      <td>Everything is perfect pictures come out so cle...</td>\n",
       "    </tr>\n",
       "    <tr>\n",
       "      <th>98</th>\n",
       "      <td>5</td>\n",
       "      <td>Just wow!</td>\n",
       "      <td>The ultimate performance\\nCamera is superb\\nTh...</td>\n",
       "    </tr>\n",
       "    <tr>\n",
       "      <th>99</th>\n",
       "      <td>5</td>\n",
       "      <td>Mind-blowing purchase</td>\n",
       "      <td>Excellent camera 📸 And Display touching very N...</td>\n",
       "    </tr>\n",
       "    <tr>\n",
       "      <th>100</th>\n",
       "      <td>5</td>\n",
       "      <td>Excellent</td>\n",
       "      <td>A perfect phone and a good battery super camer...</td>\n",
       "    </tr>\n",
       "  </tbody>\n",
       "</table>\n",
       "<p>100 rows × 3 columns</p>\n",
       "</div>"
      ],
      "text/plain": [
       "    Rating                 Review  \\\n",
       "1        5              Brilliant   \n",
       "2        5         Simply awesome   \n",
       "3        5       Perfect product!   \n",
       "4        5              Fabulous!   \n",
       "5        5      Worth every penny   \n",
       "6        5          Great product   \n",
       "7        4            Good choice   \n",
       "8        5      Worth every penny   \n",
       "9        5    Best in the market!   \n",
       "10       5     Highly recommended   \n",
       "11       5       Perfect product!   \n",
       "12       5     Highly recommended   \n",
       "13       5       Perfect product!   \n",
       "14       5         Classy product   \n",
       "15       5      Worth every penny   \n",
       "16       5       Perfect product!   \n",
       "17       5         Simply awesome   \n",
       "18       5     Highly recommended   \n",
       "19       5      Worth every penny   \n",
       "20       5               Terrific   \n",
       "21       4           Nice product   \n",
       "22       5              Wonderful   \n",
       "23       5         Classy product   \n",
       "24       5              Brilliant   \n",
       "25       5              Must buy!   \n",
       "26       4            Good choice   \n",
       "27       5       Perfect product!   \n",
       "28       5              Wonderful   \n",
       "29       5      Terrific purchase   \n",
       "30       5          Great product   \n",
       "..     ...                    ...   \n",
       "71       4        Value-for-money   \n",
       "72       5              Just wow!   \n",
       "73       5                 Super!   \n",
       "74       5    Best in the market!   \n",
       "75       5         Classy product   \n",
       "76       5     Highly recommended   \n",
       "77       5  Mind-blowing purchase   \n",
       "78       5              Must buy!   \n",
       "79       5              Excellent   \n",
       "80       5              Excellent   \n",
       "81       5               Terrific   \n",
       "82       4            Pretty good   \n",
       "83       4           Nice product   \n",
       "84       5  Mind-blowing purchase   \n",
       "85       3           Does the job   \n",
       "86       5              Wonderful   \n",
       "87       5      Worth every penny   \n",
       "88       5      Worth every penny   \n",
       "89       5              Fabulous!   \n",
       "90       5         Classy product   \n",
       "91       5                Awesome   \n",
       "92       5              Wonderful   \n",
       "93       5      Terrific purchase   \n",
       "94       5                Awesome   \n",
       "95       3         Decent product   \n",
       "96       5                 Super!   \n",
       "97       5              Fabulous!   \n",
       "98       5              Just wow!   \n",
       "99       5  Mind-blowing purchase   \n",
       "100      5              Excellent   \n",
       "\n",
       "                                           Full review  \n",
       "1    The Best Phone for the Money\\n\\nThe iPhone 11 ...  \n",
       "2    Really satisfied with the Product I received.....  \n",
       "3    Amazing phone with great cameras and better ba...  \n",
       "4    This is my first iOS phone. I am very happy wi...  \n",
       "5    Previously I was using one plus 3t it was a gr...  \n",
       "6    Amazing Powerful and Durable Gadget.\\n\\nI’m am...  \n",
       "7    So far it’s been an AMAZING experience coming ...  \n",
       "8    i11 is worthy to buy, too much happy with the ...  \n",
       "9    Great iPhone very snappy experience as apple k...  \n",
       "10   iphone 11 is a very good phone to buy only if ...  \n",
       "11   It’s a must buy who is looking for an upgrade ...  \n",
       "12   What a camera .....just awesome ..you can feel...  \n",
       "13   Value for money❤️❤️\\nIts awesome mobile phone ...  \n",
       "14   Totally in love with this ❤ the camera quality...  \n",
       "15   Best budget Iphone till date ❤️ go for it guys...  \n",
       "16   Iphone is just awesome.. battery backup is ver...  \n",
       "17   Excellent camera, good performance, no lag. Th...  \n",
       "18   It's my first time to use iOS phone and I am l...  \n",
       "19   It’s been almost a month since I have been usi...  \n",
       "20   Really worth of money. i just love it. It is t...  \n",
       "21   Awesome Phone. Slightly high price but worth. ...  \n",
       "22   This is my first ever I phone. Before this I w...  \n",
       "23   Superb Product !!!\\nA big and worthy upgrade f...  \n",
       "24   I have migrated from OP 7pro... and trust me, ...  \n",
       "25   It’s an amazing product from apple and the cam...  \n",
       "26   Looking so good 👍 😍 super 👌 stylish 😎 phone\\nC...  \n",
       "27   After 1 month use I found camera quality best ...  \n",
       "28   I just directly switch from iphone 6s to iphon...  \n",
       "29   Upgraded from iphone 6 to 11 best phone for ip...  \n",
       "30   Well you all know the specifications . One of ...  \n",
       "..                                                 ...  \n",
       "71   I'm Really happy with the product\\nDelivery wa...  \n",
       "72   Great iphone.\\nI am writing this review after ...  \n",
       "73   Did an upgrade from 6s plus to iphone 11.\\nAo ...  \n",
       "74   Damn this phone is a blast . Upgraded from and...  \n",
       "75   Gifted my man on his 30th birthday 🎂 He loves ...  \n",
       "76   Thanks Flipkart For this amazing deal! I had a...  \n",
       "77   awesome Phone Smooth Touch Too good Sexyy look...  \n",
       "78   I rate this product 5* as it has got amazing u...  \n",
       "79   It was amazing experience for me. Honestly i a...  \n",
       "80   Just go for it.\\nThis phone is really amazing....  \n",
       "81   I bought iPhone 11 On March 2021, And I am Wri...  \n",
       "82   I've used this phone for over a month now and ...  \n",
       "83   If you are looking for a premium phone under 5...  \n",
       "84   Absolutely powerful gadget. Loved it’s look! S...  \n",
       "85   phone is good but in display is 720p lcd in th...  \n",
       "86   Nice value for money good and best price I pho...  \n",
       "87   Here is the thing\\n\\nThe only reason why you s...  \n",
       "88   Undoubtedly Iphone 11 is the most successful m...  \n",
       "89   I purchased the iPhone 11 a month back. I must...  \n",
       "90   We are on apple ecosystem for almost eight yea...  \n",
       "91   Can’t beat the software and hardware integrati...  \n",
       "92   Super and marvellous phone look very cute and ...  \n",
       "93   I use a Note10+ and have been using both iOS a...  \n",
       "94   The phone is completely good\\nAs far as camera...  \n",
       "95   Everything u ll like it when u use this iPhone...  \n",
       "96   This is my first ever iPhone.\\nAnd I truly don...  \n",
       "97   Everything is perfect pictures come out so cle...  \n",
       "98   The ultimate performance\\nCamera is superb\\nTh...  \n",
       "99   Excellent camera 📸 And Display touching very N...  \n",
       "100  A perfect phone and a good battery super camer...  \n",
       "\n",
       "[100 rows x 3 columns]"
      ]
     },
     "execution_count": 427,
     "metadata": {},
     "output_type": "execute_result"
    }
   ],
   "source": [
    "# since the lenght of each lists are equal we will store in dataframe\n",
    "import numpy as np\n",
    "df=pd.DataFrame({})\n",
    "df['Rating']=Rating_list\n",
    "df['Review']=Review_list\n",
    "df['Full review']=Full_review_list\n",
    "df.index=np.arange(1,len(Rating_list)+1)\n",
    "df"
   ]
  },
  {
   "cell_type": "markdown",
   "metadata": {},
   "source": [
    "### Q8: Scrape data for first 100 sneakers you find when you visit flipkart.com and search for “sneakers” in the search field."
   ]
  },
  {
   "cell_type": "code",
   "execution_count": 239,
   "metadata": {},
   "outputs": [],
   "source": [
    "#Connecting to the web driver\n",
    "driver=webdriver.Chrome('chromedriver.exe')"
   ]
  },
  {
   "cell_type": "code",
   "execution_count": 240,
   "metadata": {},
   "outputs": [],
   "source": [
    "url='https://www.flipkart.com/'\n",
    "driver.get(url)"
   ]
  },
  {
   "cell_type": "code",
   "execution_count": 241,
   "metadata": {
    "scrolled": true
   },
   "outputs": [
    {
     "data": {
      "text/plain": [
       "<selenium.webdriver.remote.webelement.WebElement (session=\"bd1f61c931eb6649036675aeddadacbc\", element=\"5cf2134f-964c-4d84-832b-a860dd777548\")>"
      ]
     },
     "execution_count": 241,
     "metadata": {},
     "output_type": "execute_result"
    }
   ],
   "source": [
    "search_product=driver.find_element_by_xpath(\"//input[@class='_3704LK']\")\n",
    "search_product"
   ]
  },
  {
   "cell_type": "code",
   "execution_count": 242,
   "metadata": {},
   "outputs": [],
   "source": [
    "# Writing data on web element location\n",
    "search_product.send_keys('sneakers')"
   ]
  },
  {
   "cell_type": "code",
   "execution_count": 243,
   "metadata": {},
   "outputs": [
    {
     "data": {
      "text/plain": [
       "<selenium.webdriver.remote.webelement.WebElement (session=\"bd1f61c931eb6649036675aeddadacbc\", element=\"3b1d7fdb-2210-4580-80c8-7736305af8f7\")>"
      ]
     },
     "execution_count": 243,
     "metadata": {},
     "output_type": "execute_result"
    }
   ],
   "source": [
    "# Finding web element for search button\n",
    "search_btn=driver.find_element_by_xpath(\"//button[@class='L0Z3Pu']\")\n",
    "search_btn"
   ]
  },
  {
   "cell_type": "code",
   "execution_count": 244,
   "metadata": {},
   "outputs": [],
   "source": [
    "# Clicking on button\n",
    "search_btn.click()"
   ]
  },
  {
   "cell_type": "code",
   "execution_count": 250,
   "metadata": {},
   "outputs": [
    {
     "data": {
      "text/plain": [
       "11"
      ]
     },
     "execution_count": 250,
     "metadata": {},
     "output_type": "execute_result"
    }
   ],
   "source": [
    "page_url=driver.find_elements_by_xpath(\"//nav[@class='yFHi8N']//a\")\n",
    "len(page_url)"
   ]
  },
  {
   "cell_type": "code",
   "execution_count": 252,
   "metadata": {},
   "outputs": [
    {
     "data": {
      "text/plain": [
       "['https://www.flipkart.com/search?q=sneakers&otracker=search&otracker1=search&marketplace=FLIPKART&as-show=on&as=off&page=1',\n",
       " 'https://www.flipkart.com/search?q=sneakers&otracker=search&otracker1=search&marketplace=FLIPKART&as-show=on&as=off&page=2',\n",
       " 'https://www.flipkart.com/search?q=sneakers&otracker=search&otracker1=search&marketplace=FLIPKART&as-show=on&as=off&page=3',\n",
       " 'https://www.flipkart.com/search?q=sneakers&otracker=search&otracker1=search&marketplace=FLIPKART&as-show=on&as=off&page=4',\n",
       " 'https://www.flipkart.com/search?q=sneakers&otracker=search&otracker1=search&marketplace=FLIPKART&as-show=on&as=off&page=5',\n",
       " 'https://www.flipkart.com/search?q=sneakers&otracker=search&otracker1=search&marketplace=FLIPKART&as-show=on&as=off&page=6',\n",
       " 'https://www.flipkart.com/search?q=sneakers&otracker=search&otracker1=search&marketplace=FLIPKART&as-show=on&as=off&page=7',\n",
       " 'https://www.flipkart.com/search?q=sneakers&otracker=search&otracker1=search&marketplace=FLIPKART&as-show=on&as=off&page=8',\n",
       " 'https://www.flipkart.com/search?q=sneakers&otracker=search&otracker1=search&marketplace=FLIPKART&as-show=on&as=off&page=9',\n",
       " 'https://www.flipkart.com/search?q=sneakers&otracker=search&otracker1=search&marketplace=FLIPKART&as-show=on&as=off&page=10',\n",
       " 'https://www.flipkart.com/search?q=sneakers&otracker=search&otracker1=search&marketplace=FLIPKART&as-show=on&as=off&page=2']"
      ]
     },
     "execution_count": 252,
     "metadata": {},
     "output_type": "execute_result"
    }
   ],
   "source": [
    "page_opening_urls=[]\n",
    "\n",
    "for i in page_url:\n",
    "    page_opening_urls.append(i.get_attribute('href'))\n",
    "page_opening_urls"
   ]
  },
  {
   "cell_type": "code",
   "execution_count": null,
   "metadata": {},
   "outputs": [],
   "source": []
  },
  {
   "cell_type": "code",
   "execution_count": 267,
   "metadata": {},
   "outputs": [],
   "source": [
    "#Fetching prodcut urls\n",
    "urls=[]\n",
    "for i in driver.find_elements_by_xpath(\"//a[@class='_2UzuFa']\"):\n",
    "    urls.append(i.get_attribute(\"href\"))"
   ]
  },
  {
   "cell_type": "code",
   "execution_count": 268,
   "metadata": {},
   "outputs": [
    {
     "data": {
      "text/plain": [
       "40"
      ]
     },
     "execution_count": 268,
     "metadata": {},
     "output_type": "execute_result"
    }
   ],
   "source": [
    "len(urls)"
   ]
  },
  {
   "cell_type": "code",
   "execution_count": 269,
   "metadata": {},
   "outputs": [
    {
     "data": {
      "text/plain": [
       "['https://www.flipkart.com/marc-ecko-sneakers-men/p/itm3834ea9802a9b?pid=SHOFJY3CGR99TJZN&lid=LSTSHOFJY3CGR99TJZNWUJCIH&marketplace=FLIPKART&q=sneakers&store=osp%2Fcil%2Fe1f&srno=s_1_1&otracker=search&otracker1=search&fm=SEARCH&iid=en_qk1AYb5g83EAxj2Q%2B95rqWRqDa6YWtkERNiCZNbS6g7SJUGOehPr04v4gITZfjTDsDkgf5XJ1gD2QLuia1QwkA%3D%3D&ppt=hp&ppn=homepage&ssid=lhflgw7fsg0000001628760296374&qH=a1743c0d39461290',\n",
       " 'https://www.flipkart.com/ducati-sneakers-men/p/itmd4d3a5f5b2099?pid=SHOFGFQHDG7HYSNM&lid=LSTSHOFGFQHDG7HYSNMB17GJD&marketplace=FLIPKART&q=sneakers&store=osp%2Fcil%2Fe1f&srno=s_1_2&otracker=search&otracker1=search&fm=SEARCH&iid=en_qk1AYb5g83EAxj2Q%2B95rqWRqDa6YWtkERNiCZNbS6g71WV1EbP9OFp1ao9OSrskvTpEMve6RXtSUJHQMqQiTcg%3D%3D&ppt=hp&ppn=homepage&ssid=lhflgw7fsg0000001628760296374&qH=a1743c0d39461290',\n",
       " 'https://www.flipkart.com/chevit-unique-perfect-collection-combo-pack-02-shoes-men-casual-sneakers-outdoor-walking-sport-running-gym-cycling-trekking-rock-climbing/p/itmff4e5480ba998?pid=SHOGYX9SX8ZHGMYH&lid=LSTSHOGYX9SX8ZHGMYHMNOSZZ&marketplace=FLIPKART&q=sneakers&store=osp%2Fcil%2Fe1f&srno=s_1_3&otracker=search&otracker1=search&fm=SEARCH&iid=d91ad3d8-3983-481f-9928-1bbf66729c22.SHOGYX9SX8ZHGMYH.SEARCH&ppt=sp&ppn=sp&ssid=lhflgw7fsg0000001628760296374&qH=a1743c0d39461290',\n",
       " 'https://www.flipkart.com/pehanosa-sneakers-men/p/itm7d7d5221f975c?pid=SHOGFXFQMBSXNZP8&lid=LSTSHOGFXFQMBSXNZP8U1VEGO&marketplace=FLIPKART&q=sneakers&store=osp%2Fcil%2Fe1f&spotlightTagId=TrendingId_osp%2Fcil%2Fe1f&srno=s_1_4&otracker=search&otracker1=search&fm=SEARCH&iid=d91ad3d8-3983-481f-9928-1bbf66729c22.SHOGFXFQMBSXNZP8.SEARCH&ppt=sp&ppn=sp&ssid=lhflgw7fsg0000001628760296374&qH=a1743c0d39461290',\n",
       " 'https://www.flipkart.com/asteroid-original-luxury-branded-fashionable-men-s-casual-walking-partywear-sneakers-running-white-shoes-men/p/itmadb9562baf1cd?pid=SHOG3F72EB7HAFQF&lid=LSTSHOG3F72EB7HAFQFENVW0L&marketplace=FLIPKART&q=sneakers&store=osp%2Fcil%2Fe1f&srno=s_1_5&otracker=search&otracker1=search&fm=SEARCH&iid=d91ad3d8-3983-481f-9928-1bbf66729c22.SHOG3F72EB7HAFQF.SEARCH&ppt=hp&ppn=homepage&ssid=lhflgw7fsg0000001628760296374&qH=a1743c0d39461290',\n",
       " 'https://www.flipkart.com/chevit-super-stylish-trendy-combo-pack-02-pairs-sneakers-outdoor-loafer-sports-running-rock-climbing-gym-shoes-men/p/itmfce3a6f2183d4?pid=SHOGFVTAG39Y7ZHY&lid=LSTSHOGFVTAG39Y7ZHYNCYVAF&marketplace=FLIPKART&q=sneakers&store=osp%2Fcil%2Fe1f&srno=s_1_6&otracker=search&otracker1=search&fm=SEARCH&iid=d91ad3d8-3983-481f-9928-1bbf66729c22.SHOGFVTAG39Y7ZHY.SEARCH&ppt=hp&ppn=homepage&ssid=lhflgw7fsg0000001628760296374&qH=a1743c0d39461290',\n",
       " 'https://www.flipkart.com/numenzo-sneakers-men/p/itm072bfb0c5e869?pid=SHOFZ4RGEGXFYHY9&lid=LSTSHOFZ4RGEGXFYHY9UPNWTY&marketplace=FLIPKART&q=sneakers&store=osp%2Fcil%2Fe1f&srno=s_1_7&otracker=search&otracker1=search&fm=SEARCH&iid=d91ad3d8-3983-481f-9928-1bbf66729c22.SHOFZ4RGEGXFYHY9.SEARCH&ppt=hp&ppn=homepage&ssid=lhflgw7fsg0000001628760296374&qH=a1743c0d39461290',\n",
       " 'https://www.flipkart.com/ducati-sneakers-men/p/itmd9c180ebdb96e?pid=SHOFNHE7EVRGBFPA&lid=LSTSHOFNHE7EVRGBFPAR4FH3E&marketplace=FLIPKART&q=sneakers&store=osp%2Fcil%2Fe1f&srno=s_1_8&otracker=search&otracker1=search&fm=SEARCH&iid=en_qk1AYb5g83EAxj2Q%2B95rqWRqDa6YWtkERNiCZNbS6g55P1oFtGbHnOGvDyvRWKBl0PAVhQQM8c6eQz3EaI%2F7VQ%3D%3D&ppt=sp&ppn=sp&ssid=lhflgw7fsg0000001628760296374&qH=a1743c0d39461290',\n",
       " 'https://www.flipkart.com/world-wear-footwear-5011-latest-collection-stylish-casual-loafer-sneakers-shoes-men/p/itm01930e5430e12?pid=SHOFMY6NYMGEHRHX&lid=LSTSHOFMY6NYMGEHRHXR2SLIQ&marketplace=FLIPKART&q=sneakers&store=osp%2Fcil%2Fe1f&srno=s_1_9&otracker=search&otracker1=search&fm=SEARCH&iid=d91ad3d8-3983-481f-9928-1bbf66729c22.SHOFMY6NYMGEHRHX.SEARCH&ppt=hp&ppn=homepage&ssid=lhflgw7fsg0000001628760296374&qH=a1743c0d39461290',\n",
       " 'https://www.flipkart.com/luxury-fashion-fashionable-casual-sneaker-shoes-sneakers-men/p/itm2c220c7d857aa?pid=SHOG56XZNZHF56UZ&lid=LSTSHOG56XZNZHF56UZQVIQPL&marketplace=FLIPKART&q=sneakers&store=osp%2Fcil%2Fe1f&srno=s_1_10&otracker=search&otracker1=search&fm=SEARCH&iid=d91ad3d8-3983-481f-9928-1bbf66729c22.SHOG56XZNZHF56UZ.SEARCH&ppt=hp&ppn=homepage&ssid=lhflgw7fsg0000001628760296374&qH=a1743c0d39461290',\n",
       " 'https://www.flipkart.com/numenzo-sneakers-men/p/itm12368ade2be34?pid=SHOG3MZFYZWFZU9H&lid=LSTSHOG3MZFYZWFZU9HWTXBAQ&marketplace=FLIPKART&q=sneakers&store=osp%2Fcil%2Fe1f&srno=s_1_11&otracker=search&otracker1=search&fm=SEARCH&iid=d91ad3d8-3983-481f-9928-1bbf66729c22.SHOG3MZFYZWFZU9H.SEARCH&ppt=hp&ppn=homepage&ssid=lhflgw7fsg0000001628760296374&qH=a1743c0d39461290',\n",
       " 'https://www.flipkart.com/rockfield-sneakers-men/p/itm14fb5f24f8126?pid=SHOFHAFZYCGQ9YYZ&lid=LSTSHOFHAFZYCGQ9YYZXXSRCW&marketplace=FLIPKART&q=sneakers&store=osp%2Fcil%2Fe1f&srno=s_1_12&otracker=search&otracker1=search&fm=SEARCH&iid=en_qk1AYb5g83EAxj2Q%2B95rqWRqDa6YWtkERNiCZNbS6g6jXiPiCjXpnSiEqyVZhvVqb%2F7Sh1xClH1n%2B2ED7MbXOw%3D%3D&ppt=hp&ppn=homepage&ssid=lhflgw7fsg0000001628760296374&qH=a1743c0d39461290',\n",
       " 'https://www.flipkart.com/shoes-bank-white-sneaker-men-s-boy-s-sneakers-men/p/itmf9p2zdypz2jyt?pid=SHOF9Z76DWFGAFWY&lid=LSTSHOF9Z76DWFGAFWYSDVYDU&marketplace=FLIPKART&q=sneakers&store=osp%2Fcil%2Fe1f&srno=s_1_13&otracker=search&otracker1=search&fm=SEARCH&iid=d91ad3d8-3983-481f-9928-1bbf66729c22.SHOF9Z76DWFGAFWY.SEARCH&ppt=hp&ppn=homepage&ssid=lhflgw7fsg0000001628760296374&qH=a1743c0d39461290',\n",
       " 'https://www.flipkart.com/creer-sneakers-men/p/itm87f3cd61e3f52?pid=SHOG5DPCVBA8XUHM&lid=LSTSHOG5DPCVBA8XUHMAM3OVF&marketplace=FLIPKART&q=sneakers&store=osp%2Fcil%2Fe1f&srno=s_1_14&otracker=search&otracker1=search&fm=SEARCH&iid=d91ad3d8-3983-481f-9928-1bbf66729c22.SHOG5DPCVBA8XUHM.SEARCH&ppt=hp&ppn=homepage&ssid=lhflgw7fsg0000001628760296374&qH=a1743c0d39461290',\n",
       " 'https://www.flipkart.com/bruton-combo-pack-4-casual-shoes-loafer-sneakers-men/p/itmc6896607b3f0f?pid=SHOFUXXZZEU8Z3E6&lid=LSTSHOFUXXZZEU8Z3E68COZPZ&marketplace=FLIPKART&q=sneakers&store=osp%2Fcil%2Fe1f&srno=s_1_15&otracker=search&otracker1=search&fm=SEARCH&iid=d91ad3d8-3983-481f-9928-1bbf66729c22.SHOFUXXZZEU8Z3E6.SEARCH&ppt=hp&ppn=homepage&ssid=lhflgw7fsg0000001628760296374&qH=a1743c0d39461290',\n",
       " 'https://www.flipkart.com/u-s-polo-assn-lebron-2-0-sneakers-men/p/itme12a3ae9f62da?pid=SHOG3N6S5DRGKZYU&lid=LSTSHOG3N6S5DRGKZYUSCPA9N&marketplace=FLIPKART&q=sneakers&store=osp%2Fcil%2Fe1f&srno=s_1_16&otracker=search&otracker1=search&fm=SEARCH&iid=en_qk1AYb5g83EAxj2Q%2B95rqWRqDa6YWtkERNiCZNbS6g6F%2Fiv9HYWCoO6eVsityG9I5W4%2BEtD%2BUFQRuSwaEJEo5A%3D%3D&ppt=hp&ppn=homepage&ssid=lhflgw7fsg0000001628760296374&qH=a1743c0d39461290',\n",
       " 'https://www.flipkart.com/bluemaker-casual-men-blue-08-sneakers/p/itm3f838f669177a?pid=SHOFUSH79ESTGB5T&lid=LSTSHOFUSH79ESTGB5TKN8H5G&marketplace=FLIPKART&q=sneakers&store=osp%2Fcil%2Fe1f&srno=s_1_17&otracker=search&otracker1=search&fm=SEARCH&iid=d91ad3d8-3983-481f-9928-1bbf66729c22.SHOFUSH79ESTGB5T.SEARCH&ppt=hp&ppn=homepage&ssid=lhflgw7fsg0000001628760296374&qH=a1743c0d39461290',\n",
       " 'https://www.flipkart.com/chevit-perfect-affordable-combo-pack-03-pairs-casual-sneakers-outdoor-loafers-sports-shoe-running-gym-cycling-trekking-shoes-men/p/itm9aa6fe5320401?pid=SHOGYRPZWHWZSFZB&lid=LSTSHOGYRPZWHWZSFZBQZUCKD&marketplace=FLIPKART&q=sneakers&store=osp%2Fcil%2Fe1f&srno=s_1_18&otracker=search&otracker1=search&fm=SEARCH&iid=d91ad3d8-3983-481f-9928-1bbf66729c22.SHOGYRPZWHWZSFZB.SEARCH&ppt=hp&ppn=homepage&ssid=lhflgw7fsg0000001628760296374&qH=a1743c0d39461290',\n",
       " 'https://www.flipkart.com/puma-hip-hop-mid-perf-idp-sneakers-men/p/itm2456444291120?pid=SHOFNU2WNWXD6KV8&lid=LSTSHOFNU2WNWXD6KV8UD4GFE&marketplace=FLIPKART&q=sneakers&store=osp%2Fcil%2Fe1f&srno=s_1_19&otracker=search&otracker1=search&fm=SEARCH&iid=d91ad3d8-3983-481f-9928-1bbf66729c22.SHOFNU2WNWXD6KV8.SEARCH&ppt=hp&ppn=homepage&ssid=lhflgw7fsg0000001628760296374&qH=a1743c0d39461290',\n",
       " 'https://www.flipkart.com/u-s-polo-assn-leonel-sneakers-men/p/itm1f0783f71f05f?pid=SHOFQFU8EKH4FYHA&lid=LSTSHOFQFU8EKH4FYHA4BBHPF&marketplace=FLIPKART&q=sneakers&store=osp%2Fcil%2Fe1f&srno=s_1_20&otracker=search&otracker1=search&fm=SEARCH&iid=en_qk1AYb5g83EAxj2Q%2B95rqWRqDa6YWtkERNiCZNbS6g7TCGFmvPIH39htyncEeke%2FQEg9MCh0q3AD20VpJbG%2Bgg%3D%3D&ppt=hp&ppn=homepage&ssid=lhflgw7fsg0000001628760296374&qH=a1743c0d39461290',\n",
       " 'https://www.flipkart.com/zsyto-sneakers-men/p/itm19ca926d06bf8?pid=SHOFXACVHEKHUJEZ&lid=LSTSHOFXACVHEKHUJEZZGQGCW&marketplace=FLIPKART&q=sneakers&store=osp%2Fcil%2Fe1f&srno=s_1_21&otracker=search&otracker1=search&fm=SEARCH&iid=d91ad3d8-3983-481f-9928-1bbf66729c22.SHOFXACVHEKHUJEZ.SEARCH&ppt=hp&ppn=homepage&ssid=lhflgw7fsg0000001628760296374&qH=a1743c0d39461290',\n",
       " 'https://www.flipkart.com/chevit-speed-set-5-pairs-sneakers-outdoors-casuals-men/p/itmccd9dcb86e757?pid=SHOFWJJFGKQEQFFW&lid=LSTSHOFWJJFGKQEQFFW0CKGNI&marketplace=FLIPKART&q=sneakers&store=osp%2Fcil%2Fe1f&srno=s_1_22&otracker=search&otracker1=search&fm=SEARCH&iid=d91ad3d8-3983-481f-9928-1bbf66729c22.SHOFWJJFGKQEQFFW.SEARCH&ppt=hp&ppn=homepage&ssid=lhflgw7fsg0000001628760296374&qH=a1743c0d39461290',\n",
       " 'https://www.flipkart.com/red-rose-sneakers-men/p/itmfhp7pq4earagj?pid=SHOFHP3PPQZAA6V5&lid=LSTSHOFHP3PPQZAA6V5WPZLIW&marketplace=FLIPKART&q=sneakers&store=osp%2Fcil%2Fe1f&srno=s_1_23&otracker=search&otracker1=search&fm=SEARCH&iid=d91ad3d8-3983-481f-9928-1bbf66729c22.SHOFHP3PPQZAA6V5.SEARCH&ppt=hp&ppn=homepage&ssid=lhflgw7fsg0000001628760296374&qH=a1743c0d39461290',\n",
       " 'https://www.flipkart.com/u-s-polo-assn-sneakers-men/p/itm582d68acba441?pid=SHOFZFFMEF7QUBGS&lid=LSTSHOFZFFMEF7QUBGSZTJJN0&marketplace=FLIPKART&q=sneakers&store=osp%2Fcil%2Fe1f&srno=s_1_24&otracker=search&otracker1=search&fm=SEARCH&iid=en_qk1AYb5g83EAxj2Q%2B95rqWRqDa6YWtkERNiCZNbS6g6qf0NLDAUF%2BndFjcbrwxl6iavrzOhvU0ciJUGfGsVLfA%3D%3D&ppt=hp&ppn=homepage&ssid=lhflgw7fsg0000001628760296374&qH=a1743c0d39461290',\n",
       " 'https://www.flipkart.com/chevit-494-perfect-sports-shoes-running-training-hikking-gym-cycling-trekking-hiking-sneakers-men/p/itm9e6bd103f4e9c?pid=SHOGYPM66QZVFZCH&lid=LSTSHOGYPM66QZVFZCH3DXQ02&marketplace=FLIPKART&q=sneakers&store=osp%2Fcil%2Fe1f&srno=s_1_25&otracker=search&otracker1=search&fm=SEARCH&iid=d91ad3d8-3983-481f-9928-1bbf66729c22.SHOGYPM66QZVFZCH.SEARCH&ppt=hp&ppn=homepage&ssid=lhflgw7fsg0000001628760296374&qH=a1743c0d39461290',\n",
       " 'https://www.flipkart.com/hotstyle-sneakers-men/p/itm071be697faf47?pid=SHOG4KJFJZTNGJ67&lid=LSTSHOG4KJFJZTNGJ67AUMQBB&marketplace=FLIPKART&q=sneakers&store=osp%2Fcil%2Fe1f&srno=s_1_26&otracker=search&otracker1=search&fm=SEARCH&iid=d91ad3d8-3983-481f-9928-1bbf66729c22.SHOG4KJFJZTNGJ67.SEARCH&ppt=hp&ppn=homepage&ssid=lhflgw7fsg0000001628760296374&qH=a1743c0d39461290',\n",
       " 'https://www.flipkart.com/ktiz-white-sneaker-men-s-boy-s-sneakers-men/p/itm14b4ecbb16637?pid=SHOFUSHPMTHHUSGD&lid=LSTSHOFUSHPMTHHUSGDG0JMSP&marketplace=FLIPKART&q=sneakers&store=osp%2Fcil%2Fe1f&srno=s_1_27&otracker=search&otracker1=search&fm=SEARCH&iid=d91ad3d8-3983-481f-9928-1bbf66729c22.SHOFUSHPMTHHUSGD.SEARCH&ppt=hp&ppn=homepage&ssid=lhflgw7fsg0000001628760296374&qH=a1743c0d39461290',\n",
       " 'https://www.flipkart.com/absolutee-shoes-sneakers-men/p/itm16aedacd43593?pid=SHOG2HYQJGRWH9YV&lid=LSTSHOG2HYQJGRWH9YVJXLA9X&marketplace=FLIPKART&q=sneakers&store=osp%2Fcil%2Fe1f&srno=s_1_28&otracker=search&otracker1=search&fm=SEARCH&iid=en_qk1AYb5g83EAxj2Q%2B95rqWRqDa6YWtkERNiCZNbS6g4u15WTYnHbhOJ8r5CITBfCH7l3DSDpIkSgG0Lx6N39Yg%3D%3D&ppt=hp&ppn=homepage&ssid=lhflgw7fsg0000001628760296374&qH=a1743c0d39461290',\n",
       " 'https://www.flipkart.com/longwalk-men-boxer-sneakers/p/itm9138163f0a16b?pid=SHOF2CY2GVT2RFFV&lid=LSTSHOF2CY2GVT2RFFVBQ6KDY&marketplace=FLIPKART&q=sneakers&store=osp%2Fcil%2Fe1f&srno=s_1_29&otracker=search&otracker1=search&fm=SEARCH&iid=d91ad3d8-3983-481f-9928-1bbf66729c22.SHOF2CY2GVT2RFFV.SEARCH&ppt=hp&ppn=homepage&ssid=lhflgw7fsg0000001628760296374&qH=a1743c0d39461290',\n",
       " 'https://www.flipkart.com/birde-combo-pack-4-casual-shoes-sneakers-men/p/itm6e3d45add0c84?pid=SHOGYGTHK7F9W2ZF&lid=LSTSHOGYGTHK7F9W2ZF1JAISX&marketplace=FLIPKART&q=sneakers&store=osp%2Fcil%2Fe1f&srno=s_1_30&otracker=search&otracker1=search&fm=SEARCH&iid=d91ad3d8-3983-481f-9928-1bbf66729c22.SHOGYGTHK7F9W2ZF.SEARCH&ppt=hp&ppn=homepage&ssid=lhflgw7fsg0000001628760296374&qH=a1743c0d39461290',\n",
       " 'https://www.flipkart.com/chevit-perfect-affordable-combo-pack-02-pairs-sneakers-outdoor-loafer-sports-running-rock-climbing-gym-shoes-men/p/itm66ea1242a9ea5?pid=SHOGYRVMYHSC9GDA&lid=LSTSHOGYRVMYHSC9GDAFLMCIF&marketplace=FLIPKART&q=sneakers&store=osp%2Fcil%2Fe1f&srno=s_1_31&otracker=search&otracker1=search&fm=SEARCH&iid=d91ad3d8-3983-481f-9928-1bbf66729c22.SHOGYRVMYHSC9GDA.SEARCH&ppt=hp&ppn=homepage&ssid=lhflgw7fsg0000001628760296374&qH=a1743c0d39461290',\n",
       " 'https://www.flipkart.com/u-s-polo-assn-clarkin-sneakers-men/p/itmffgjyzycpadew?pid=SHOFFH9CCYD3HVJS&lid=LSTSHOFFH9CCYD3HVJST36BB2&marketplace=FLIPKART&q=sneakers&store=osp%2Fcil%2Fe1f&srno=s_1_32&otracker=search&otracker1=search&fm=SEARCH&iid=en_qk1AYb5g83EAxj2Q%2B95rqWRqDa6YWtkERNiCZNbS6g72KjM1rP7RnVu1mqJF%2Bhs3mXtJk%2BfDx%2FmMyscTQyU40w%3D%3D&ppt=hp&ppn=homepage&ssid=lhflgw7fsg0000001628760296374&qH=a1743c0d39461290',\n",
       " 'https://www.flipkart.com/believe-sneakers-men-black-6-men/p/itmfdyhg8ezwgav9?pid=SHOFDXWW9M7YNPPM&lid=LSTSHOFDXWW9M7YNPPM46ICQT&marketplace=FLIPKART&q=sneakers&store=osp%2Fcil%2Fe1f&srno=s_1_33&otracker=search&otracker1=search&fm=SEARCH&iid=d91ad3d8-3983-481f-9928-1bbf66729c22.SHOFDXWW9M7YNPPM.SEARCH&ppt=hp&ppn=homepage&ssid=lhflgw7fsg0000001628760296374&qH=a1743c0d39461290',\n",
       " 'https://www.flipkart.com/robbie-jones-sneakers-men/p/itmb630cbefaaf97?pid=SHOGF4HZQF5CYRV5&lid=LSTSHOGF4HZQF5CYRV5WYXTCN&marketplace=FLIPKART&q=sneakers&store=osp%2Fcil%2Fe1f&srno=s_1_34&otracker=search&otracker1=search&fm=SEARCH&iid=d91ad3d8-3983-481f-9928-1bbf66729c22.SHOGF4HZQF5CYRV5.SEARCH&ppt=hp&ppn=homepage&ssid=lhflgw7fsg0000001628760296374&qH=a1743c0d39461290',\n",
       " 'https://www.flipkart.com/india-hub-fashionable-casual-sneakers-shoes-men/p/itm5b26824d21d3a?pid=SHOFUZ4HFPJZZZCG&lid=LSTSHOFUZ4HFPJZZZCG5DWPBR&marketplace=FLIPKART&q=sneakers&store=osp%2Fcil%2Fe1f&srno=s_1_35&otracker=search&otracker1=search&fm=SEARCH&iid=d91ad3d8-3983-481f-9928-1bbf66729c22.SHOFUZ4HFPJZZZCG.SEARCH&ppt=hp&ppn=homepage&ssid=lhflgw7fsg0000001628760296374&qH=a1743c0d39461290',\n",
       " 'https://www.flipkart.com/french-connection-sneakers-men/p/itm940ba43387db5?pid=SHOFMRCHR4RBYZ83&lid=LSTSHOFMRCHR4RBYZ83QDDH2K&marketplace=FLIPKART&q=sneakers&store=osp%2Fcil%2Fe1f&srno=s_1_36&otracker=search&otracker1=search&fm=SEARCH&iid=en_qk1AYb5g83EAxj2Q%2B95rqWRqDa6YWtkERNiCZNbS6g7%2BCQOAXNJg%2BjEYKQkoHU4q%2BjGWzJBUIW5AUQvLlTH4Fg%3D%3D&ppt=hp&ppn=homepage&ssid=lhflgw7fsg0000001628760296374&qH=a1743c0d39461290',\n",
       " 'https://www.flipkart.com/scatchite-sneakers-men/p/itmc13680b1d9604?pid=SHOFUDSUUG8AAMZZ&lid=LSTSHOFUDSUUG8AAMZZXEJRH6&marketplace=FLIPKART&q=sneakers&store=osp%2Fcil%2Fe1f&srno=s_1_37&otracker=search&otracker1=search&fm=SEARCH&iid=d91ad3d8-3983-481f-9928-1bbf66729c22.SHOFUDSUUG8AAMZZ.SEARCH&ppt=hp&ppn=homepage&ssid=lhflgw7fsg0000001628760296374&qH=a1743c0d39461290',\n",
       " 'https://www.flipkart.com/airland-shoe-sneakers-men/p/itm1afbf93d2e019?pid=SHOFZ37YEQPE4ZG9&lid=LSTSHOFZ37YEQPE4ZG98YACHE&marketplace=FLIPKART&q=sneakers&store=osp%2Fcil%2Fe1f&srno=s_1_38&otracker=search&otracker1=search&fm=SEARCH&iid=d91ad3d8-3983-481f-9928-1bbf66729c22.SHOFZ37YEQPE4ZG9.SEARCH&ppt=hp&ppn=homepage&ssid=lhflgw7fsg0000001628760296374&qH=a1743c0d39461290',\n",
       " 'https://www.flipkart.com/t-rock-synthetic-leather-casual-partywear-wedding-sneakers-shoes-men/p/itmfhkz7qghnktdg?pid=SHOFHKH6B39PV5HE&lid=LSTSHOFHKH6B39PV5HE3W1SEV&marketplace=FLIPKART&q=sneakers&store=osp%2Fcil%2Fe1f&srno=s_1_39&otracker=search&otracker1=search&fm=SEARCH&iid=d91ad3d8-3983-481f-9928-1bbf66729c22.SHOFHKH6B39PV5HE.SEARCH&ppt=hp&ppn=homepage&ssid=lhflgw7fsg0000001628760296374&qH=a1743c0d39461290',\n",
       " 'https://www.flipkart.com/echor-hawk21-sneakers-men/p/itm1028010c90d6f?pid=SHOG4JMX8Z9YQRKP&lid=LSTSHOG4JMX8Z9YQRKPWMGSGU&marketplace=FLIPKART&q=sneakers&store=osp%2Fcil%2Fe1f&srno=s_1_40&otracker=search&otracker1=search&fm=SEARCH&iid=en_qk1AYb5g83EAxj2Q%2B95rqWRqDa6YWtkERNiCZNbS6g6TD9tdxIEZYC7hxZxjq%2FWzPgDuI2%2FeV66BqDQ2rUjDSw%3D%3D&ppt=hp&ppn=homepage&ssid=lhflgw7fsg0000001628760296374&qH=a1743c0d39461290']"
      ]
     },
     "execution_count": 269,
     "metadata": {},
     "output_type": "execute_result"
    }
   ],
   "source": [
    "urls"
   ]
  },
  {
   "cell_type": "code",
   "execution_count": 281,
   "metadata": {},
   "outputs": [],
   "source": [
    "# Scrappin details for 100 sneaker\n",
    "brand_list=[]\n",
    "product_desc=[]\n",
    "price_list=[]\n",
    "discount_list=[]\n",
    "for i in page_opening_urls[0:3]:\n",
    "    \n",
    "    for i in urls:\n",
    "    \n",
    "        driver.get(i)\n",
    "        # Fetching Brand names\n",
    "        try:\n",
    "        \n",
    "            brand_tags=driver.find_element_by_xpath(\"//span[@class='G6XhRU']\")\n",
    "            brand_list.append(brand_tags.text)\n",
    "            \n",
    "        except:\n",
    "            \n",
    "            brand_list.append('-')\n",
    "       \n",
    "        # Fetching product description\n",
    "        try:\n",
    "        \n",
    "            product_tags=driver.find_element_by_xpath(\"//span[@class='B_NuCI']\")\n",
    "            product_desc.append(product_tags.text)\n",
    "            \n",
    "        except:\n",
    "            \n",
    "            product_desc.append('-')\n",
    "\n",
    "        \n",
    "        # Fetching Prices\n",
    "    \n",
    "        try:\n",
    "            \n",
    "            price_tags=driver.find_element_by_xpath(\"//div[@class='_30jeq3 _16Jk6d']\")\n",
    "            price_list.append(price_tags.text)\n",
    "            \n",
    "        except:\n",
    "            \n",
    "            price_list.append('-')\n",
    "        \n",
    "        # fetching discount list\n",
    "            \n",
    "        try:\n",
    "            \n",
    "            discount_tags=driver.find_element_by_xpath(\"//div[@class='_3Ay6Sb _31Dcoz pZkvcx']\")\n",
    "            discount_list.append(discount_tags.text)\n",
    "        \n",
    "        except:\n",
    "            discount_list.append('-')\n",
    "\n",
    "    "
   ]
  },
  {
   "cell_type": "code",
   "execution_count": 282,
   "metadata": {},
   "outputs": [
    {
     "name": "stdout",
     "output_type": "stream",
     "text": [
      "120 120 120 120\n"
     ]
    }
   ],
   "source": [
    "#Checking the length\n",
    "print(len(brand_list),len(product_desc),len(price_list),len(discount_list))"
   ]
  },
  {
   "cell_type": "code",
   "execution_count": 283,
   "metadata": {},
   "outputs": [
    {
     "data": {
      "text/html": [
       "<div>\n",
       "<style scoped>\n",
       "    .dataframe tbody tr th:only-of-type {\n",
       "        vertical-align: middle;\n",
       "    }\n",
       "\n",
       "    .dataframe tbody tr th {\n",
       "        vertical-align: top;\n",
       "    }\n",
       "\n",
       "    .dataframe thead th {\n",
       "        text-align: right;\n",
       "    }\n",
       "</style>\n",
       "<table border=\"1\" class=\"dataframe\">\n",
       "  <thead>\n",
       "    <tr style=\"text-align: right;\">\n",
       "      <th></th>\n",
       "      <th>Brand</th>\n",
       "      <th>Product_Description</th>\n",
       "      <th>Price_list</th>\n",
       "      <th>Discount_list</th>\n",
       "    </tr>\n",
       "  </thead>\n",
       "  <tbody>\n",
       "    <tr>\n",
       "      <th>1</th>\n",
       "      <td>Marc Ecko</td>\n",
       "      <td>Sneakers For Men  (Brown)</td>\n",
       "      <td>₹729</td>\n",
       "      <td>66% off</td>\n",
       "    </tr>\n",
       "    <tr>\n",
       "      <th>2</th>\n",
       "      <td>DUCATI</td>\n",
       "      <td>Sneakers For Men  (Grey)</td>\n",
       "      <td>₹1,745</td>\n",
       "      <td>51% off</td>\n",
       "    </tr>\n",
       "    <tr>\n",
       "      <th>3</th>\n",
       "      <td>Chevit</td>\n",
       "      <td>Unique &amp; Perfect Collection Combo Pack of 02 S...</td>\n",
       "      <td>₹420</td>\n",
       "      <td>71% off</td>\n",
       "    </tr>\n",
       "    <tr>\n",
       "      <th>4</th>\n",
       "      <td>PEHANOSA</td>\n",
       "      <td>Sneakers For Men  (Multicolor)</td>\n",
       "      <td>₹419</td>\n",
       "      <td>58% off</td>\n",
       "    </tr>\n",
       "    <tr>\n",
       "      <th>5</th>\n",
       "      <td>ASTEROID</td>\n",
       "      <td>Original Luxury Branded Fashionable Men's Casu...</td>\n",
       "      <td>₹499</td>\n",
       "      <td>75% off</td>\n",
       "    </tr>\n",
       "    <tr>\n",
       "      <th>6</th>\n",
       "      <td>Chevit</td>\n",
       "      <td>Super Stylish &amp; Trendy Combo Pack of 02 Pairs ...</td>\n",
       "      <td>₹536</td>\n",
       "      <td>66% off</td>\n",
       "    </tr>\n",
       "    <tr>\n",
       "      <th>7</th>\n",
       "      <td>Numenzo</td>\n",
       "      <td>Sneakers For Men  (White)</td>\n",
       "      <td>₹378</td>\n",
       "      <td>62% off</td>\n",
       "    </tr>\n",
       "    <tr>\n",
       "      <th>8</th>\n",
       "      <td>DUCATI</td>\n",
       "      <td>Sneakers For Men  (Black)</td>\n",
       "      <td>₹1,445</td>\n",
       "      <td>60% off</td>\n",
       "    </tr>\n",
       "    <tr>\n",
       "      <th>9</th>\n",
       "      <td>World Wear Footwear</td>\n",
       "      <td>5011-Latest Collection Stylish Casual Loafer S...</td>\n",
       "      <td>₹240</td>\n",
       "      <td>51% off</td>\n",
       "    </tr>\n",
       "    <tr>\n",
       "      <th>10</th>\n",
       "      <td>luxury fashion</td>\n",
       "      <td>Luxury Fashionable casual sneaker shoes Sneake...</td>\n",
       "      <td>₹399</td>\n",
       "      <td>69% off</td>\n",
       "    </tr>\n",
       "    <tr>\n",
       "      <th>11</th>\n",
       "      <td>Numenzo</td>\n",
       "      <td>Sneakers For Men  (Black)</td>\n",
       "      <td>₹426</td>\n",
       "      <td>78% off</td>\n",
       "    </tr>\n",
       "    <tr>\n",
       "      <th>12</th>\n",
       "      <td>ROCKFIELD</td>\n",
       "      <td>Sneakers For Men  (Grey)</td>\n",
       "      <td>₹399</td>\n",
       "      <td>60% off</td>\n",
       "    </tr>\n",
       "    <tr>\n",
       "      <th>13</th>\n",
       "      <td>Shoes Bank</td>\n",
       "      <td>White Sneaker For Men's/Boy's Sneakers For Men...</td>\n",
       "      <td>₹349</td>\n",
       "      <td>65% off</td>\n",
       "    </tr>\n",
       "    <tr>\n",
       "      <th>14</th>\n",
       "      <td>Creer</td>\n",
       "      <td>Sneakers For Men  (White, Blue)</td>\n",
       "      <td>₹418</td>\n",
       "      <td>58% off</td>\n",
       "    </tr>\n",
       "    <tr>\n",
       "      <th>15</th>\n",
       "      <td>BRUTON</td>\n",
       "      <td>Combo Pack Of 4 Casual Shoes Loafer Shoes Snea...</td>\n",
       "      <td>₹474</td>\n",
       "      <td>86% off</td>\n",
       "    </tr>\n",
       "    <tr>\n",
       "      <th>16</th>\n",
       "      <td>U.S. POLO ASSN.</td>\n",
       "      <td>LEBRON 2.0 Sneakers For Men  (Off White)</td>\n",
       "      <td>₹3,999</td>\n",
       "      <td>-</td>\n",
       "    </tr>\n",
       "    <tr>\n",
       "      <th>17</th>\n",
       "      <td>bluemaker</td>\n",
       "      <td>casual for men (blue 08) Sneakers For Men  (Blue)</td>\n",
       "      <td>₹399</td>\n",
       "      <td>60% off</td>\n",
       "    </tr>\n",
       "    <tr>\n",
       "      <th>18</th>\n",
       "      <td>Chevit</td>\n",
       "      <td>Perfect &amp; Affordable Combo Pack of 03 Pairs Ca...</td>\n",
       "      <td>₹594</td>\n",
       "      <td>77% off</td>\n",
       "    </tr>\n",
       "    <tr>\n",
       "      <th>19</th>\n",
       "      <td>PUMA</td>\n",
       "      <td>Hip Hop Mid Perf IDP Sneakers For Men  (Black)</td>\n",
       "      <td>₹2,042</td>\n",
       "      <td>41% off</td>\n",
       "    </tr>\n",
       "    <tr>\n",
       "      <th>20</th>\n",
       "      <td>U.S. POLO ASSN.</td>\n",
       "      <td>LEONEL Sneakers For Men  (White)</td>\n",
       "      <td>₹3,999</td>\n",
       "      <td>-</td>\n",
       "    </tr>\n",
       "    <tr>\n",
       "      <th>21</th>\n",
       "      <td>Zsyto</td>\n",
       "      <td>Sneakers For Men  (White, Black)</td>\n",
       "      <td>₹311</td>\n",
       "      <td>76% off</td>\n",
       "    </tr>\n",
       "    <tr>\n",
       "      <th>22</th>\n",
       "      <td>Chevit</td>\n",
       "      <td>Speed Set of 5 Pairs Sneakers Outdoors Casuals...</td>\n",
       "      <td>₹679</td>\n",
       "      <td>72% off</td>\n",
       "    </tr>\n",
       "    <tr>\n",
       "      <th>23</th>\n",
       "      <td>Red Rose</td>\n",
       "      <td>Sneakers For Men  (Blue)</td>\n",
       "      <td>₹399</td>\n",
       "      <td>60% off</td>\n",
       "    </tr>\n",
       "    <tr>\n",
       "      <th>24</th>\n",
       "      <td>U.S. POLO ASSN.</td>\n",
       "      <td>Sneakers For Men  (Grey)</td>\n",
       "      <td>₹2,399</td>\n",
       "      <td>40% off</td>\n",
       "    </tr>\n",
       "    <tr>\n",
       "      <th>25</th>\n",
       "      <td>Chevit</td>\n",
       "      <td>494 Perfect Sports Shoes for Running Training ...</td>\n",
       "      <td>₹254</td>\n",
       "      <td>74% off</td>\n",
       "    </tr>\n",
       "    <tr>\n",
       "      <th>26</th>\n",
       "      <td>HOTSTYLE</td>\n",
       "      <td>Sneakers For Men  (Black, Black)</td>\n",
       "      <td>₹279</td>\n",
       "      <td>72% off</td>\n",
       "    </tr>\n",
       "    <tr>\n",
       "      <th>27</th>\n",
       "      <td>Ktiz</td>\n",
       "      <td>White Sneaker For Men's/Boy's Sneakers For Men...</td>\n",
       "      <td>₹384</td>\n",
       "      <td>61% off</td>\n",
       "    </tr>\n",
       "    <tr>\n",
       "      <th>28</th>\n",
       "      <td>Absolutee shoes</td>\n",
       "      <td>Sneakers For Men  (Blue)</td>\n",
       "      <td>₹499</td>\n",
       "      <td>50% off</td>\n",
       "    </tr>\n",
       "    <tr>\n",
       "      <th>29</th>\n",
       "      <td>Longwalk</td>\n",
       "      <td>Men Boxer Sneakers For Men  (Black)</td>\n",
       "      <td>₹260</td>\n",
       "      <td>47% off</td>\n",
       "    </tr>\n",
       "    <tr>\n",
       "      <th>30</th>\n",
       "      <td>BIRDE</td>\n",
       "      <td>Combo Pack of 4 Casual Shoes Sneakers For Men ...</td>\n",
       "      <td>₹698</td>\n",
       "      <td>65% off</td>\n",
       "    </tr>\n",
       "    <tr>\n",
       "      <th>...</th>\n",
       "      <td>...</td>\n",
       "      <td>...</td>\n",
       "      <td>...</td>\n",
       "      <td>...</td>\n",
       "    </tr>\n",
       "    <tr>\n",
       "      <th>71</th>\n",
       "      <td>Chevit</td>\n",
       "      <td>Perfect &amp; Affordable Combo Pack of 02 Pairs Sn...</td>\n",
       "      <td>₹447</td>\n",
       "      <td>75% off</td>\n",
       "    </tr>\n",
       "    <tr>\n",
       "      <th>72</th>\n",
       "      <td>U.S. POLO ASSN.</td>\n",
       "      <td>CLARKIN Sneakers For Men  (White, Maroon, Blue)</td>\n",
       "      <td>₹1,949</td>\n",
       "      <td>35% off</td>\n",
       "    </tr>\n",
       "    <tr>\n",
       "      <th>73</th>\n",
       "      <td>believe</td>\n",
       "      <td>Sneakers for men(black_6) Sneakers For Men  (B...</td>\n",
       "      <td>₹449</td>\n",
       "      <td>55% off</td>\n",
       "    </tr>\n",
       "    <tr>\n",
       "      <th>74</th>\n",
       "      <td>Robbie jones</td>\n",
       "      <td>Sneakers For Men  (White, Black)</td>\n",
       "      <td>₹499</td>\n",
       "      <td>50% off</td>\n",
       "    </tr>\n",
       "    <tr>\n",
       "      <th>75</th>\n",
       "      <td>India hub</td>\n",
       "      <td>Fashionable casual sneakers shoes Sneakers For...</td>\n",
       "      <td>₹404</td>\n",
       "      <td>86% off</td>\n",
       "    </tr>\n",
       "    <tr>\n",
       "      <th>76</th>\n",
       "      <td>French Connection</td>\n",
       "      <td>Sneakers For Men  (Black)</td>\n",
       "      <td>₹1,233</td>\n",
       "      <td>68% off</td>\n",
       "    </tr>\n",
       "    <tr>\n",
       "      <th>77</th>\n",
       "      <td>SCATCHITE</td>\n",
       "      <td>Sneakers Sneakers For Men  (White)</td>\n",
       "      <td>₹398</td>\n",
       "      <td>60% off</td>\n",
       "    </tr>\n",
       "    <tr>\n",
       "      <th>78</th>\n",
       "      <td>Airland</td>\n",
       "      <td>shoe Sneakers For Men  (Red)</td>\n",
       "      <td>₹264</td>\n",
       "      <td>47% off</td>\n",
       "    </tr>\n",
       "    <tr>\n",
       "      <th>79</th>\n",
       "      <td>T-ROCK</td>\n",
       "      <td>Synthetic Leather Casual Partywear Wedding Sne...</td>\n",
       "      <td>₹358</td>\n",
       "      <td>64% off</td>\n",
       "    </tr>\n",
       "    <tr>\n",
       "      <th>80</th>\n",
       "      <td>Echor</td>\n",
       "      <td>HAWK21 Sneakers For Men  (Black, Green)</td>\n",
       "      <td>₹599</td>\n",
       "      <td>40% off</td>\n",
       "    </tr>\n",
       "    <tr>\n",
       "      <th>81</th>\n",
       "      <td>Marc Ecko</td>\n",
       "      <td>Sneakers For Men  (Brown)</td>\n",
       "      <td>₹729</td>\n",
       "      <td>66% off</td>\n",
       "    </tr>\n",
       "    <tr>\n",
       "      <th>82</th>\n",
       "      <td>DUCATI</td>\n",
       "      <td>Sneakers For Men  (Grey)</td>\n",
       "      <td>₹1,745</td>\n",
       "      <td>51% off</td>\n",
       "    </tr>\n",
       "    <tr>\n",
       "      <th>83</th>\n",
       "      <td>Chevit</td>\n",
       "      <td>Unique &amp; Perfect Collection Combo Pack of 02 S...</td>\n",
       "      <td>₹420</td>\n",
       "      <td>71% off</td>\n",
       "    </tr>\n",
       "    <tr>\n",
       "      <th>84</th>\n",
       "      <td>PEHANOSA</td>\n",
       "      <td>Sneakers For Men  (Multicolor)</td>\n",
       "      <td>₹419</td>\n",
       "      <td>58% off</td>\n",
       "    </tr>\n",
       "    <tr>\n",
       "      <th>85</th>\n",
       "      <td>ASTEROID</td>\n",
       "      <td>Original Luxury Branded Fashionable Men's Casu...</td>\n",
       "      <td>₹499</td>\n",
       "      <td>75% off</td>\n",
       "    </tr>\n",
       "    <tr>\n",
       "      <th>86</th>\n",
       "      <td>Chevit</td>\n",
       "      <td>Super Stylish &amp; Trendy Combo Pack of 02 Pairs ...</td>\n",
       "      <td>₹536</td>\n",
       "      <td>66% off</td>\n",
       "    </tr>\n",
       "    <tr>\n",
       "      <th>87</th>\n",
       "      <td>Numenzo</td>\n",
       "      <td>Sneakers For Men  (White)</td>\n",
       "      <td>₹378</td>\n",
       "      <td>62% off</td>\n",
       "    </tr>\n",
       "    <tr>\n",
       "      <th>88</th>\n",
       "      <td>DUCATI</td>\n",
       "      <td>Sneakers For Men  (Black)</td>\n",
       "      <td>₹1,445</td>\n",
       "      <td>60% off</td>\n",
       "    </tr>\n",
       "    <tr>\n",
       "      <th>89</th>\n",
       "      <td>World Wear Footwear</td>\n",
       "      <td>5011-Latest Collection Stylish Casual Loafer S...</td>\n",
       "      <td>₹240</td>\n",
       "      <td>51% off</td>\n",
       "    </tr>\n",
       "    <tr>\n",
       "      <th>90</th>\n",
       "      <td>luxury fashion</td>\n",
       "      <td>Luxury Fashionable casual sneaker shoes Sneake...</td>\n",
       "      <td>₹399</td>\n",
       "      <td>69% off</td>\n",
       "    </tr>\n",
       "    <tr>\n",
       "      <th>91</th>\n",
       "      <td>Numenzo</td>\n",
       "      <td>Sneakers For Men  (Black)</td>\n",
       "      <td>₹426</td>\n",
       "      <td>78% off</td>\n",
       "    </tr>\n",
       "    <tr>\n",
       "      <th>92</th>\n",
       "      <td>ROCKFIELD</td>\n",
       "      <td>Sneakers For Men  (Grey)</td>\n",
       "      <td>₹399</td>\n",
       "      <td>60% off</td>\n",
       "    </tr>\n",
       "    <tr>\n",
       "      <th>93</th>\n",
       "      <td>Shoes Bank</td>\n",
       "      <td>White Sneaker For Men's/Boy's Sneakers For Men...</td>\n",
       "      <td>₹349</td>\n",
       "      <td>65% off</td>\n",
       "    </tr>\n",
       "    <tr>\n",
       "      <th>94</th>\n",
       "      <td>Creer</td>\n",
       "      <td>Sneakers For Men  (White, Blue)</td>\n",
       "      <td>₹418</td>\n",
       "      <td>58% off</td>\n",
       "    </tr>\n",
       "    <tr>\n",
       "      <th>95</th>\n",
       "      <td>BRUTON</td>\n",
       "      <td>Combo Pack Of 4 Casual Shoes Loafer Shoes Snea...</td>\n",
       "      <td>₹474</td>\n",
       "      <td>86% off</td>\n",
       "    </tr>\n",
       "    <tr>\n",
       "      <th>96</th>\n",
       "      <td>U.S. POLO ASSN.</td>\n",
       "      <td>LEBRON 2.0 Sneakers For Men  (Off White)</td>\n",
       "      <td>₹3,999</td>\n",
       "      <td>-</td>\n",
       "    </tr>\n",
       "    <tr>\n",
       "      <th>97</th>\n",
       "      <td>bluemaker</td>\n",
       "      <td>casual for men (blue 08) Sneakers For Men  (Blue)</td>\n",
       "      <td>₹399</td>\n",
       "      <td>60% off</td>\n",
       "    </tr>\n",
       "    <tr>\n",
       "      <th>98</th>\n",
       "      <td>Chevit</td>\n",
       "      <td>Perfect &amp; Affordable Combo Pack of 03 Pairs Ca...</td>\n",
       "      <td>₹594</td>\n",
       "      <td>77% off</td>\n",
       "    </tr>\n",
       "    <tr>\n",
       "      <th>99</th>\n",
       "      <td>PUMA</td>\n",
       "      <td>Hip Hop Mid Perf IDP Sneakers For Men  (Black)</td>\n",
       "      <td>₹2,042</td>\n",
       "      <td>41% off</td>\n",
       "    </tr>\n",
       "    <tr>\n",
       "      <th>100</th>\n",
       "      <td>U.S. POLO ASSN.</td>\n",
       "      <td>LEONEL Sneakers For Men  (White)</td>\n",
       "      <td>₹3,999</td>\n",
       "      <td>-</td>\n",
       "    </tr>\n",
       "  </tbody>\n",
       "</table>\n",
       "<p>100 rows × 4 columns</p>\n",
       "</div>"
      ],
      "text/plain": [
       "                    Brand                                Product_Description  \\\n",
       "1              Marc Ecko                           Sneakers For Men  (Brown)   \n",
       "2                 DUCATI                            Sneakers For Men  (Grey)   \n",
       "3                 Chevit   Unique & Perfect Collection Combo Pack of 02 S...   \n",
       "4               PEHANOSA                      Sneakers For Men  (Multicolor)   \n",
       "5               ASTEROID   Original Luxury Branded Fashionable Men's Casu...   \n",
       "6                 Chevit   Super Stylish & Trendy Combo Pack of 02 Pairs ...   \n",
       "7                Numenzo                           Sneakers For Men  (White)   \n",
       "8                 DUCATI                           Sneakers For Men  (Black)   \n",
       "9    World Wear Footwear   5011-Latest Collection Stylish Casual Loafer S...   \n",
       "10        luxury fashion   Luxury Fashionable casual sneaker shoes Sneake...   \n",
       "11               Numenzo                           Sneakers For Men  (Black)   \n",
       "12             ROCKFIELD                            Sneakers For Men  (Grey)   \n",
       "13            Shoes Bank   White Sneaker For Men's/Boy's Sneakers For Men...   \n",
       "14                 Creer                     Sneakers For Men  (White, Blue)   \n",
       "15                BRUTON   Combo Pack Of 4 Casual Shoes Loafer Shoes Snea...   \n",
       "16       U.S. POLO ASSN.            LEBRON 2.0 Sneakers For Men  (Off White)   \n",
       "17             bluemaker   casual for men (blue 08) Sneakers For Men  (Blue)   \n",
       "18                Chevit   Perfect & Affordable Combo Pack of 03 Pairs Ca...   \n",
       "19                  PUMA      Hip Hop Mid Perf IDP Sneakers For Men  (Black)   \n",
       "20       U.S. POLO ASSN.                    LEONEL Sneakers For Men  (White)   \n",
       "21                 Zsyto                    Sneakers For Men  (White, Black)   \n",
       "22                Chevit   Speed Set of 5 Pairs Sneakers Outdoors Casuals...   \n",
       "23              Red Rose                            Sneakers For Men  (Blue)   \n",
       "24       U.S. POLO ASSN.                            Sneakers For Men  (Grey)   \n",
       "25                Chevit   494 Perfect Sports Shoes for Running Training ...   \n",
       "26              HOTSTYLE                    Sneakers For Men  (Black, Black)   \n",
       "27                  Ktiz   White Sneaker For Men's/Boy's Sneakers For Men...   \n",
       "28       Absolutee shoes                            Sneakers For Men  (Blue)   \n",
       "29              Longwalk                 Men Boxer Sneakers For Men  (Black)   \n",
       "30                 BIRDE   Combo Pack of 4 Casual Shoes Sneakers For Men ...   \n",
       "..                    ...                                                ...   \n",
       "71                Chevit   Perfect & Affordable Combo Pack of 02 Pairs Sn...   \n",
       "72       U.S. POLO ASSN.     CLARKIN Sneakers For Men  (White, Maroon, Blue)   \n",
       "73               believe   Sneakers for men(black_6) Sneakers For Men  (B...   \n",
       "74          Robbie jones                    Sneakers For Men  (White, Black)   \n",
       "75             India hub   Fashionable casual sneakers shoes Sneakers For...   \n",
       "76     French Connection                           Sneakers For Men  (Black)   \n",
       "77             SCATCHITE                  Sneakers Sneakers For Men  (White)   \n",
       "78               Airland                        shoe Sneakers For Men  (Red)   \n",
       "79                T-ROCK   Synthetic Leather Casual Partywear Wedding Sne...   \n",
       "80                 Echor             HAWK21 Sneakers For Men  (Black, Green)   \n",
       "81             Marc Ecko                           Sneakers For Men  (Brown)   \n",
       "82                DUCATI                            Sneakers For Men  (Grey)   \n",
       "83                Chevit   Unique & Perfect Collection Combo Pack of 02 S...   \n",
       "84              PEHANOSA                      Sneakers For Men  (Multicolor)   \n",
       "85              ASTEROID   Original Luxury Branded Fashionable Men's Casu...   \n",
       "86                Chevit   Super Stylish & Trendy Combo Pack of 02 Pairs ...   \n",
       "87               Numenzo                           Sneakers For Men  (White)   \n",
       "88                DUCATI                           Sneakers For Men  (Black)   \n",
       "89   World Wear Footwear   5011-Latest Collection Stylish Casual Loafer S...   \n",
       "90        luxury fashion   Luxury Fashionable casual sneaker shoes Sneake...   \n",
       "91               Numenzo                           Sneakers For Men  (Black)   \n",
       "92             ROCKFIELD                            Sneakers For Men  (Grey)   \n",
       "93            Shoes Bank   White Sneaker For Men's/Boy's Sneakers For Men...   \n",
       "94                 Creer                     Sneakers For Men  (White, Blue)   \n",
       "95                BRUTON   Combo Pack Of 4 Casual Shoes Loafer Shoes Snea...   \n",
       "96       U.S. POLO ASSN.            LEBRON 2.0 Sneakers For Men  (Off White)   \n",
       "97             bluemaker   casual for men (blue 08) Sneakers For Men  (Blue)   \n",
       "98                Chevit   Perfect & Affordable Combo Pack of 03 Pairs Ca...   \n",
       "99                  PUMA      Hip Hop Mid Perf IDP Sneakers For Men  (Black)   \n",
       "100      U.S. POLO ASSN.                    LEONEL Sneakers For Men  (White)   \n",
       "\n",
       "    Price_list Discount_list  \n",
       "1         ₹729       66% off  \n",
       "2       ₹1,745       51% off  \n",
       "3         ₹420       71% off  \n",
       "4         ₹419       58% off  \n",
       "5         ₹499       75% off  \n",
       "6         ₹536       66% off  \n",
       "7         ₹378       62% off  \n",
       "8       ₹1,445       60% off  \n",
       "9         ₹240       51% off  \n",
       "10        ₹399       69% off  \n",
       "11        ₹426       78% off  \n",
       "12        ₹399       60% off  \n",
       "13        ₹349       65% off  \n",
       "14        ₹418       58% off  \n",
       "15        ₹474       86% off  \n",
       "16      ₹3,999             -  \n",
       "17        ₹399       60% off  \n",
       "18        ₹594       77% off  \n",
       "19      ₹2,042       41% off  \n",
       "20      ₹3,999             -  \n",
       "21        ₹311       76% off  \n",
       "22        ₹679       72% off  \n",
       "23        ₹399       60% off  \n",
       "24      ₹2,399       40% off  \n",
       "25        ₹254       74% off  \n",
       "26        ₹279       72% off  \n",
       "27        ₹384       61% off  \n",
       "28        ₹499       50% off  \n",
       "29        ₹260       47% off  \n",
       "30        ₹698       65% off  \n",
       "..         ...           ...  \n",
       "71        ₹447       75% off  \n",
       "72      ₹1,949       35% off  \n",
       "73        ₹449       55% off  \n",
       "74        ₹499       50% off  \n",
       "75        ₹404       86% off  \n",
       "76      ₹1,233       68% off  \n",
       "77        ₹398       60% off  \n",
       "78        ₹264       47% off  \n",
       "79        ₹358       64% off  \n",
       "80        ₹599       40% off  \n",
       "81        ₹729       66% off  \n",
       "82      ₹1,745       51% off  \n",
       "83        ₹420       71% off  \n",
       "84        ₹419       58% off  \n",
       "85        ₹499       75% off  \n",
       "86        ₹536       66% off  \n",
       "87        ₹378       62% off  \n",
       "88      ₹1,445       60% off  \n",
       "89        ₹240       51% off  \n",
       "90        ₹399       69% off  \n",
       "91        ₹426       78% off  \n",
       "92        ₹399       60% off  \n",
       "93        ₹349       65% off  \n",
       "94        ₹418       58% off  \n",
       "95        ₹474       86% off  \n",
       "96      ₹3,999             -  \n",
       "97        ₹399       60% off  \n",
       "98        ₹594       77% off  \n",
       "99      ₹2,042       41% off  \n",
       "100     ₹3,999             -  \n",
       "\n",
       "[100 rows x 4 columns]"
      ]
     },
     "execution_count": 283,
     "metadata": {},
     "output_type": "execute_result"
    }
   ],
   "source": [
    "# We will extract first 100 result\n",
    "import numpy as np\n",
    "df=pd.DataFrame({})\n",
    "df['Brand']=brand_list[0:100]\n",
    "df['Product_Description']=product_desc[0:100]\n",
    "df['Price_list']=price_list[0:100]\n",
    "df['Discount_list']=discount_list[0:100]\n",
    "df.index=np.arange(1,len(brand_list[0:100])+1)\n",
    "df"
   ]
  },
  {
   "cell_type": "markdown",
   "metadata": {},
   "source": [
    "### Q9. Go to the link - https://www.myntra.com/shoesSet Price filter to “Rs. 6649 to Rs. 13099” , Color filter to “Black”,And then scrape First 100 shoes data you get. The data should include “Brand” of the shoes , Short Shoe description, price of the shoe\n"
   ]
  },
  {
   "cell_type": "code",
   "execution_count": 600,
   "metadata": {},
   "outputs": [],
   "source": [
    "#Connecting to the web driver\n",
    "driver=webdriver.Chrome('chromedriver.exe')"
   ]
  },
  {
   "cell_type": "code",
   "execution_count": 601,
   "metadata": {},
   "outputs": [],
   "source": [
    "url='https://www.myntra.com/shoes'\n",
    "driver.get(url)"
   ]
  },
  {
   "cell_type": "code",
   "execution_count": 602,
   "metadata": {},
   "outputs": [],
   "source": [
    "# Select price filter\n",
    "price_filter=driver.find_element_by_xpath(\"/html/body/div[2]/div/div[1]/main/div[3]/div[1]/section/div/div[5]/ul/li[2]/label\")\n",
    "price_filter.click()"
   ]
  },
  {
   "cell_type": "code",
   "execution_count": 603,
   "metadata": {},
   "outputs": [],
   "source": [
    "# Select color filter\n",
    "color_filter=driver.find_element_by_xpath(\"/html/body/div[2]/div/div[1]/main/div[3]/div[1]/section/div/div[6]/ul/li[1]/label/div\")\n",
    "color_filter.click()"
   ]
  },
  {
   "cell_type": "code",
   "execution_count": 604,
   "metadata": {},
   "outputs": [
    {
     "data": {
      "text/plain": [
       "[<selenium.webdriver.remote.webelement.WebElement (session=\"245fe5ea37f27c996e27a2f1067cbcda\", element=\"60497051-5f78-4b7b-8f1a-977f695fcd5f\")>,\n",
       " <selenium.webdriver.remote.webelement.WebElement (session=\"245fe5ea37f27c996e27a2f1067cbcda\", element=\"d31593d4-e54b-4fb7-8a1b-c6b4e3034110\")>,\n",
       " <selenium.webdriver.remote.webelement.WebElement (session=\"245fe5ea37f27c996e27a2f1067cbcda\", element=\"97dba7a3-4a2e-47d3-91ad-9617a5f539cc\")>,\n",
       " <selenium.webdriver.remote.webelement.WebElement (session=\"245fe5ea37f27c996e27a2f1067cbcda\", element=\"3b75bb2b-b2c2-4ad4-9a05-13a5105aa8b7\")>,\n",
       " <selenium.webdriver.remote.webelement.WebElement (session=\"245fe5ea37f27c996e27a2f1067cbcda\", element=\"6331fc8f-9bf1-4f90-bea7-00950ccd4ea2\")>,\n",
       " <selenium.webdriver.remote.webelement.WebElement (session=\"245fe5ea37f27c996e27a2f1067cbcda\", element=\"35902bfe-147f-49de-8aac-61ba4893a298\")>,\n",
       " <selenium.webdriver.remote.webelement.WebElement (session=\"245fe5ea37f27c996e27a2f1067cbcda\", element=\"d2d5d02c-e613-4bb6-b4aa-f5ffa9db951c\")>,\n",
       " <selenium.webdriver.remote.webelement.WebElement (session=\"245fe5ea37f27c996e27a2f1067cbcda\", element=\"a671d8b0-a608-4973-8b1f-a27c258ab1fb\")>,\n",
       " <selenium.webdriver.remote.webelement.WebElement (session=\"245fe5ea37f27c996e27a2f1067cbcda\", element=\"3d27516d-77a5-4610-928c-b5e3d70ced98\")>,\n",
       " <selenium.webdriver.remote.webelement.WebElement (session=\"245fe5ea37f27c996e27a2f1067cbcda\", element=\"86c405b2-1d44-445f-a652-e0519fbe6947\")>,\n",
       " <selenium.webdriver.remote.webelement.WebElement (session=\"245fe5ea37f27c996e27a2f1067cbcda\", element=\"2907559c-3b29-4e7d-9d56-6a7bb563bcba\")>,\n",
       " <selenium.webdriver.remote.webelement.WebElement (session=\"245fe5ea37f27c996e27a2f1067cbcda\", element=\"c6159fc7-8559-47e0-8ece-a14473c975c0\")>,\n",
       " <selenium.webdriver.remote.webelement.WebElement (session=\"245fe5ea37f27c996e27a2f1067cbcda\", element=\"41c23978-263a-4c8c-b5f2-6fcd5b24306b\")>,\n",
       " <selenium.webdriver.remote.webelement.WebElement (session=\"245fe5ea37f27c996e27a2f1067cbcda\", element=\"fb97a5a4-02f0-41bf-a5ee-ecd100b941bb\")>,\n",
       " <selenium.webdriver.remote.webelement.WebElement (session=\"245fe5ea37f27c996e27a2f1067cbcda\", element=\"e0a9c9b6-c192-47ba-b2de-64a5a995b7ff\")>,\n",
       " <selenium.webdriver.remote.webelement.WebElement (session=\"245fe5ea37f27c996e27a2f1067cbcda\", element=\"dce44d98-d8ed-4bdb-bdc4-50f08b9f4d9a\")>,\n",
       " <selenium.webdriver.remote.webelement.WebElement (session=\"245fe5ea37f27c996e27a2f1067cbcda\", element=\"4fa5b042-6bd0-4128-9155-cb9884c5f5b1\")>,\n",
       " <selenium.webdriver.remote.webelement.WebElement (session=\"245fe5ea37f27c996e27a2f1067cbcda\", element=\"c6b879ca-a367-401a-a0d0-96371fff117c\")>,\n",
       " <selenium.webdriver.remote.webelement.WebElement (session=\"245fe5ea37f27c996e27a2f1067cbcda\", element=\"b5e1b3c1-bb18-4825-8edc-4930e3d39b82\")>,\n",
       " <selenium.webdriver.remote.webelement.WebElement (session=\"245fe5ea37f27c996e27a2f1067cbcda\", element=\"0d40e662-c739-4725-bcce-9e406acfb5b1\")>,\n",
       " <selenium.webdriver.remote.webelement.WebElement (session=\"245fe5ea37f27c996e27a2f1067cbcda\", element=\"019ef31d-2a2e-4b97-914d-b439f8b9df7d\")>,\n",
       " <selenium.webdriver.remote.webelement.WebElement (session=\"245fe5ea37f27c996e27a2f1067cbcda\", element=\"04f8fdd6-d594-423f-b525-4e384270cddb\")>,\n",
       " <selenium.webdriver.remote.webelement.WebElement (session=\"245fe5ea37f27c996e27a2f1067cbcda\", element=\"82c45f27-e2f2-4e11-a6b6-e60ad8f0da51\")>,\n",
       " <selenium.webdriver.remote.webelement.WebElement (session=\"245fe5ea37f27c996e27a2f1067cbcda\", element=\"913a067e-22a0-49fa-b9c1-8ec0fbe35533\")>,\n",
       " <selenium.webdriver.remote.webelement.WebElement (session=\"245fe5ea37f27c996e27a2f1067cbcda\", element=\"57772e09-95b4-4a3a-ac95-58da2bf3661b\")>,\n",
       " <selenium.webdriver.remote.webelement.WebElement (session=\"245fe5ea37f27c996e27a2f1067cbcda\", element=\"873cd416-2191-4fb6-addd-8153124d1ccf\")>,\n",
       " <selenium.webdriver.remote.webelement.WebElement (session=\"245fe5ea37f27c996e27a2f1067cbcda\", element=\"a7462d70-5442-4acf-b353-db8e85086e49\")>,\n",
       " <selenium.webdriver.remote.webelement.WebElement (session=\"245fe5ea37f27c996e27a2f1067cbcda\", element=\"ea0f26e6-428d-4447-849e-f42aa63bdc71\")>,\n",
       " <selenium.webdriver.remote.webelement.WebElement (session=\"245fe5ea37f27c996e27a2f1067cbcda\", element=\"a9369bf4-dc14-4bd6-bcb5-de93a2fe5410\")>,\n",
       " <selenium.webdriver.remote.webelement.WebElement (session=\"245fe5ea37f27c996e27a2f1067cbcda\", element=\"195833f8-f194-4491-a974-2975629be60f\")>,\n",
       " <selenium.webdriver.remote.webelement.WebElement (session=\"245fe5ea37f27c996e27a2f1067cbcda\", element=\"e40f6934-9846-4678-b943-db006c055949\")>,\n",
       " <selenium.webdriver.remote.webelement.WebElement (session=\"245fe5ea37f27c996e27a2f1067cbcda\", element=\"ff171baf-6a07-4c4a-b629-780591af35b7\")>,\n",
       " <selenium.webdriver.remote.webelement.WebElement (session=\"245fe5ea37f27c996e27a2f1067cbcda\", element=\"0f009d06-105d-4967-a126-c4910a3c96ad\")>,\n",
       " <selenium.webdriver.remote.webelement.WebElement (session=\"245fe5ea37f27c996e27a2f1067cbcda\", element=\"2f80ba51-61b3-4849-942f-e2e6fc165ace\")>,\n",
       " <selenium.webdriver.remote.webelement.WebElement (session=\"245fe5ea37f27c996e27a2f1067cbcda\", element=\"f1997581-59bc-4fae-99e7-ff8b50ee04f0\")>,\n",
       " <selenium.webdriver.remote.webelement.WebElement (session=\"245fe5ea37f27c996e27a2f1067cbcda\", element=\"23bd41d8-9425-40ad-9b90-1122867c68be\")>,\n",
       " <selenium.webdriver.remote.webelement.WebElement (session=\"245fe5ea37f27c996e27a2f1067cbcda\", element=\"3789afe1-8022-49d5-852b-c11e17f1aa12\")>,\n",
       " <selenium.webdriver.remote.webelement.WebElement (session=\"245fe5ea37f27c996e27a2f1067cbcda\", element=\"753a97ef-eac0-4fae-9de4-9e1cbeee066c\")>,\n",
       " <selenium.webdriver.remote.webelement.WebElement (session=\"245fe5ea37f27c996e27a2f1067cbcda\", element=\"db376b86-3784-4238-a996-60839e0fd9c4\")>,\n",
       " <selenium.webdriver.remote.webelement.WebElement (session=\"245fe5ea37f27c996e27a2f1067cbcda\", element=\"6e65b471-c31e-4ac8-b9a7-32001ba7a497\")>,\n",
       " <selenium.webdriver.remote.webelement.WebElement (session=\"245fe5ea37f27c996e27a2f1067cbcda\", element=\"217004c7-bef7-4eda-8ebd-21adb3478733\")>,\n",
       " <selenium.webdriver.remote.webelement.WebElement (session=\"245fe5ea37f27c996e27a2f1067cbcda\", element=\"eaf5f799-b323-4b49-9b60-5f935a9e22de\")>,\n",
       " <selenium.webdriver.remote.webelement.WebElement (session=\"245fe5ea37f27c996e27a2f1067cbcda\", element=\"f8dc7222-15e9-4c25-b1b7-8faed87a6a86\")>,\n",
       " <selenium.webdriver.remote.webelement.WebElement (session=\"245fe5ea37f27c996e27a2f1067cbcda\", element=\"3a677cd1-a72e-4798-9226-1dd670084bfd\")>,\n",
       " <selenium.webdriver.remote.webelement.WebElement (session=\"245fe5ea37f27c996e27a2f1067cbcda\", element=\"d7f51502-3b4c-40da-bd21-080debe5d98e\")>,\n",
       " <selenium.webdriver.remote.webelement.WebElement (session=\"245fe5ea37f27c996e27a2f1067cbcda\", element=\"6dc6dd5e-d1a0-49a9-b06a-96d05d28fe36\")>,\n",
       " <selenium.webdriver.remote.webelement.WebElement (session=\"245fe5ea37f27c996e27a2f1067cbcda\", element=\"680a1da2-10b9-44a4-b9e5-1ff3d85d8836\")>,\n",
       " <selenium.webdriver.remote.webelement.WebElement (session=\"245fe5ea37f27c996e27a2f1067cbcda\", element=\"49bc94d4-1bf0-41e6-9e38-0bff7b186b23\")>,\n",
       " <selenium.webdriver.remote.webelement.WebElement (session=\"245fe5ea37f27c996e27a2f1067cbcda\", element=\"8bc63e47-a296-4731-a28c-78ebe72efb35\")>,\n",
       " <selenium.webdriver.remote.webelement.WebElement (session=\"245fe5ea37f27c996e27a2f1067cbcda\", element=\"fc7af164-37c9-4dc0-ba4b-c1be256e80d8\")>]"
      ]
     },
     "execution_count": 604,
     "metadata": {},
     "output_type": "execute_result"
    }
   ],
   "source": [
    "brand_tag=driver.find_elements_by_xpath(\"//h3[@class='product-brand']\")\n",
    "brand_tag"
   ]
  },
  {
   "cell_type": "code",
   "execution_count": 605,
   "metadata": {},
   "outputs": [
    {
     "data": {
      "text/plain": [
       "50"
      ]
     },
     "execution_count": 605,
     "metadata": {},
     "output_type": "execute_result"
    }
   ],
   "source": [
    "product_list=[]\n",
    "for i in brand_tag:\n",
    "    product_list.append(i.text)\n",
    "len(product_list)"
   ]
  },
  {
   "cell_type": "code",
   "execution_count": 606,
   "metadata": {
    "collapsed": true
   },
   "outputs": [
    {
     "data": {
      "text/plain": [
       "[<selenium.webdriver.remote.webelement.WebElement (session=\"245fe5ea37f27c996e27a2f1067cbcda\", element=\"de1a498f-ba5c-494e-a606-7427d55f161f\")>,\n",
       " <selenium.webdriver.remote.webelement.WebElement (session=\"245fe5ea37f27c996e27a2f1067cbcda\", element=\"5bcfd349-79f3-44f2-90a0-17294cf02e3b\")>,\n",
       " <selenium.webdriver.remote.webelement.WebElement (session=\"245fe5ea37f27c996e27a2f1067cbcda\", element=\"2742a43d-e567-43f8-b96f-98c5c45dc71a\")>,\n",
       " <selenium.webdriver.remote.webelement.WebElement (session=\"245fe5ea37f27c996e27a2f1067cbcda\", element=\"8959a03b-2a3a-468f-a1d8-4540ed0c7485\")>,\n",
       " <selenium.webdriver.remote.webelement.WebElement (session=\"245fe5ea37f27c996e27a2f1067cbcda\", element=\"6b848278-a473-41b6-a9e5-411fa3b1c4d4\")>,\n",
       " <selenium.webdriver.remote.webelement.WebElement (session=\"245fe5ea37f27c996e27a2f1067cbcda\", element=\"96fb0ed7-ebbf-4378-8273-60f5fdc4b982\")>,\n",
       " <selenium.webdriver.remote.webelement.WebElement (session=\"245fe5ea37f27c996e27a2f1067cbcda\", element=\"217ddfff-fc46-438e-82e2-73fe5f04f691\")>,\n",
       " <selenium.webdriver.remote.webelement.WebElement (session=\"245fe5ea37f27c996e27a2f1067cbcda\", element=\"fa66e86c-d6d4-4fb8-875d-50d2ffe24ad3\")>,\n",
       " <selenium.webdriver.remote.webelement.WebElement (session=\"245fe5ea37f27c996e27a2f1067cbcda\", element=\"9bd1626d-ee1a-4c2f-a370-1abeb8e203fb\")>,\n",
       " <selenium.webdriver.remote.webelement.WebElement (session=\"245fe5ea37f27c996e27a2f1067cbcda\", element=\"bb630ee3-44ee-4524-a459-a5235348c31b\")>,\n",
       " <selenium.webdriver.remote.webelement.WebElement (session=\"245fe5ea37f27c996e27a2f1067cbcda\", element=\"fd9fd4c1-75b6-458f-8109-7a51b40b58a5\")>,\n",
       " <selenium.webdriver.remote.webelement.WebElement (session=\"245fe5ea37f27c996e27a2f1067cbcda\", element=\"51599bbd-7d66-4921-8160-a3a342b2ef7f\")>,\n",
       " <selenium.webdriver.remote.webelement.WebElement (session=\"245fe5ea37f27c996e27a2f1067cbcda\", element=\"b3f02bf5-601c-422c-919a-57250f200c8b\")>,\n",
       " <selenium.webdriver.remote.webelement.WebElement (session=\"245fe5ea37f27c996e27a2f1067cbcda\", element=\"53c3ace4-2742-4af1-83e4-cfbb4fb3fd51\")>,\n",
       " <selenium.webdriver.remote.webelement.WebElement (session=\"245fe5ea37f27c996e27a2f1067cbcda\", element=\"da059ee8-1108-49fd-b36f-e771981478f6\")>,\n",
       " <selenium.webdriver.remote.webelement.WebElement (session=\"245fe5ea37f27c996e27a2f1067cbcda\", element=\"8c87561a-52c2-4dce-975d-5201ad011bd1\")>,\n",
       " <selenium.webdriver.remote.webelement.WebElement (session=\"245fe5ea37f27c996e27a2f1067cbcda\", element=\"ff7dd0b1-b85a-4196-a1b0-ce58ba3b8133\")>,\n",
       " <selenium.webdriver.remote.webelement.WebElement (session=\"245fe5ea37f27c996e27a2f1067cbcda\", element=\"96ae17dd-859d-48d8-8ca9-f16117954b9b\")>,\n",
       " <selenium.webdriver.remote.webelement.WebElement (session=\"245fe5ea37f27c996e27a2f1067cbcda\", element=\"7e3a0b98-8803-4ea5-b2b7-4b663413a5d8\")>,\n",
       " <selenium.webdriver.remote.webelement.WebElement (session=\"245fe5ea37f27c996e27a2f1067cbcda\", element=\"68afd00b-6317-402a-9e6f-606762f088bd\")>,\n",
       " <selenium.webdriver.remote.webelement.WebElement (session=\"245fe5ea37f27c996e27a2f1067cbcda\", element=\"860ddaa7-97a8-492e-a3bd-a172c93ee341\")>,\n",
       " <selenium.webdriver.remote.webelement.WebElement (session=\"245fe5ea37f27c996e27a2f1067cbcda\", element=\"1b9cff5c-2343-47d6-8854-3d9d5c58e099\")>,\n",
       " <selenium.webdriver.remote.webelement.WebElement (session=\"245fe5ea37f27c996e27a2f1067cbcda\", element=\"bc095edb-849f-46ff-a3dc-50365b89d41f\")>,\n",
       " <selenium.webdriver.remote.webelement.WebElement (session=\"245fe5ea37f27c996e27a2f1067cbcda\", element=\"e3d2badd-bc83-43fb-99d5-3557fbd887aa\")>,\n",
       " <selenium.webdriver.remote.webelement.WebElement (session=\"245fe5ea37f27c996e27a2f1067cbcda\", element=\"4cbb4252-91b6-4fde-bb42-f177f142cd2d\")>,\n",
       " <selenium.webdriver.remote.webelement.WebElement (session=\"245fe5ea37f27c996e27a2f1067cbcda\", element=\"310e5a25-3e80-473a-af4c-d4453e9e2b15\")>,\n",
       " <selenium.webdriver.remote.webelement.WebElement (session=\"245fe5ea37f27c996e27a2f1067cbcda\", element=\"99afad62-3fd4-4538-aa70-80b91a02733f\")>,\n",
       " <selenium.webdriver.remote.webelement.WebElement (session=\"245fe5ea37f27c996e27a2f1067cbcda\", element=\"f4da44cc-741a-4b2b-8bbe-1968bcacce8e\")>,\n",
       " <selenium.webdriver.remote.webelement.WebElement (session=\"245fe5ea37f27c996e27a2f1067cbcda\", element=\"31edb01c-e390-41ca-86ee-7eb8c8a6a287\")>,\n",
       " <selenium.webdriver.remote.webelement.WebElement (session=\"245fe5ea37f27c996e27a2f1067cbcda\", element=\"3f1dabf9-a788-43f2-aa23-64de76873be5\")>,\n",
       " <selenium.webdriver.remote.webelement.WebElement (session=\"245fe5ea37f27c996e27a2f1067cbcda\", element=\"45e5cbda-cff8-4a49-be38-8836c764a354\")>,\n",
       " <selenium.webdriver.remote.webelement.WebElement (session=\"245fe5ea37f27c996e27a2f1067cbcda\", element=\"5aa7ef77-d81a-49a2-83e8-a40b60880ef7\")>,\n",
       " <selenium.webdriver.remote.webelement.WebElement (session=\"245fe5ea37f27c996e27a2f1067cbcda\", element=\"08af828e-82f4-45c8-b766-32b402811def\")>,\n",
       " <selenium.webdriver.remote.webelement.WebElement (session=\"245fe5ea37f27c996e27a2f1067cbcda\", element=\"aa78e6cb-c369-4542-80eb-1c5fd0b1b550\")>,\n",
       " <selenium.webdriver.remote.webelement.WebElement (session=\"245fe5ea37f27c996e27a2f1067cbcda\", element=\"14ac421c-64c1-454d-a1b1-0f9416cd1884\")>,\n",
       " <selenium.webdriver.remote.webelement.WebElement (session=\"245fe5ea37f27c996e27a2f1067cbcda\", element=\"c5f75d22-15b2-4dd7-8527-e15861ca259f\")>,\n",
       " <selenium.webdriver.remote.webelement.WebElement (session=\"245fe5ea37f27c996e27a2f1067cbcda\", element=\"662372e9-fd87-43b6-8eec-3763e6cc84e1\")>,\n",
       " <selenium.webdriver.remote.webelement.WebElement (session=\"245fe5ea37f27c996e27a2f1067cbcda\", element=\"fff6f440-f230-4f99-b24f-0635bbc09c19\")>,\n",
       " <selenium.webdriver.remote.webelement.WebElement (session=\"245fe5ea37f27c996e27a2f1067cbcda\", element=\"7cb94e89-3f36-4256-95ba-ad6e0f52244f\")>,\n",
       " <selenium.webdriver.remote.webelement.WebElement (session=\"245fe5ea37f27c996e27a2f1067cbcda\", element=\"f195dfd0-8e4e-4c64-aaba-3b2ca9d349d4\")>,\n",
       " <selenium.webdriver.remote.webelement.WebElement (session=\"245fe5ea37f27c996e27a2f1067cbcda\", element=\"d4d3434e-6977-49eb-a758-78b1948dc27d\")>,\n",
       " <selenium.webdriver.remote.webelement.WebElement (session=\"245fe5ea37f27c996e27a2f1067cbcda\", element=\"84208db1-2441-4634-8af8-8c5c0b08d800\")>,\n",
       " <selenium.webdriver.remote.webelement.WebElement (session=\"245fe5ea37f27c996e27a2f1067cbcda\", element=\"93230724-85f6-444b-859c-d64d193ab711\")>,\n",
       " <selenium.webdriver.remote.webelement.WebElement (session=\"245fe5ea37f27c996e27a2f1067cbcda\", element=\"365a19f9-7c3e-414d-9b19-5396091ff624\")>,\n",
       " <selenium.webdriver.remote.webelement.WebElement (session=\"245fe5ea37f27c996e27a2f1067cbcda\", element=\"72d2643b-c39d-495a-9c0a-5b183e28ba49\")>,\n",
       " <selenium.webdriver.remote.webelement.WebElement (session=\"245fe5ea37f27c996e27a2f1067cbcda\", element=\"1c29c323-aef2-4732-8a61-e8b317d93d59\")>,\n",
       " <selenium.webdriver.remote.webelement.WebElement (session=\"245fe5ea37f27c996e27a2f1067cbcda\", element=\"be498149-c6ca-4acd-b726-dfdd8c391352\")>,\n",
       " <selenium.webdriver.remote.webelement.WebElement (session=\"245fe5ea37f27c996e27a2f1067cbcda\", element=\"52097805-cda6-47a9-9918-38b2c3b9a9c6\")>,\n",
       " <selenium.webdriver.remote.webelement.WebElement (session=\"245fe5ea37f27c996e27a2f1067cbcda\", element=\"9a533058-3a9c-45c8-8c0a-87041eedb4a5\")>,\n",
       " <selenium.webdriver.remote.webelement.WebElement (session=\"245fe5ea37f27c996e27a2f1067cbcda\", element=\"67fde97a-bb1e-48f0-8318-d206ba24c594\")>]"
      ]
     },
     "execution_count": 606,
     "metadata": {},
     "output_type": "execute_result"
    }
   ],
   "source": [
    "description_tag=driver.find_elements_by_xpath(\"//h4[@class='product-product']\")\n",
    "description_tag"
   ]
  },
  {
   "cell_type": "code",
   "execution_count": 607,
   "metadata": {},
   "outputs": [
    {
     "data": {
      "text/plain": [
       "50"
      ]
     },
     "execution_count": 607,
     "metadata": {},
     "output_type": "execute_result"
    }
   ],
   "source": [
    "product_desc=[]\n",
    "for i in description_tag:\n",
    "    product_desc.append(i.text)\n",
    "len(product_desc)"
   ]
  },
  {
   "cell_type": "code",
   "execution_count": 608,
   "metadata": {
    "collapsed": true
   },
   "outputs": [
    {
     "data": {
      "text/plain": [
       "[<selenium.webdriver.remote.webelement.WebElement (session=\"245fe5ea37f27c996e27a2f1067cbcda\", element=\"d5f15303-788e-445e-88f5-0a2affb223ed\")>,\n",
       " <selenium.webdriver.remote.webelement.WebElement (session=\"245fe5ea37f27c996e27a2f1067cbcda\", element=\"8b33ce8c-d3fb-4753-ae93-31644313a0a5\")>,\n",
       " <selenium.webdriver.remote.webelement.WebElement (session=\"245fe5ea37f27c996e27a2f1067cbcda\", element=\"7b25eef7-bcb5-4383-96be-90566d006fd3\")>,\n",
       " <selenium.webdriver.remote.webelement.WebElement (session=\"245fe5ea37f27c996e27a2f1067cbcda\", element=\"11e05ca2-e12d-4085-bcc2-c56502096008\")>,\n",
       " <selenium.webdriver.remote.webelement.WebElement (session=\"245fe5ea37f27c996e27a2f1067cbcda\", element=\"f3f951b0-3987-4e52-b676-abf7efe0190a\")>,\n",
       " <selenium.webdriver.remote.webelement.WebElement (session=\"245fe5ea37f27c996e27a2f1067cbcda\", element=\"606c927f-7922-4aa4-a6a9-35924eaae2b7\")>,\n",
       " <selenium.webdriver.remote.webelement.WebElement (session=\"245fe5ea37f27c996e27a2f1067cbcda\", element=\"8546276e-73b5-44f0-8ec6-378bbdec4bd6\")>,\n",
       " <selenium.webdriver.remote.webelement.WebElement (session=\"245fe5ea37f27c996e27a2f1067cbcda\", element=\"846135fc-a6ed-415b-b7ad-c939aedf2b43\")>,\n",
       " <selenium.webdriver.remote.webelement.WebElement (session=\"245fe5ea37f27c996e27a2f1067cbcda\", element=\"e0afebaa-9731-4ffa-8191-f46401c18014\")>,\n",
       " <selenium.webdriver.remote.webelement.WebElement (session=\"245fe5ea37f27c996e27a2f1067cbcda\", element=\"21cd5659-5e70-4ae9-85da-a715cb5d5e27\")>,\n",
       " <selenium.webdriver.remote.webelement.WebElement (session=\"245fe5ea37f27c996e27a2f1067cbcda\", element=\"11e32894-3599-4537-a008-d6366195a84b\")>,\n",
       " <selenium.webdriver.remote.webelement.WebElement (session=\"245fe5ea37f27c996e27a2f1067cbcda\", element=\"52abe843-f622-4ee7-93ea-ae3f93cb3275\")>,\n",
       " <selenium.webdriver.remote.webelement.WebElement (session=\"245fe5ea37f27c996e27a2f1067cbcda\", element=\"d48fe026-5555-438e-b6d0-d00255917f38\")>,\n",
       " <selenium.webdriver.remote.webelement.WebElement (session=\"245fe5ea37f27c996e27a2f1067cbcda\", element=\"3a00d0a3-f92e-4f08-b39a-d21d398be4d3\")>,\n",
       " <selenium.webdriver.remote.webelement.WebElement (session=\"245fe5ea37f27c996e27a2f1067cbcda\", element=\"0c3d00c4-b92b-44e5-9132-5081ff960818\")>,\n",
       " <selenium.webdriver.remote.webelement.WebElement (session=\"245fe5ea37f27c996e27a2f1067cbcda\", element=\"21f0c640-1280-45e8-b14d-4c29dec55e93\")>,\n",
       " <selenium.webdriver.remote.webelement.WebElement (session=\"245fe5ea37f27c996e27a2f1067cbcda\", element=\"09c22860-cad8-431e-b618-5c1c33b7f695\")>,\n",
       " <selenium.webdriver.remote.webelement.WebElement (session=\"245fe5ea37f27c996e27a2f1067cbcda\", element=\"3ef564e9-a936-4268-9067-7af7271648b3\")>,\n",
       " <selenium.webdriver.remote.webelement.WebElement (session=\"245fe5ea37f27c996e27a2f1067cbcda\", element=\"0f35dc9e-59c9-4a7a-ac28-21086a931ace\")>,\n",
       " <selenium.webdriver.remote.webelement.WebElement (session=\"245fe5ea37f27c996e27a2f1067cbcda\", element=\"bf8eb9fe-0278-4687-8999-1c0397a24fa3\")>,\n",
       " <selenium.webdriver.remote.webelement.WebElement (session=\"245fe5ea37f27c996e27a2f1067cbcda\", element=\"1a58c579-fc90-4dec-bf04-6575bc2e429d\")>,\n",
       " <selenium.webdriver.remote.webelement.WebElement (session=\"245fe5ea37f27c996e27a2f1067cbcda\", element=\"c1b7baf7-3fb4-41bf-b459-2c74cf8a5cea\")>,\n",
       " <selenium.webdriver.remote.webelement.WebElement (session=\"245fe5ea37f27c996e27a2f1067cbcda\", element=\"9c00deae-875e-4bc2-89b3-f6c000fc48fb\")>,\n",
       " <selenium.webdriver.remote.webelement.WebElement (session=\"245fe5ea37f27c996e27a2f1067cbcda\", element=\"8abf8149-798e-4a56-9be3-75fdf3e3c193\")>,\n",
       " <selenium.webdriver.remote.webelement.WebElement (session=\"245fe5ea37f27c996e27a2f1067cbcda\", element=\"fe9094b5-db2a-4cc8-bbff-463ebe84a000\")>,\n",
       " <selenium.webdriver.remote.webelement.WebElement (session=\"245fe5ea37f27c996e27a2f1067cbcda\", element=\"dc212468-a029-4dc8-a5b0-98f21ba7197d\")>,\n",
       " <selenium.webdriver.remote.webelement.WebElement (session=\"245fe5ea37f27c996e27a2f1067cbcda\", element=\"570befea-e874-45fa-9a7c-ef4bae1e14eb\")>,\n",
       " <selenium.webdriver.remote.webelement.WebElement (session=\"245fe5ea37f27c996e27a2f1067cbcda\", element=\"c2c1c067-877d-449f-9eac-ddd5a08fe47b\")>,\n",
       " <selenium.webdriver.remote.webelement.WebElement (session=\"245fe5ea37f27c996e27a2f1067cbcda\", element=\"f0b6c9b7-1464-47ea-a2c9-f08e980e8ee8\")>,\n",
       " <selenium.webdriver.remote.webelement.WebElement (session=\"245fe5ea37f27c996e27a2f1067cbcda\", element=\"a22e8d2f-6b2c-4c44-93ed-8673d020f051\")>,\n",
       " <selenium.webdriver.remote.webelement.WebElement (session=\"245fe5ea37f27c996e27a2f1067cbcda\", element=\"5ad639ac-fcf5-4673-964a-3195b50d0b59\")>,\n",
       " <selenium.webdriver.remote.webelement.WebElement (session=\"245fe5ea37f27c996e27a2f1067cbcda\", element=\"551f964f-2637-4332-b1ea-c1522cf8d811\")>,\n",
       " <selenium.webdriver.remote.webelement.WebElement (session=\"245fe5ea37f27c996e27a2f1067cbcda\", element=\"ee5c21e6-d4b8-43cb-85d8-268ce2760c06\")>,\n",
       " <selenium.webdriver.remote.webelement.WebElement (session=\"245fe5ea37f27c996e27a2f1067cbcda\", element=\"c35197e9-40b0-44bd-a6d7-fd16982e671f\")>,\n",
       " <selenium.webdriver.remote.webelement.WebElement (session=\"245fe5ea37f27c996e27a2f1067cbcda\", element=\"e158500a-954a-4c87-990f-9ce13522c6e9\")>,\n",
       " <selenium.webdriver.remote.webelement.WebElement (session=\"245fe5ea37f27c996e27a2f1067cbcda\", element=\"32d4c688-e417-449b-b262-49de20513a68\")>,\n",
       " <selenium.webdriver.remote.webelement.WebElement (session=\"245fe5ea37f27c996e27a2f1067cbcda\", element=\"fa26c4c1-7704-4b33-beb9-56756b964f9e\")>,\n",
       " <selenium.webdriver.remote.webelement.WebElement (session=\"245fe5ea37f27c996e27a2f1067cbcda\", element=\"84167e1a-6613-4b8b-8e12-5e2156635575\")>,\n",
       " <selenium.webdriver.remote.webelement.WebElement (session=\"245fe5ea37f27c996e27a2f1067cbcda\", element=\"32f38bba-c0cb-421c-aaf7-033850bdedce\")>,\n",
       " <selenium.webdriver.remote.webelement.WebElement (session=\"245fe5ea37f27c996e27a2f1067cbcda\", element=\"8447e2dd-ead3-4f79-820e-c2c36bd91456\")>,\n",
       " <selenium.webdriver.remote.webelement.WebElement (session=\"245fe5ea37f27c996e27a2f1067cbcda\", element=\"bc94de8f-da7a-42e1-accc-3a0a8267d58f\")>,\n",
       " <selenium.webdriver.remote.webelement.WebElement (session=\"245fe5ea37f27c996e27a2f1067cbcda\", element=\"3ed32c8b-73ec-4a02-a245-c1f7206126f7\")>,\n",
       " <selenium.webdriver.remote.webelement.WebElement (session=\"245fe5ea37f27c996e27a2f1067cbcda\", element=\"f9dafa4d-cfdf-4459-9447-e19af1962bde\")>,\n",
       " <selenium.webdriver.remote.webelement.WebElement (session=\"245fe5ea37f27c996e27a2f1067cbcda\", element=\"b8b30c41-3fcb-478b-9b7e-72b15f2a594d\")>,\n",
       " <selenium.webdriver.remote.webelement.WebElement (session=\"245fe5ea37f27c996e27a2f1067cbcda\", element=\"bf330069-d318-4c21-9461-5a8e034e9c54\")>,\n",
       " <selenium.webdriver.remote.webelement.WebElement (session=\"245fe5ea37f27c996e27a2f1067cbcda\", element=\"281e03f6-ecc7-443b-a744-76b09cbef2b1\")>,\n",
       " <selenium.webdriver.remote.webelement.WebElement (session=\"245fe5ea37f27c996e27a2f1067cbcda\", element=\"896de1f5-9bd3-49bf-84ce-28da5f454d85\")>,\n",
       " <selenium.webdriver.remote.webelement.WebElement (session=\"245fe5ea37f27c996e27a2f1067cbcda\", element=\"5ad4317f-c19b-4508-9c1b-a7d6c1c91196\")>,\n",
       " <selenium.webdriver.remote.webelement.WebElement (session=\"245fe5ea37f27c996e27a2f1067cbcda\", element=\"d201071c-5ba4-455d-bd01-dc52f4465501\")>,\n",
       " <selenium.webdriver.remote.webelement.WebElement (session=\"245fe5ea37f27c996e27a2f1067cbcda\", element=\"bc06cf62-2005-49de-aac1-a07741b0979a\")>]"
      ]
     },
     "execution_count": 608,
     "metadata": {},
     "output_type": "execute_result"
    }
   ],
   "source": [
    "price_tag=driver.find_elements_by_xpath(\"//div[@class='product-price']\")\n",
    "price_tag"
   ]
  },
  {
   "cell_type": "code",
   "execution_count": 609,
   "metadata": {},
   "outputs": [
    {
     "data": {
      "text/plain": [
       "50"
      ]
     },
     "execution_count": 609,
     "metadata": {},
     "output_type": "execute_result"
    }
   ],
   "source": [
    "price_list=[]\n",
    "for i in price_tag:\n",
    "    price_list.append(i.text)\n",
    "len(price_list)"
   ]
  },
  {
   "cell_type": "code",
   "execution_count": 610,
   "metadata": {},
   "outputs": [],
   "source": [
    "#url=driver.find_elements_by_xpath(\"//ul[@class='pagination-container']\")\n",
    "#url\n",
    "# Scraping from second page\n",
    "next_button=driver.find_element_by_xpath('/html/body/div[2]/div/div[1]/main/div[3]/div[2]/div/div[2]/section/div[2]/ul/li[12]/a')\n",
    "next_button.click()"
   ]
  },
  {
   "cell_type": "code",
   "execution_count": 611,
   "metadata": {},
   "outputs": [
    {
     "data": {
      "text/plain": [
       "100"
      ]
     },
     "execution_count": 611,
     "metadata": {},
     "output_type": "execute_result"
    }
   ],
   "source": [
    "# Scraping product list from second page\n",
    "brand_tag=driver.find_elements_by_xpath(\"//h3[@class='product-brand']\")\n",
    "for i in brand_tag:\n",
    "    product_list.append(i.text)\n",
    "len(product_list)"
   ]
  },
  {
   "cell_type": "code",
   "execution_count": 612,
   "metadata": {},
   "outputs": [
    {
     "data": {
      "text/plain": [
       "100"
      ]
     },
     "execution_count": 612,
     "metadata": {},
     "output_type": "execute_result"
    }
   ],
   "source": [
    "# Scraping product list from second page\n",
    "description_tag=driver.find_elements_by_xpath(\"//h4[@class='product-product']\")\n",
    "for i in description_tag:\n",
    "    product_desc.append(i.text)\n",
    "len(product_desc)"
   ]
  },
  {
   "cell_type": "code",
   "execution_count": 613,
   "metadata": {},
   "outputs": [
    {
     "data": {
      "text/plain": [
       "100"
      ]
     },
     "execution_count": 613,
     "metadata": {},
     "output_type": "execute_result"
    }
   ],
   "source": [
    "# Scraping price list from second page\n",
    "price_tag=driver.find_elements_by_xpath(\"//div[@class='product-price']\")\n",
    "for i in price_tag:\n",
    "    price_list.append(i.text)\n",
    "len(price_list)"
   ]
  },
  {
   "cell_type": "code",
   "execution_count": 614,
   "metadata": {},
   "outputs": [
    {
     "data": {
      "text/html": [
       "<div>\n",
       "<style scoped>\n",
       "    .dataframe tbody tr th:only-of-type {\n",
       "        vertical-align: middle;\n",
       "    }\n",
       "\n",
       "    .dataframe tbody tr th {\n",
       "        vertical-align: top;\n",
       "    }\n",
       "\n",
       "    .dataframe thead th {\n",
       "        text-align: right;\n",
       "    }\n",
       "</style>\n",
       "<table border=\"1\" class=\"dataframe\">\n",
       "  <thead>\n",
       "    <tr style=\"text-align: right;\">\n",
       "      <th></th>\n",
       "      <th>Products</th>\n",
       "      <th>Product Description</th>\n",
       "      <th>Price list</th>\n",
       "    </tr>\n",
       "  </thead>\n",
       "  <tbody>\n",
       "    <tr>\n",
       "      <th>1</th>\n",
       "      <td>ALDO</td>\n",
       "      <td>Men Driving Shoes</td>\n",
       "      <td>Rs. 11999</td>\n",
       "    </tr>\n",
       "    <tr>\n",
       "      <th>2</th>\n",
       "      <td>Nike</td>\n",
       "      <td>LEBRON XVIII Basketball Shoes</td>\n",
       "      <td>Rs. 11436Rs. 17595(35% OFF)</td>\n",
       "    </tr>\n",
       "    <tr>\n",
       "      <th>3</th>\n",
       "      <td>UNDER ARMOUR</td>\n",
       "      <td>Men Charged Bandit 6 Running</td>\n",
       "      <td>Rs. 8999</td>\n",
       "    </tr>\n",
       "    <tr>\n",
       "      <th>4</th>\n",
       "      <td>Puma</td>\n",
       "      <td>Men Cell Fraction Fade Running</td>\n",
       "      <td>Rs. 6999</td>\n",
       "    </tr>\n",
       "    <tr>\n",
       "      <th>5</th>\n",
       "      <td>UNDER ARMOUR</td>\n",
       "      <td>Women HOVR Sonic 4 Colorshift</td>\n",
       "      <td>Rs. 10999</td>\n",
       "    </tr>\n",
       "    <tr>\n",
       "      <th>6</th>\n",
       "      <td>UNDER ARMOUR</td>\n",
       "      <td>Men HOVR Sonic 4 Colorshift</td>\n",
       "      <td>Rs. 10999</td>\n",
       "    </tr>\n",
       "    <tr>\n",
       "      <th>7</th>\n",
       "      <td>UNDER ARMOUR</td>\n",
       "      <td>Unisex Project Rock Recruit</td>\n",
       "      <td>Rs. 9999</td>\n",
       "    </tr>\n",
       "    <tr>\n",
       "      <th>8</th>\n",
       "      <td>UNDER ARMOUR</td>\n",
       "      <td>Men Charged Vantage Running</td>\n",
       "      <td>Rs. 7999</td>\n",
       "    </tr>\n",
       "    <tr>\n",
       "      <th>9</th>\n",
       "      <td>UNDER ARMOUR</td>\n",
       "      <td>Men Charged Pursuit 2 SE Shoes</td>\n",
       "      <td>Rs. 6999</td>\n",
       "    </tr>\n",
       "    <tr>\n",
       "      <th>10</th>\n",
       "      <td>ADIDAS</td>\n",
       "      <td>Women SUPERNOVA Running Shoes</td>\n",
       "      <td>Rs. 6999Rs. 9999(30% OFF)</td>\n",
       "    </tr>\n",
       "    <tr>\n",
       "      <th>11</th>\n",
       "      <td>UNDER ARMOUR</td>\n",
       "      <td>Men Charged Assert 8 Marble</td>\n",
       "      <td>Rs. 6999</td>\n",
       "    </tr>\n",
       "    <tr>\n",
       "      <th>12</th>\n",
       "      <td>UNDER ARMOUR</td>\n",
       "      <td>Men Charged Pursuit 2 SE</td>\n",
       "      <td>Rs. 6999</td>\n",
       "    </tr>\n",
       "    <tr>\n",
       "      <th>13</th>\n",
       "      <td>Puma</td>\n",
       "      <td>Men Velocity Nitro Running</td>\n",
       "      <td>Rs. 10999</td>\n",
       "    </tr>\n",
       "    <tr>\n",
       "      <th>14</th>\n",
       "      <td>Geox</td>\n",
       "      <td>Men Leather Formal Slip Ons</td>\n",
       "      <td>Rs. 8999</td>\n",
       "    </tr>\n",
       "    <tr>\n",
       "      <th>15</th>\n",
       "      <td>Puma</td>\n",
       "      <td>Women Deviate Nitro Running</td>\n",
       "      <td>Rs. 9749Rs. 14999(35% OFF)</td>\n",
       "    </tr>\n",
       "    <tr>\n",
       "      <th>16</th>\n",
       "      <td>UNDER ARMOUR</td>\n",
       "      <td>GS SC 3Zero IV Basketball</td>\n",
       "      <td>Rs. 7499</td>\n",
       "    </tr>\n",
       "    <tr>\n",
       "      <th>17</th>\n",
       "      <td>UNDER ARMOUR</td>\n",
       "      <td>Men HOVR Sonic 4 Running Shoes</td>\n",
       "      <td>Rs. 10999</td>\n",
       "    </tr>\n",
       "    <tr>\n",
       "      <th>18</th>\n",
       "      <td>UNDER ARMOUR</td>\n",
       "      <td>Men Charged Rogue 2.5 RFLCT</td>\n",
       "      <td>Rs. 7999</td>\n",
       "    </tr>\n",
       "    <tr>\n",
       "      <th>19</th>\n",
       "      <td>UNDER ARMOUR</td>\n",
       "      <td>Men Charged Commit 3 Training</td>\n",
       "      <td>Rs. 7999</td>\n",
       "    </tr>\n",
       "    <tr>\n",
       "      <th>20</th>\n",
       "      <td>Puma</td>\n",
       "      <td>Men SOFTRIDE Rift Shoes</td>\n",
       "      <td>Rs. 6499</td>\n",
       "    </tr>\n",
       "    <tr>\n",
       "      <th>21</th>\n",
       "      <td>UNDER ARMOUR</td>\n",
       "      <td>Women Charged Vantage ClrShft</td>\n",
       "      <td>Rs. 7999</td>\n",
       "    </tr>\n",
       "    <tr>\n",
       "      <th>22</th>\n",
       "      <td>UNDER ARMOUR</td>\n",
       "      <td>Men HOVR Infinite Running</td>\n",
       "      <td>Rs. 11999</td>\n",
       "    </tr>\n",
       "    <tr>\n",
       "      <th>23</th>\n",
       "      <td>UNDER ARMOUR</td>\n",
       "      <td>Men HOVR Sonic STRT Tech Shoes</td>\n",
       "      <td>Rs. 9999</td>\n",
       "    </tr>\n",
       "    <tr>\n",
       "      <th>24</th>\n",
       "      <td>Hush Puppies</td>\n",
       "      <td>Men Formal Derbys</td>\n",
       "      <td>Rs. 8999Rs. 9999(10% OFF)</td>\n",
       "    </tr>\n",
       "    <tr>\n",
       "      <th>25</th>\n",
       "      <td>Hush Puppies</td>\n",
       "      <td>Men Leather Slip-On Sneakers</td>\n",
       "      <td>Rs. 6999Rs. 9999(30% OFF)</td>\n",
       "    </tr>\n",
       "    <tr>\n",
       "      <th>26</th>\n",
       "      <td>FORCLAZ By Decathlon</td>\n",
       "      <td>TREKKING 100 Boots</td>\n",
       "      <td>Rs. 6999</td>\n",
       "    </tr>\n",
       "    <tr>\n",
       "      <th>27</th>\n",
       "      <td>PUMA Hoops</td>\n",
       "      <td>Unisex Clyde Basketball Shoes</td>\n",
       "      <td>Rs. 8999</td>\n",
       "    </tr>\n",
       "    <tr>\n",
       "      <th>28</th>\n",
       "      <td>UNDER ARMOUR</td>\n",
       "      <td>Women Charged Impulse Shft</td>\n",
       "      <td>Rs. 7499</td>\n",
       "    </tr>\n",
       "    <tr>\n",
       "      <th>29</th>\n",
       "      <td>Hush Puppies</td>\n",
       "      <td>Men Solid Leather Formal Slip-Ons</td>\n",
       "      <td>Rs. 8099Rs. 8999(10% OFF)</td>\n",
       "    </tr>\n",
       "    <tr>\n",
       "      <th>30</th>\n",
       "      <td>Geox</td>\n",
       "      <td>Men Leather Formal Derbys</td>\n",
       "      <td>Rs. 11999</td>\n",
       "    </tr>\n",
       "    <tr>\n",
       "      <th>...</th>\n",
       "      <td>...</td>\n",
       "      <td>...</td>\n",
       "      <td>...</td>\n",
       "    </tr>\n",
       "    <tr>\n",
       "      <th>71</th>\n",
       "      <td>Geox</td>\n",
       "      <td>Men Sneakers</td>\n",
       "      <td>Rs. 7999Rs. 9999(20% OFF)</td>\n",
       "    </tr>\n",
       "    <tr>\n",
       "      <th>72</th>\n",
       "      <td>Heel &amp; Buckle London</td>\n",
       "      <td>Women Peep Toe Heels</td>\n",
       "      <td>Rs. 7192Rs. 8990(20% OFF)</td>\n",
       "    </tr>\n",
       "    <tr>\n",
       "      <th>73</th>\n",
       "      <td>Heel &amp; Buckle London</td>\n",
       "      <td>Women Leather Pumps</td>\n",
       "      <td>Rs. 7192Rs. 8990(20% OFF)</td>\n",
       "    </tr>\n",
       "    <tr>\n",
       "      <th>74</th>\n",
       "      <td>Geox</td>\n",
       "      <td>Women Leather Pumps</td>\n",
       "      <td>Rs. 6399Rs. 7999(20% OFF)</td>\n",
       "    </tr>\n",
       "    <tr>\n",
       "      <th>75</th>\n",
       "      <td>Geox</td>\n",
       "      <td>Men Leather Formal Derbys</td>\n",
       "      <td>Rs. 9999</td>\n",
       "    </tr>\n",
       "    <tr>\n",
       "      <th>76</th>\n",
       "      <td>RARE RABBIT</td>\n",
       "      <td>Men Leather Flat Boots</td>\n",
       "      <td>Rs. 9999</td>\n",
       "    </tr>\n",
       "    <tr>\n",
       "      <th>77</th>\n",
       "      <td>Geox</td>\n",
       "      <td>Men Leather Formal Brogues</td>\n",
       "      <td>Rs. 11999</td>\n",
       "    </tr>\n",
       "    <tr>\n",
       "      <th>78</th>\n",
       "      <td>UNDER ARMOUR</td>\n",
       "      <td>Women Charged Bandit 6 Running</td>\n",
       "      <td>Rs. 8999</td>\n",
       "    </tr>\n",
       "    <tr>\n",
       "      <th>79</th>\n",
       "      <td>Geox</td>\n",
       "      <td>Men Leather Sneakers</td>\n",
       "      <td>Rs. 10999</td>\n",
       "    </tr>\n",
       "    <tr>\n",
       "      <th>80</th>\n",
       "      <td>Geox</td>\n",
       "      <td>Men Leather Formal Slip-Ons</td>\n",
       "      <td>Rs. 7199Rs. 8999(20% OFF)</td>\n",
       "    </tr>\n",
       "    <tr>\n",
       "      <th>81</th>\n",
       "      <td>UNDER ARMOUR</td>\n",
       "      <td>Women Charged Assert 8 Running</td>\n",
       "      <td>Rs. 6999</td>\n",
       "    </tr>\n",
       "    <tr>\n",
       "      <th>82</th>\n",
       "      <td>UNDER ARMOUR</td>\n",
       "      <td>Women Charged Rogue 2.5ClrSft</td>\n",
       "      <td>Rs. 7999</td>\n",
       "    </tr>\n",
       "    <tr>\n",
       "      <th>83</th>\n",
       "      <td>Geox</td>\n",
       "      <td>Women Leather Solid Pumps</td>\n",
       "      <td>Rs. 11990</td>\n",
       "    </tr>\n",
       "    <tr>\n",
       "      <th>84</th>\n",
       "      <td>UNDER ARMOUR</td>\n",
       "      <td>Women HOVR Sonic 4 Running</td>\n",
       "      <td>Rs. 10999</td>\n",
       "    </tr>\n",
       "    <tr>\n",
       "      <th>85</th>\n",
       "      <td>DAVINCHI</td>\n",
       "      <td>DAVINCHI</td>\n",
       "      <td>Rs. 7990</td>\n",
       "    </tr>\n",
       "    <tr>\n",
       "      <th>86</th>\n",
       "      <td>FILA</td>\n",
       "      <td>Men Running Shoes</td>\n",
       "      <td>Rs. 8499</td>\n",
       "    </tr>\n",
       "    <tr>\n",
       "      <th>87</th>\n",
       "      <td>Geox</td>\n",
       "      <td>Men Perforated Slip On Sneaker</td>\n",
       "      <td>Rs. 7199Rs. 8999(20% OFF)</td>\n",
       "    </tr>\n",
       "    <tr>\n",
       "      <th>88</th>\n",
       "      <td>Geox</td>\n",
       "      <td>Men Woven Design Sneakers</td>\n",
       "      <td>Rs. 8799Rs. 10999(20% OFF)</td>\n",
       "    </tr>\n",
       "    <tr>\n",
       "      <th>89</th>\n",
       "      <td>Geox</td>\n",
       "      <td>Men Leather Driving Shoes</td>\n",
       "      <td>Rs. 9999</td>\n",
       "    </tr>\n",
       "    <tr>\n",
       "      <th>90</th>\n",
       "      <td>RARE RABBIT</td>\n",
       "      <td>Men Colourblocked Leather Derbys</td>\n",
       "      <td>Rs. 6499</td>\n",
       "    </tr>\n",
       "    <tr>\n",
       "      <th>91</th>\n",
       "      <td>Geox</td>\n",
       "      <td>Men Leather Driving Shoes</td>\n",
       "      <td>Rs. 9999</td>\n",
       "    </tr>\n",
       "    <tr>\n",
       "      <th>92</th>\n",
       "      <td>Geox</td>\n",
       "      <td>Men Solid Leather Sneakers</td>\n",
       "      <td>Rs. 7199Rs. 8999(20% OFF)</td>\n",
       "    </tr>\n",
       "    <tr>\n",
       "      <th>93</th>\n",
       "      <td>RARE RABBIT</td>\n",
       "      <td>Men Perforations Leather Brogues</td>\n",
       "      <td>Rs. 6999</td>\n",
       "    </tr>\n",
       "    <tr>\n",
       "      <th>94</th>\n",
       "      <td>Cole Haan</td>\n",
       "      <td>Men GENERATION ZEROGRAND STITCHLITE</td>\n",
       "      <td>Rs. 9599Rs. 11999(20% OFF)</td>\n",
       "    </tr>\n",
       "    <tr>\n",
       "      <th>95</th>\n",
       "      <td>Nike</td>\n",
       "      <td>Women AIR ZOOM Running</td>\n",
       "      <td>Rs. 8771Rs. 13495(35% OFF)</td>\n",
       "    </tr>\n",
       "    <tr>\n",
       "      <th>96</th>\n",
       "      <td>Geox</td>\n",
       "      <td>Men Leather Slip-On Sneakers</td>\n",
       "      <td>Rs. 9490</td>\n",
       "    </tr>\n",
       "    <tr>\n",
       "      <th>97</th>\n",
       "      <td>Geox</td>\n",
       "      <td>Women Flatform Sneakers</td>\n",
       "      <td>Rs. 9999</td>\n",
       "    </tr>\n",
       "    <tr>\n",
       "      <th>98</th>\n",
       "      <td>Geox</td>\n",
       "      <td>Men Leather Driving Shoes</td>\n",
       "      <td>Rs. 9990</td>\n",
       "    </tr>\n",
       "    <tr>\n",
       "      <th>99</th>\n",
       "      <td>VIONIC</td>\n",
       "      <td>Men Textured Sneakers</td>\n",
       "      <td>Rs. 7039Rs. 10999(36% OFF)</td>\n",
       "    </tr>\n",
       "    <tr>\n",
       "      <th>100</th>\n",
       "      <td>J.FONTINI</td>\n",
       "      <td>Men Textured Leather Loafers</td>\n",
       "      <td>Rs. 7990</td>\n",
       "    </tr>\n",
       "  </tbody>\n",
       "</table>\n",
       "<p>100 rows × 3 columns</p>\n",
       "</div>"
      ],
      "text/plain": [
       "                 Products                  Product Description  \\\n",
       "1                    ALDO                    Men Driving Shoes   \n",
       "2                    Nike        LEBRON XVIII Basketball Shoes   \n",
       "3            UNDER ARMOUR         Men Charged Bandit 6 Running   \n",
       "4                    Puma       Men Cell Fraction Fade Running   \n",
       "5            UNDER ARMOUR        Women HOVR Sonic 4 Colorshift   \n",
       "6            UNDER ARMOUR          Men HOVR Sonic 4 Colorshift   \n",
       "7            UNDER ARMOUR          Unisex Project Rock Recruit   \n",
       "8            UNDER ARMOUR          Men Charged Vantage Running   \n",
       "9            UNDER ARMOUR       Men Charged Pursuit 2 SE Shoes   \n",
       "10                 ADIDAS        Women SUPERNOVA Running Shoes   \n",
       "11           UNDER ARMOUR          Men Charged Assert 8 Marble   \n",
       "12           UNDER ARMOUR             Men Charged Pursuit 2 SE   \n",
       "13                   Puma           Men Velocity Nitro Running   \n",
       "14                   Geox          Men Leather Formal Slip Ons   \n",
       "15                   Puma          Women Deviate Nitro Running   \n",
       "16           UNDER ARMOUR            GS SC 3Zero IV Basketball   \n",
       "17           UNDER ARMOUR       Men HOVR Sonic 4 Running Shoes   \n",
       "18           UNDER ARMOUR          Men Charged Rogue 2.5 RFLCT   \n",
       "19           UNDER ARMOUR        Men Charged Commit 3 Training   \n",
       "20                   Puma              Men SOFTRIDE Rift Shoes   \n",
       "21           UNDER ARMOUR        Women Charged Vantage ClrShft   \n",
       "22           UNDER ARMOUR            Men HOVR Infinite Running   \n",
       "23           UNDER ARMOUR       Men HOVR Sonic STRT Tech Shoes   \n",
       "24           Hush Puppies                    Men Formal Derbys   \n",
       "25           Hush Puppies         Men Leather Slip-On Sneakers   \n",
       "26   FORCLAZ By Decathlon                   TREKKING 100 Boots   \n",
       "27             PUMA Hoops        Unisex Clyde Basketball Shoes   \n",
       "28           UNDER ARMOUR           Women Charged Impulse Shft   \n",
       "29           Hush Puppies    Men Solid Leather Formal Slip-Ons   \n",
       "30                   Geox            Men Leather Formal Derbys   \n",
       "..                    ...                                  ...   \n",
       "71                   Geox                         Men Sneakers   \n",
       "72   Heel & Buckle London                 Women Peep Toe Heels   \n",
       "73   Heel & Buckle London                  Women Leather Pumps   \n",
       "74                   Geox                  Women Leather Pumps   \n",
       "75                   Geox            Men Leather Formal Derbys   \n",
       "76            RARE RABBIT               Men Leather Flat Boots   \n",
       "77                   Geox           Men Leather Formal Brogues   \n",
       "78           UNDER ARMOUR       Women Charged Bandit 6 Running   \n",
       "79                   Geox                 Men Leather Sneakers   \n",
       "80                   Geox          Men Leather Formal Slip-Ons   \n",
       "81           UNDER ARMOUR       Women Charged Assert 8 Running   \n",
       "82           UNDER ARMOUR        Women Charged Rogue 2.5ClrSft   \n",
       "83                   Geox            Women Leather Solid Pumps   \n",
       "84           UNDER ARMOUR           Women HOVR Sonic 4 Running   \n",
       "85               DAVINCHI                             DAVINCHI   \n",
       "86                   FILA                    Men Running Shoes   \n",
       "87                   Geox       Men Perforated Slip On Sneaker   \n",
       "88                   Geox            Men Woven Design Sneakers   \n",
       "89                   Geox            Men Leather Driving Shoes   \n",
       "90            RARE RABBIT     Men Colourblocked Leather Derbys   \n",
       "91                   Geox            Men Leather Driving Shoes   \n",
       "92                   Geox           Men Solid Leather Sneakers   \n",
       "93            RARE RABBIT     Men Perforations Leather Brogues   \n",
       "94              Cole Haan  Men GENERATION ZEROGRAND STITCHLITE   \n",
       "95                   Nike               Women AIR ZOOM Running   \n",
       "96                   Geox         Men Leather Slip-On Sneakers   \n",
       "97                   Geox              Women Flatform Sneakers   \n",
       "98                   Geox            Men Leather Driving Shoes   \n",
       "99                 VIONIC                Men Textured Sneakers   \n",
       "100             J.FONTINI         Men Textured Leather Loafers   \n",
       "\n",
       "                      Price list  \n",
       "1                      Rs. 11999  \n",
       "2    Rs. 11436Rs. 17595(35% OFF)  \n",
       "3                       Rs. 8999  \n",
       "4                       Rs. 6999  \n",
       "5                      Rs. 10999  \n",
       "6                      Rs. 10999  \n",
       "7                       Rs. 9999  \n",
       "8                       Rs. 7999  \n",
       "9                       Rs. 6999  \n",
       "10     Rs. 6999Rs. 9999(30% OFF)  \n",
       "11                      Rs. 6999  \n",
       "12                      Rs. 6999  \n",
       "13                     Rs. 10999  \n",
       "14                      Rs. 8999  \n",
       "15    Rs. 9749Rs. 14999(35% OFF)  \n",
       "16                      Rs. 7499  \n",
       "17                     Rs. 10999  \n",
       "18                      Rs. 7999  \n",
       "19                      Rs. 7999  \n",
       "20                      Rs. 6499  \n",
       "21                      Rs. 7999  \n",
       "22                     Rs. 11999  \n",
       "23                      Rs. 9999  \n",
       "24     Rs. 8999Rs. 9999(10% OFF)  \n",
       "25     Rs. 6999Rs. 9999(30% OFF)  \n",
       "26                      Rs. 6999  \n",
       "27                      Rs. 8999  \n",
       "28                      Rs. 7499  \n",
       "29     Rs. 8099Rs. 8999(10% OFF)  \n",
       "30                     Rs. 11999  \n",
       "..                           ...  \n",
       "71     Rs. 7999Rs. 9999(20% OFF)  \n",
       "72     Rs. 7192Rs. 8990(20% OFF)  \n",
       "73     Rs. 7192Rs. 8990(20% OFF)  \n",
       "74     Rs. 6399Rs. 7999(20% OFF)  \n",
       "75                      Rs. 9999  \n",
       "76                      Rs. 9999  \n",
       "77                     Rs. 11999  \n",
       "78                      Rs. 8999  \n",
       "79                     Rs. 10999  \n",
       "80     Rs. 7199Rs. 8999(20% OFF)  \n",
       "81                      Rs. 6999  \n",
       "82                      Rs. 7999  \n",
       "83                     Rs. 11990  \n",
       "84                     Rs. 10999  \n",
       "85                      Rs. 7990  \n",
       "86                      Rs. 8499  \n",
       "87     Rs. 7199Rs. 8999(20% OFF)  \n",
       "88    Rs. 8799Rs. 10999(20% OFF)  \n",
       "89                      Rs. 9999  \n",
       "90                      Rs. 6499  \n",
       "91                      Rs. 9999  \n",
       "92     Rs. 7199Rs. 8999(20% OFF)  \n",
       "93                      Rs. 6999  \n",
       "94    Rs. 9599Rs. 11999(20% OFF)  \n",
       "95    Rs. 8771Rs. 13495(35% OFF)  \n",
       "96                      Rs. 9490  \n",
       "97                      Rs. 9999  \n",
       "98                      Rs. 9990  \n",
       "99    Rs. 7039Rs. 10999(36% OFF)  \n",
       "100                     Rs. 7990  \n",
       "\n",
       "[100 rows x 3 columns]"
      ]
     },
     "execution_count": 614,
     "metadata": {},
     "output_type": "execute_result"
    }
   ],
   "source": [
    "# We will extract first 100 result\n",
    "import numpy as np\n",
    "df=pd.DataFrame({})\n",
    "df['Products']=product_list\n",
    "df['Product Description']=product_desc\n",
    "df['Price list']=price_list\n",
    "df.index=np.arange(1,len(product_list)+1)\n",
    "df"
   ]
  },
  {
   "cell_type": "markdown",
   "metadata": {},
   "source": [
    "### Q10. Go to webpage https://www.amazon.in/ Enter “Laptop” in the search field and then click the search icon.Then set CPU Type filter to “Intel Core i7” and “Intel Core i9”After setting the filters scrape first 10 laptops data. You have to scrape 3 attributes"
   ]
  },
  {
   "cell_type": "code",
   "execution_count": 201,
   "metadata": {},
   "outputs": [],
   "source": [
    "#Connecting to the web driver\n",
    "driver=webdriver.Chrome('chromedriver.exe')"
   ]
  },
  {
   "cell_type": "code",
   "execution_count": 202,
   "metadata": {},
   "outputs": [],
   "source": [
    "url='https://www.amazon.in/'\n",
    "driver.get(url)"
   ]
  },
  {
   "cell_type": "code",
   "execution_count": 203,
   "metadata": {},
   "outputs": [
    {
     "data": {
      "text/plain": [
       "<selenium.webdriver.remote.webelement.WebElement (session=\"19405a75a437f208e3c6020a86a8ff72\", element=\"dec56ee4-3b6d-4d03-aab4-b4bf8a766094\")>"
      ]
     },
     "execution_count": 203,
     "metadata": {},
     "output_type": "execute_result"
    }
   ],
   "source": [
    "search_tag=driver.find_element_by_id(\"twotabsearchtextbox\")\n",
    "search_tag"
   ]
  },
  {
   "cell_type": "code",
   "execution_count": 204,
   "metadata": {},
   "outputs": [],
   "source": [
    "search_tag.send_keys(\"laptop\")"
   ]
  },
  {
   "cell_type": "code",
   "execution_count": 205,
   "metadata": {},
   "outputs": [
    {
     "data": {
      "text/plain": [
       "<selenium.webdriver.remote.webelement.WebElement (session=\"19405a75a437f208e3c6020a86a8ff72\", element=\"beda8ee2-92f6-4376-938e-1814a6b7f1dc\")>"
      ]
     },
     "execution_count": 205,
     "metadata": {},
     "output_type": "execute_result"
    }
   ],
   "source": [
    "search_button=driver.find_element_by_id(\"nav-search-submit-button\")\n",
    "search_button"
   ]
  },
  {
   "cell_type": "code",
   "execution_count": 206,
   "metadata": {},
   "outputs": [],
   "source": [
    "search_button.click()"
   ]
  },
  {
   "cell_type": "code",
   "execution_count": 209,
   "metadata": {},
   "outputs": [],
   "source": [
    "#Select cpu type as i7\n",
    "filter_button=driver.find_elements_by_xpath(\"//a[@class='a-link-normal s-navigation-item']\")\n",
    "for i in filter_button:\n",
    "    if i.text=='Intel Core i7':\n",
    "        i.click()\n",
    "        break\n"
   ]
  },
  {
   "cell_type": "code",
   "execution_count": 210,
   "metadata": {},
   "outputs": [],
   "source": [
    "# Select cpu type as i9\n",
    "filter_button=driver.find_elements_by_xpath(\"//a[@class='a-link-normal s-navigation-item']\")\n",
    "for i in filter_button:\n",
    "    if i.text=='Intel Core i9':\n",
    "        i.click()\n",
    "        break\n"
   ]
  },
  {
   "cell_type": "code",
   "execution_count": 225,
   "metadata": {},
   "outputs": [],
   "source": [
    "# Scrapping page url\n",
    "#Fetching urls\n",
    "urls=[]\n",
    "for i in driver.find_elements_by_xpath(\"//a[@class='a-link-normal a-text-normal']\"):\n",
    "    urls.append(i.get_attribute(\"href\"))"
   ]
  },
  {
   "cell_type": "code",
   "execution_count": 226,
   "metadata": {},
   "outputs": [
    {
     "data": {
      "text/plain": [
       "29"
      ]
     },
     "execution_count": 226,
     "metadata": {},
     "output_type": "execute_result"
    }
   ],
   "source": [
    "len(urls)"
   ]
  },
  {
   "cell_type": "code",
   "execution_count": 227,
   "metadata": {},
   "outputs": [
    {
     "data": {
      "text/plain": [
       "['https://www.amazon.in/gp/slredirect/picassoRedirect.html/ref=pa_sp_atf_computers_sr_pg1_1?ie=UTF8&adId=A10081262K6KZOZ37JXYV&url=%2FHP-Processor-13-3-inch-Touchscreen-13-ba1018TX%2Fdp%2FB091FJ13Q5%2Fref%3Dsr_1_1_sspa%3Fdchild%3D1%26keywords%3Dlaptop%26qid%3D1628757345%26refinements%3Dp_n_feature_thirteen_browse-bin%253A12598163031%257C16757432031%26rnid%3D12598141031%26s%3Dcomputers%26sr%3D1-1-spons%26psc%3D1&qualifier=1628757345&id=7397950903956220&widgetName=sp_atf',\n",
       " 'https://www.amazon.in/gp/slredirect/picassoRedirect.html/ref=pa_sp_atf_computers_sr_pg1_1?ie=UTF8&adId=A0870125WC700WBB6DFH&url=%2FLenovo-Touchscreen-Fingerprint-Aluminium-82BH004HIN%2Fdp%2FB08P3M22QQ%2Fref%3Dsr_1_2_sspa%3Fdchild%3D1%26keywords%3Dlaptop%26qid%3D1628757345%26refinements%3Dp_n_feature_thirteen_browse-bin%253A12598163031%257C16757432031%26rnid%3D12598141031%26s%3Dcomputers%26sr%3D1-2-spons%26psc%3D1&qualifier=1628757345&id=7397950903956220&widgetName=sp_atf',\n",
       " 'https://www.amazon.in/MSI-i7-10750H-IPS-Level-Windows-10SDR-1280IN/dp/B093L8JCZV/ref=sr_1_3?dchild=1&keywords=laptop&qid=1628757345&refinements=p_n_feature_thirteen_browse-bin%3A12598163031%7C16757432031&rnid=12598141031&s=computers&sr=1-3',\n",
       " 'https://www.amazon.in/HP-Pavilion-Graphics-35-56cms-14-dv0058TU/dp/B08WB857GB/ref=sr_1_4?dchild=1&keywords=laptop&qid=1628757345&refinements=p_n_feature_thirteen_browse-bin%3A12598163031%7C16757432031&rnid=12598141031&s=computers&sr=1-4',\n",
       " 'https://www.amazon.in/Notebook-Horizon-i7-10510U-Graphics-XMA1904-AF/dp/B089F2W1KW/ref=sr_1_5?dchild=1&keywords=laptop&qid=1628757345&refinements=p_n_feature_thirteen_browse-bin%3A12598163031%7C16757432031&rnid=12598141031&s=computers&sr=1-5',\n",
       " 'https://www.amazon.in/HP-Pavilion-Gaming-Laptop-15-DK1511TX/dp/B0972H63VL/ref=sr_1_6?dchild=1&keywords=laptop&qid=1628757345&refinements=p_n_feature_thirteen_browse-bin%3A12598163031%7C16757432031&rnid=12598141031&s=computers&sr=1-6',\n",
       " 'https://www.amazon.in/ASUS-15-6-inch-i7-10870H-SSDWindows-FX566LH-HN255T/dp/B096VKVFCN/ref=sr_1_7?dchild=1&keywords=laptop&qid=1628757345&refinements=p_n_feature_thirteen_browse-bin%3A12598163031%7C16757432031&rnid=12598141031&s=computers&sr=1-7',\n",
       " 'https://www.amazon.in/HP-Processor-13-3-inch-Touchscreen-13-ba1018TX/dp/B091FJ13Q5/ref=sr_1_8?dchild=1&keywords=laptop&qid=1628757345&refinements=p_n_feature_thirteen_browse-bin%3A12598163031%7C16757432031&rnid=12598141031&s=computers&sr=1-8',\n",
       " 'https://www.amazon.in/MSI-i7-10750H-IPS-Level-Windows-10SCXR-654IN/dp/B093L8QGL7/ref=sr_1_9?dchild=1&keywords=laptop&qid=1628757345&refinements=p_n_feature_thirteen_browse-bin%3A12598163031%7C16757432031&rnid=12598141031&s=computers&sr=1-9',\n",
       " 'https://www.amazon.in/ASUS-TUF-F15-i7-11370H-FX516PE-HN088TS/dp/B094RDLV5P/ref=sr_1_10?dchild=1&keywords=laptop&qid=1628757345&refinements=p_n_feature_thirteen_browse-bin%3A12598163031%7C16757432031&rnid=12598141031&s=computers&sr=1-10',\n",
       " 'https://www.amazon.in/Dell-i7-1165G7-Inspiron-5410-D560469WIN9S/dp/B095S9NJ4S/ref=sr_1_11?dchild=1&keywords=laptop&qid=1628757345&refinements=p_n_feature_thirteen_browse-bin%3A12598163031%7C16757432031&rnid=12598141031&s=computers&sr=1-11',\n",
       " 'https://www.amazon.in/HP-Pavilion-13-3-inch-Ceramic-13-bb0078TU/dp/B09839P9XB/ref=sr_1_12?dchild=1&keywords=laptop&qid=1628757345&refinements=p_n_feature_thirteen_browse-bin%3A12598163031%7C16757432031&rnid=12598141031&s=computers&sr=1-12',\n",
       " 'https://www.amazon.in/Lenovo-i7-10750H-39-63cm-Windows-82AU00PNIN/dp/B097TY6PTN/ref=sr_1_13?dchild=1&keywords=laptop&qid=1628757345&refinements=p_n_feature_thirteen_browse-bin%3A12598163031%7C16757432031&rnid=12598141031&s=computers&sr=1-13',\n",
       " 'https://www.amazon.in/LifeDigital-Laptop-Intel%C2%AE-Storage-Windows/dp/B08HRMHZ8J/ref=sr_1_14?dchild=1&keywords=laptop&qid=1628757345&refinements=p_n_feature_thirteen_browse-bin%3A12598163031%7C16757432031&rnid=12598141031&s=computers&sr=1-14',\n",
       " 'https://www.amazon.in/gp/slredirect/picassoRedirect.html/ref=pa_sp_mtf_computers_sr_pg1_1?ie=UTF8&adId=A05737051OF0H1VKX0MNY&url=%2FASUS-TUF-F15-i7-11370H-FX516PE-HN088TS%2Fdp%2FB094RDLV5P%2Fref%3Dsr_1_15_sspa%3Fdchild%3D1%26keywords%3Dlaptop%26qid%3D1628757345%26refinements%3Dp_n_feature_thirteen_browse-bin%253A12598163031%257C16757432031%26rnid%3D12598141031%26s%3Dcomputers%26sr%3D1-15-spons%26psc%3D1&qualifier=1628757345&id=7397950903956220&widgetName=sp_mtf',\n",
       " 'https://www.amazon.in/gp/slredirect/picassoRedirect.html/ref=pa_sp_mtf_computers_sr_pg1_1?ie=UTF8&adId=A0872671147908G7LKB8X&url=%2FMSI-i7-10750H-IPS-Level-Windows-10SDR-1280IN%2Fdp%2FB093L8JCZV%2Fref%3Dsr_1_16_sspa%3Fdchild%3D1%26keywords%3Dlaptop%26qid%3D1628757345%26refinements%3Dp_n_feature_thirteen_browse-bin%253A12598163031%257C16757432031%26rnid%3D12598141031%26s%3Dcomputers%26sr%3D1-16-spons%26psc%3D1&qualifier=1628757345&id=7397950903956220&widgetName=sp_mtf',\n",
       " 'https://www.amazon.in/Lenovo-Touchscreen-Fingerprint-Graphite-82HS0092IN/dp/B08WRZQBQ6/ref=sr_1_17?dchild=1&keywords=laptop&qid=1628757345&refinements=p_n_feature_thirteen_browse-bin%3A12598163031%7C16757432031&rnid=12598141031&s=computers&sr=1-17',\n",
       " 'https://www.amazon.in/ASUS-ZenBook-i7-1165G7-Graphics-UX425EA-BM701TS/dp/B08M4SWRR5/ref=sr_1_18?dchild=1&keywords=laptop&qid=1628757345&refinements=p_n_feature_thirteen_browse-bin%3A12598163031%7C16757432031&rnid=12598141031&s=computers&sr=1-18',\n",
       " 'https://www.amazon.in/ASUS-VivoBook-i7-1165G7-Graphics-S433EA-AM701TS/dp/B08PQTZB3Z/ref=sr_1_19?dchild=1&keywords=laptop&qid=1628757345&refinements=p_n_feature_thirteen_browse-bin%3A12598163031%7C16757432031&rnid=12598141031&s=computers&sr=1-19',\n",
       " 'https://www.amazon.in/Dell-Latitude-E6440-Integrated-graphics/dp/B07VQJWDLR/ref=sr_1_20?dchild=1&keywords=laptop&qid=1628757345&refinements=p_n_feature_thirteen_browse-bin%3A12598163031%7C16757432031&rnid=12598141031&s=computers&sr=1-20',\n",
       " 'https://www.amazon.in/ASUS-VivoBook-S532EQ-BQ702TS-I7-1165G7-SILVER/dp/B08PZ3VRCS/ref=sr_1_21?dchild=1&keywords=laptop&qid=1628757345&refinements=p_n_feature_thirteen_browse-bin%3A12598163031%7C16757432031&rnid=12598141031&s=computers&sr=1-21',\n",
       " 'https://www.amazon.in/Dell-Inspiron-Display-i7-1165G7-D560377WIN9S/dp/B08QN2PYWF/ref=sr_1_22?dchild=1&keywords=laptop&qid=1628757345&refinements=p_n_feature_thirteen_browse-bin%3A12598163031%7C16757432031&rnid=12598141031&s=computers&sr=1-22',\n",
       " 'https://www.amazon.in/Lenovo-ThinkPad-X1-Integrated-Graphics/dp/B0827XT57Z/ref=sr_1_23?dchild=1&keywords=laptop&qid=1628757345&refinements=p_n_feature_thirteen_browse-bin%3A12598163031%7C16757432031&rnid=12598141031&s=computers&sr=1-23',\n",
       " 'https://www.amazon.in/Lenovo-Touch-Screen-Laptop-Thunderbolt-Windows/dp/B07SWJV6D4/ref=sr_1_24?dchild=1&keywords=laptop&qid=1628757345&refinements=p_n_feature_thirteen_browse-bin%3A12598163031%7C16757432031&rnid=12598141031&s=computers&sr=1-24',\n",
       " 'https://www.amazon.in/Acer-Predator-Generation-Graphics-PH315-53/dp/B096K1KSHH/ref=sr_1_25?dchild=1&keywords=laptop&qid=1628757345&refinements=p_n_feature_thirteen_browse-bin%3A12598163031%7C16757432031&rnid=12598141031&s=computers&sr=1-25',\n",
       " 'https://www.amazon.in/Renewed-Digital-Laptop-15-6-inch-Windows/dp/B095224LRK/ref=sr_1_26?dchild=1&keywords=laptop&qid=1628757345&refinements=p_n_feature_thirteen_browse-bin%3A12598163031%7C16757432031&rnid=12598141031&s=computers&sr=1-26',\n",
       " 'https://www.amazon.in/Samsung-Display-Processor-Bluetooth-Enabled-NP930QCG-K01US/dp/B085D2HHBT/ref=sr_1_27?dchild=1&keywords=laptop&qid=1628757345&refinements=p_n_feature_thirteen_browse-bin%3A12598163031%7C16757432031&rnid=12598141031&s=computers&sr=1-27',\n",
       " 'https://www.amazon.in/Zephyrus-GX531GW-ES009T-15-6-inch-Windows-Graphics/dp/B07P13WFR5/ref=sr_1_28?dchild=1&keywords=laptop&qid=1628757345&refinements=p_n_feature_thirteen_browse-bin%3A12598163031%7C16757432031&rnid=12598141031&s=computers&sr=1-28',\n",
       " 'https://www.amazon.in/gp/slredirect/picassoRedirect.html/ref=pa_sp_btf_computers_sr_pg1_1?ie=UTF8&adId=A00766773MSMG2AO2CGIQ&url=%2FAcer-Swift-Display-Touchscreen-Notebook%2Fdp%2FB08M41DHTV%2Fref%3Dsr_1_29_sspa%3Fdchild%3D1%26keywords%3Dlaptop%26qid%3D1628757345%26refinements%3Dp_n_feature_thirteen_browse-bin%253A12598163031%257C16757432031%26rnid%3D12598141031%26s%3Dcomputers%26sr%3D1-29-spons%26psc%3D1&qualifier=1628757345&id=7397950903956220&widgetName=sp_btf']"
      ]
     },
     "execution_count": 227,
     "metadata": {},
     "output_type": "execute_result"
    }
   ],
   "source": [
    "urls"
   ]
  },
  {
   "cell_type": "code",
   "execution_count": 228,
   "metadata": {},
   "outputs": [],
   "source": [
    "title_list=[]\n",
    "price_list=[]\n",
    "rating_list=[]\n",
    "\n",
    "for i in urls[0:10]:\n",
    "    driver.get(i)\n",
    "    time.sleep(0.1)\n",
    "    # Fetching title\n",
    "    try:\n",
    "        job=driver.find_element_by_id(\"productTitle\")\n",
    "        title_list.append(job.text)\n",
    "    except:\n",
    "        title_list.append('-')\n",
    "        \n",
    "    # Fetching price list\n",
    "    try:\n",
    "        price=driver.find_element_by_id(\"priceblock_ourprice\")\n",
    "        price_list.append(price.text)\n",
    "    except:\n",
    "        price_list.append('-')\n",
    "    \n",
    "    #Fetching rating list\n",
    "    try:\n",
    "        rating=driver.find_element_by_xpath(\"//span[@class='a-size-medium a-color-base']\")\n",
    "        rating_list.append(rating.text)\n",
    "        \n",
    "    except:\n",
    "        rating_list.append('-')\n",
    "\n",
    "    "
   ]
  },
  {
   "cell_type": "code",
   "execution_count": 232,
   "metadata": {},
   "outputs": [
    {
     "name": "stdout",
     "output_type": "stream",
     "text": [
      "10 10 10\n"
     ]
    }
   ],
   "source": [
    "#Checking the length\n",
    "print(len(title_list),len(price_list),len(rating_list))"
   ]
  },
  {
   "cell_type": "code",
   "execution_count": 237,
   "metadata": {},
   "outputs": [
    {
     "name": "stdout",
     "output_type": "stream",
     "text": [
      "['HP Envy 11th Gen Core i7 Processor 13.3-inch (33.78 cms) FHD Touchscreen Laptop (16GB/1TB SSD/Win 10/NVIDIA MX450 2GB/Natural Silver/1.3 kg), 13-ba1018TX', 'Lenovo Yoga 7 11th Gen Intel Core i7-1165G7 14\" (35.56cm) FHD IPS 2-in-1 Touchscreen Laptop (16GB/512GB SSD/Windows 10/MS Office/Lenovo Digital Pen/Fingerprint Reader/Slate Grey/1.43Kg), 82BH004HIN', 'MSI GF65 Thin, Intel i7-10750H, 15.6\" FHD (39.6 cm) IPS-Level 144Hz Panel Laptop (16GB/512GB NVMe SSD/Windows 10 Home/Nvidia GTX1660 Ti 6GB GDDR6/Black/1.86Kg), 10SDR-1280IN', 'HP Pavilion (2021) Thin & Light 11th Gen Core i7 Laptop, 16 GB RAM, 1TB SSD, Iris Xe Graphics, 14\" (35.56cms) FHD Screen, Windows 10, MS Office, Backlit Keyboard (14-dv0058TU)', 'Mi Notebook Horizon Edition 14 Intel Core i7-10510U 10th Gen 14-inch (35.56 cms) Thin and Light Laptop(8GB/512GB SSD/Windows 10/Nvidia MX350 2GB Graphics/Grey/1.35Kg), XMA1904-AF+Webcam', 'HP Pavilion Gaming(2021) 10th Gen Intel Core i7 15.6-inch(39.6 cm) FHD IPS 144Hz Gaming Laptop (16GB/512GB SSD + 32GB Intel Optane/NVIDIA GTX 1650Ti 4GB/Win 10/MS Office/Shadow Black), 15-DK1511TX', 'ASUS TUF Gaming F15 (2020), 15.6-inch (39.62 cms) FHD 144Hz, Intel Core i7-10870H 10th Gen, NVIDIA GeForce GTX 1650 4GB Graphics, Gaming Laptop(8GB/512GB SSDWindows 10/Gray/2.3 Kg), FX566LH-HN255T', 'HP Envy 11th Gen Core i7 Processor 13.3-inch (33.78 cms) FHD Touchscreen Laptop (16GB/1TB SSD/Win 10/NVIDIA MX450 2GB/Natural Silver/1.3 kg), 13-ba1018TX', 'MSI GF75 Thin, Intel i7-10750H, 17.3\" (43.9 cm) FHD IPS-Level 144Hz Panel Laptop (8GB/512GB NVMe SSD/Windows 10 Home/Nvidia GTX1650 4GB GDDR6/Black/2.2Kg), 10SCXR-654IN', 'ASUS TUF Dash F15 (2021), 15.6\" (39.62 cms) FHD 144Hz, Intel Core i7-11370H 11th Gen, RTX 3050 Ti 4GB Graphics, Gaming Laptop (16GB/1TB SSD/Office 2019/Windows 10/Eclipse Gray/2 kg), FX516PE-HN088TS']\n",
      "['₹1,09,990.00', '₹1,03,100.00', '₹81,990.00', '₹84,990.00', '-', '-', '₹71,990.00', '₹1,09,990.00', '₹74,990.00', '₹1,07,990.00']\n",
      "['4.1 out of 5', '4.2 out of 5', '3.7 out of 5', '4.3 out of 5', '4.4 out of 5', '4.4 out of 5', '4 out of 5', '4.1 out of 5', '4.6 out of 5', '4.6 out of 5']\n"
     ]
    }
   ],
   "source": [
    "print(title_list)\n",
    "print(price_list)\n",
    "print(rating_list)"
   ]
  },
  {
   "cell_type": "code",
   "execution_count": 238,
   "metadata": {},
   "outputs": [
    {
     "data": {
      "text/html": [
       "<div>\n",
       "<style scoped>\n",
       "    .dataframe tbody tr th:only-of-type {\n",
       "        vertical-align: middle;\n",
       "    }\n",
       "\n",
       "    .dataframe tbody tr th {\n",
       "        vertical-align: top;\n",
       "    }\n",
       "\n",
       "    .dataframe thead th {\n",
       "        text-align: right;\n",
       "    }\n",
       "</style>\n",
       "<table border=\"1\" class=\"dataframe\">\n",
       "  <thead>\n",
       "    <tr style=\"text-align: right;\">\n",
       "      <th></th>\n",
       "      <th>Title</th>\n",
       "      <th>Rating</th>\n",
       "      <th>Price list</th>\n",
       "    </tr>\n",
       "  </thead>\n",
       "  <tbody>\n",
       "    <tr>\n",
       "      <th>1</th>\n",
       "      <td>HP Envy 11th Gen Core i7 Processor 13.3-inch (...</td>\n",
       "      <td>4.1 out of 5</td>\n",
       "      <td>₹1,09,990.00</td>\n",
       "    </tr>\n",
       "    <tr>\n",
       "      <th>2</th>\n",
       "      <td>Lenovo Yoga 7 11th Gen Intel Core i7-1165G7 14...</td>\n",
       "      <td>4.2 out of 5</td>\n",
       "      <td>₹1,03,100.00</td>\n",
       "    </tr>\n",
       "    <tr>\n",
       "      <th>3</th>\n",
       "      <td>MSI GF65 Thin, Intel i7-10750H, 15.6\" FHD (39....</td>\n",
       "      <td>3.7 out of 5</td>\n",
       "      <td>₹81,990.00</td>\n",
       "    </tr>\n",
       "    <tr>\n",
       "      <th>4</th>\n",
       "      <td>HP Pavilion (2021) Thin &amp; Light 11th Gen Core ...</td>\n",
       "      <td>4.3 out of 5</td>\n",
       "      <td>₹84,990.00</td>\n",
       "    </tr>\n",
       "    <tr>\n",
       "      <th>5</th>\n",
       "      <td>Mi Notebook Horizon Edition 14 Intel Core i7-1...</td>\n",
       "      <td>4.4 out of 5</td>\n",
       "      <td>-</td>\n",
       "    </tr>\n",
       "    <tr>\n",
       "      <th>6</th>\n",
       "      <td>HP Pavilion Gaming(2021) 10th Gen Intel Core i...</td>\n",
       "      <td>4.4 out of 5</td>\n",
       "      <td>-</td>\n",
       "    </tr>\n",
       "    <tr>\n",
       "      <th>7</th>\n",
       "      <td>ASUS TUF Gaming F15 (2020), 15.6-inch (39.62 c...</td>\n",
       "      <td>4 out of 5</td>\n",
       "      <td>₹71,990.00</td>\n",
       "    </tr>\n",
       "    <tr>\n",
       "      <th>8</th>\n",
       "      <td>HP Envy 11th Gen Core i7 Processor 13.3-inch (...</td>\n",
       "      <td>4.1 out of 5</td>\n",
       "      <td>₹1,09,990.00</td>\n",
       "    </tr>\n",
       "    <tr>\n",
       "      <th>9</th>\n",
       "      <td>MSI GF75 Thin, Intel i7-10750H, 17.3\" (43.9 cm...</td>\n",
       "      <td>4.6 out of 5</td>\n",
       "      <td>₹74,990.00</td>\n",
       "    </tr>\n",
       "    <tr>\n",
       "      <th>10</th>\n",
       "      <td>ASUS TUF Dash F15 (2021), 15.6\" (39.62 cms) FH...</td>\n",
       "      <td>4.6 out of 5</td>\n",
       "      <td>₹1,07,990.00</td>\n",
       "    </tr>\n",
       "  </tbody>\n",
       "</table>\n",
       "</div>"
      ],
      "text/plain": [
       "                                                Title        Rating  \\\n",
       "1   HP Envy 11th Gen Core i7 Processor 13.3-inch (...  4.1 out of 5   \n",
       "2   Lenovo Yoga 7 11th Gen Intel Core i7-1165G7 14...  4.2 out of 5   \n",
       "3   MSI GF65 Thin, Intel i7-10750H, 15.6\" FHD (39....  3.7 out of 5   \n",
       "4   HP Pavilion (2021) Thin & Light 11th Gen Core ...  4.3 out of 5   \n",
       "5   Mi Notebook Horizon Edition 14 Intel Core i7-1...  4.4 out of 5   \n",
       "6   HP Pavilion Gaming(2021) 10th Gen Intel Core i...  4.4 out of 5   \n",
       "7   ASUS TUF Gaming F15 (2020), 15.6-inch (39.62 c...    4 out of 5   \n",
       "8   HP Envy 11th Gen Core i7 Processor 13.3-inch (...  4.1 out of 5   \n",
       "9   MSI GF75 Thin, Intel i7-10750H, 17.3\" (43.9 cm...  4.6 out of 5   \n",
       "10  ASUS TUF Dash F15 (2021), 15.6\" (39.62 cms) FH...  4.6 out of 5   \n",
       "\n",
       "      Price list  \n",
       "1   ₹1,09,990.00  \n",
       "2   ₹1,03,100.00  \n",
       "3     ₹81,990.00  \n",
       "4     ₹84,990.00  \n",
       "5              -  \n",
       "6              -  \n",
       "7     ₹71,990.00  \n",
       "8   ₹1,09,990.00  \n",
       "9     ₹74,990.00  \n",
       "10  ₹1,07,990.00  "
      ]
     },
     "execution_count": 238,
     "metadata": {},
     "output_type": "execute_result"
    }
   ],
   "source": [
    "# Creating dataframe to store the lists\n",
    "import numpy as np\n",
    "df=pd.DataFrame({})\n",
    "df['Title']=title_list\n",
    "df['Rating']=rating_list[0:10]\n",
    "df['Price list']=price_list[0:10]\n",
    "df.index=np.arange(1,len(title_list[0:10])+1)\n",
    "df"
   ]
  }
 ],
 "metadata": {
  "kernelspec": {
   "display_name": "Python 3",
   "language": "python",
   "name": "python3"
  },
  "language_info": {
   "codemirror_mode": {
    "name": "ipython",
    "version": 3
   },
   "file_extension": ".py",
   "mimetype": "text/x-python",
   "name": "python",
   "nbconvert_exporter": "python",
   "pygments_lexer": "ipython3",
   "version": "3.7.3"
  }
 },
 "nbformat": 4,
 "nbformat_minor": 2
}
